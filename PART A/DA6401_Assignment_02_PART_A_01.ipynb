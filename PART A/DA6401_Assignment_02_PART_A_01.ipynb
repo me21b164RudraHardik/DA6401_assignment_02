{
  "cells": [
    {
      "cell_type": "markdown",
      "metadata": {
        "id": "DONd0E1k4hMt"
      },
      "source": [
        "### Importing libraries"
      ]
    },
    {
      "cell_type": "code",
      "execution_count": null,
      "metadata": {},
      "outputs": [],
      "source": [
        "import torch\n",
        "import torch.nn as nn\n",
        "import torchvision\n",
        "import torchvision.transforms as transforms\n",
        "from torchvision.datasets import ImageFolder\n",
        "from torch.utils.data import DataLoader\n",
        "import pytorch_lightning as pl\n",
        "from pytorch_lightning import Trainer\n",
        "from pytorch_lightning.callbacks import EarlyStopping, ModelCheckpoint\n",
        "from pytorch_lightning.loggers import CSVLogger\n",
        "import torchmetrics\n",
        "import wandb"
      ]
    },
    {
      "cell_type": "markdown",
      "metadata": {
        "id": "fgScCmMa6XB5"
      },
      "source": [
        "### Download Dataset"
      ]
    },
    {
      "cell_type": "code",
      "execution_count": null,
      "metadata": {
        "colab": {
          "base_uri": "https://localhost:8080/"
        },
        "id": "nau-Fbg-R-9A",
        "outputId": "a3bc473f-08b7-404e-fa75-6c1e74e3859e"
      },
      "outputs": [
        {
          "name": "stdout",
          "output_type": "stream",
          "text": [
            "Mounted at /content/drive\n"
          ]
        }
      ],
      "source": [
        "# Mount Google Drive and unzip the dataset\n",
        "from google.colab import drive\n",
        "import zipfile\n",
        "import os\n",
        "\n",
        "drive.mount('/content/drive')\n",
        "\n",
        "# Unzip dataset if not already unzipped\n",
        "zip_path = '/content/drive/MyDrive/inaturalist_12K.zip'\n",
        "extract_path = '/content/inaturalist_12K'\n",
        "\n",
        "if not os.path.exists(extract_path):\n",
        "    with zipfile.ZipFile(zip_path, 'r') as zip_ref:\n",
        "        zip_ref.extractall('/content/')\n"
      ]
    },
    {
      "cell_type": "code",
      "execution_count": null,
      "metadata": {
        "colab": {
          "base_uri": "https://localhost:8080/",
          "height": 1000
        },
        "id": "__dV_f6TjAe5",
        "outputId": "faeb2051-c295-424b-88c0-7780fc79e265"
      },
      "outputs": [
        {
          "name": "stderr",
          "output_type": "stream",
          "text": [
            "\u001b[34m\u001b[1mwandb\u001b[0m: Using wandb-core as the SDK backend.  Please refer to https://wandb.me/wandb-core for more information.\n"
          ]
        },
        {
          "name": "stdout",
          "output_type": "stream",
          "text": [
            "Create sweep with ID: szhxr0m3\n",
            "Sweep URL: https://wandb.ai/me21b164-indian-institute-of-technology-madras/A2/sweeps/szhxr0m3\n"
          ]
        },
        {
          "name": "stderr",
          "output_type": "stream",
          "text": [
            "\u001b[34m\u001b[1mwandb\u001b[0m: Agent Starting Run: n3lyoluh with config:\n",
            "\u001b[34m\u001b[1mwandb\u001b[0m: \tactivation_fn: GELU\n",
            "\u001b[34m\u001b[1mwandb\u001b[0m: \tbatch_size: 32\n",
            "\u001b[34m\u001b[1mwandb\u001b[0m: \tconv_filters: [32, 32, 32, 32, 32]\n",
            "\u001b[34m\u001b[1mwandb\u001b[0m: \tdata_dir: /content/inaturalist_12K\n",
            "\u001b[34m\u001b[1mwandb\u001b[0m: \tdense_units: 128\n",
            "\u001b[34m\u001b[1mwandb\u001b[0m: \tdropout: 0.3\n",
            "\u001b[34m\u001b[1mwandb\u001b[0m: \tepochs: 10\n",
            "\u001b[34m\u001b[1mwandb\u001b[0m: \tkernel_sizes: [5, 5, 5, 5, 5]\n",
            "\u001b[34m\u001b[1mwandb\u001b[0m: \tlr: 0.005911937250248187\n",
            "\u001b[34m\u001b[1mwandb\u001b[0m: Currently logged in as: \u001b[33mme21b164\u001b[0m (\u001b[33mme21b164-indian-institute-of-technology-madras\u001b[0m) to \u001b[32mhttps://api.wandb.ai\u001b[0m. Use \u001b[1m`wandb login --relogin`\u001b[0m to force relogin\n"
          ]
        },
        {
          "data": {
            "text/html": [
              "Tracking run with wandb version 0.19.9"
            ],
            "text/plain": [
              "<IPython.core.display.HTML object>"
            ]
          },
          "metadata": {},
          "output_type": "display_data"
        },
        {
          "data": {
            "text/html": [
              "Run data is saved locally in <code>/content/wandb/run-20250418_155811-n3lyoluh</code>"
            ],
            "text/plain": [
              "<IPython.core.display.HTML object>"
            ]
          },
          "metadata": {},
          "output_type": "display_data"
        },
        {
          "data": {
            "text/html": [
              "Syncing run <strong><a href='https://wandb.ai/me21b164-indian-institute-of-technology-madras/A2/runs/n3lyoluh' target=\"_blank\">decent-sweep-1</a></strong> to <a href='https://wandb.ai/me21b164-indian-institute-of-technology-madras/A2' target=\"_blank\">Weights & Biases</a> (<a href='https://wandb.me/developer-guide' target=\"_blank\">docs</a>)<br>Sweep page: <a href='https://wandb.ai/me21b164-indian-institute-of-technology-madras/A2/sweeps/szhxr0m3' target=\"_blank\">https://wandb.ai/me21b164-indian-institute-of-technology-madras/A2/sweeps/szhxr0m3</a>"
            ],
            "text/plain": [
              "<IPython.core.display.HTML object>"
            ]
          },
          "metadata": {},
          "output_type": "display_data"
        },
        {
          "data": {
            "text/html": [
              " View project at <a href='https://wandb.ai/me21b164-indian-institute-of-technology-madras/A2' target=\"_blank\">https://wandb.ai/me21b164-indian-institute-of-technology-madras/A2</a>"
            ],
            "text/plain": [
              "<IPython.core.display.HTML object>"
            ]
          },
          "metadata": {},
          "output_type": "display_data"
        },
        {
          "data": {
            "text/html": [
              " View sweep at <a href='https://wandb.ai/me21b164-indian-institute-of-technology-madras/A2/sweeps/szhxr0m3' target=\"_blank\">https://wandb.ai/me21b164-indian-institute-of-technology-madras/A2/sweeps/szhxr0m3</a>"
            ],
            "text/plain": [
              "<IPython.core.display.HTML object>"
            ]
          },
          "metadata": {},
          "output_type": "display_data"
        },
        {
          "data": {
            "text/html": [
              " View run at <a href='https://wandb.ai/me21b164-indian-institute-of-technology-madras/A2/runs/n3lyoluh' target=\"_blank\">https://wandb.ai/me21b164-indian-institute-of-technology-madras/A2/runs/n3lyoluh</a>"
            ],
            "text/plain": [
              "<IPython.core.display.HTML object>"
            ]
          },
          "metadata": {},
          "output_type": "display_data"
        },
        {
          "name": "stderr",
          "output_type": "stream",
          "text": [
            "Epoch 1 [Train]: 100%|██████████| 125/125 [00:41<00:00,  3.04it/s]\n",
            "Epoch 1 [Val]: 100%|██████████| 32/32 [00:08<00:00,  3.75it/s]\n",
            "Epoch 2 [Train]: 100%|██████████| 125/125 [00:44<00:00,  2.83it/s]\n",
            "Epoch 2 [Val]: 100%|██████████| 32/32 [00:08<00:00,  3.97it/s]\n",
            "Epoch 3 [Train]: 100%|██████████| 125/125 [00:40<00:00,  3.08it/s]\n",
            "Epoch 3 [Val]: 100%|██████████| 32/32 [00:09<00:00,  3.43it/s]\n",
            "Epoch 4 [Train]: 100%|██████████| 125/125 [00:40<00:00,  3.06it/s]\n",
            "Epoch 4 [Val]: 100%|██████████| 32/32 [00:08<00:00,  3.86it/s]\n",
            "Epoch 5 [Train]: 100%|██████████| 125/125 [00:40<00:00,  3.11it/s]\n",
            "Epoch 5 [Val]: 100%|██████████| 32/32 [00:09<00:00,  3.47it/s]\n",
            "Epoch 6 [Train]: 100%|██████████| 125/125 [00:40<00:00,  3.11it/s]\n",
            "Epoch 6 [Val]: 100%|██████████| 32/32 [00:08<00:00,  3.67it/s]\n",
            "Epoch 7 [Train]: 100%|██████████| 125/125 [00:41<00:00,  2.99it/s]\n",
            "Epoch 7 [Val]: 100%|██████████| 32/32 [00:08<00:00,  3.85it/s]\n",
            "Epoch 8 [Train]: 100%|██████████| 125/125 [00:40<00:00,  3.11it/s]\n",
            "Epoch 8 [Val]: 100%|██████████| 32/32 [00:09<00:00,  3.44it/s]\n",
            "Epoch 9 [Train]: 100%|██████████| 125/125 [00:40<00:00,  3.12it/s]\n",
            "Epoch 9 [Val]: 100%|██████████| 32/32 [00:07<00:00,  4.03it/s]\n",
            "Epoch 10 [Train]: 100%|██████████| 125/125 [00:39<00:00,  3.14it/s]\n",
            "Epoch 10 [Val]: 100%|██████████| 32/32 [00:09<00:00,  3.48it/s]\n"
          ]
        },
        {
          "data": {
            "text/html": [],
            "text/plain": [
              "<IPython.core.display.HTML object>"
            ]
          },
          "metadata": {},
          "output_type": "display_data"
        },
        {
          "data": {
            "text/html": [
              "<br>    <style><br>        .wandb-row {<br>            display: flex;<br>            flex-direction: row;<br>            flex-wrap: wrap;<br>            justify-content: flex-start;<br>            width: 100%;<br>        }<br>        .wandb-col {<br>            display: flex;<br>            flex-direction: column;<br>            flex-basis: 100%;<br>            flex: 1;<br>            padding: 10px;<br>        }<br>    </style><br><div class=\"wandb-row\"><div class=\"wandb-col\"><h3>Run history:</h3><br/><table class=\"wandb\"><tr><td>epoch</td><td>▁▂▃▃▄▅▆▆▇█</td></tr><tr><td>train_accuracy</td><td>▁▃▂▆█▅▄▄▇▄</td></tr><tr><td>train_loss</td><td>▂▁█▁▁▁▁▁▁▁</td></tr><tr><td>val_accuracy</td><td>▇▅▅▁▁▁▅▁█▅</td></tr><tr><td>val_loss</td><td>▁█▂▅▄▂▃▂▂▃</td></tr></table><br/></div><div class=\"wandb-col\"><h3>Run summary:</h3><br/><table class=\"wandb\"><tr><td>epoch</td><td>10</td></tr><tr><td>train_accuracy</td><td>0.09782</td></tr><tr><td>train_loss</td><td>2.30682</td></tr><tr><td>val_accuracy</td><td>0.10059</td></tr><tr><td>val_loss</td><td>2.30403</td></tr></table><br/></div></div>"
            ],
            "text/plain": [
              "<IPython.core.display.HTML object>"
            ]
          },
          "metadata": {},
          "output_type": "display_data"
        },
        {
          "data": {
            "text/html": [
              " View run <strong style=\"color:#cdcd00\">decent-sweep-1</strong> at: <a href='https://wandb.ai/me21b164-indian-institute-of-technology-madras/A2/runs/n3lyoluh' target=\"_blank\">https://wandb.ai/me21b164-indian-institute-of-technology-madras/A2/runs/n3lyoluh</a><br> View project at: <a href='https://wandb.ai/me21b164-indian-institute-of-technology-madras/A2' target=\"_blank\">https://wandb.ai/me21b164-indian-institute-of-technology-madras/A2</a><br>Synced 5 W&B file(s), 0 media file(s), 0 artifact file(s) and 0 other file(s)"
            ],
            "text/plain": [
              "<IPython.core.display.HTML object>"
            ]
          },
          "metadata": {},
          "output_type": "display_data"
        },
        {
          "data": {
            "text/html": [
              "Find logs at: <code>./wandb/run-20250418_155811-n3lyoluh/logs</code>"
            ],
            "text/plain": [
              "<IPython.core.display.HTML object>"
            ]
          },
          "metadata": {},
          "output_type": "display_data"
        },
        {
          "name": "stderr",
          "output_type": "stream",
          "text": [
            "\u001b[34m\u001b[1mwandb\u001b[0m: Agent Starting Run: upnelbgm with config:\n",
            "\u001b[34m\u001b[1mwandb\u001b[0m: \tactivation_fn: ReLU\n",
            "\u001b[34m\u001b[1mwandb\u001b[0m: \tbatch_size: 64\n",
            "\u001b[34m\u001b[1mwandb\u001b[0m: \tconv_filters: [64, 64, 64, 64, 64]\n",
            "\u001b[34m\u001b[1mwandb\u001b[0m: \tdata_dir: /content/inaturalist_12K\n",
            "\u001b[34m\u001b[1mwandb\u001b[0m: \tdense_units: 512\n",
            "\u001b[34m\u001b[1mwandb\u001b[0m: \tdropout: 0.5\n",
            "\u001b[34m\u001b[1mwandb\u001b[0m: \tepochs: 10\n",
            "\u001b[34m\u001b[1mwandb\u001b[0m: \tkernel_sizes: [3, 3, 3, 3, 3]\n",
            "\u001b[34m\u001b[1mwandb\u001b[0m: \tlr: 0.009129808698931624\n"
          ]
        },
        {
          "data": {
            "text/html": [
              "Tracking run with wandb version 0.19.9"
            ],
            "text/plain": [
              "<IPython.core.display.HTML object>"
            ]
          },
          "metadata": {},
          "output_type": "display_data"
        },
        {
          "data": {
            "text/html": [
              "Run data is saved locally in <code>/content/wandb/run-20250418_160632-upnelbgm</code>"
            ],
            "text/plain": [
              "<IPython.core.display.HTML object>"
            ]
          },
          "metadata": {},
          "output_type": "display_data"
        },
        {
          "data": {
            "text/html": [
              "Syncing run <strong><a href='https://wandb.ai/me21b164-indian-institute-of-technology-madras/A2/runs/upnelbgm' target=\"_blank\">happy-sweep-2</a></strong> to <a href='https://wandb.ai/me21b164-indian-institute-of-technology-madras/A2' target=\"_blank\">Weights & Biases</a> (<a href='https://wandb.me/developer-guide' target=\"_blank\">docs</a>)<br>Sweep page: <a href='https://wandb.ai/me21b164-indian-institute-of-technology-madras/A2/sweeps/szhxr0m3' target=\"_blank\">https://wandb.ai/me21b164-indian-institute-of-technology-madras/A2/sweeps/szhxr0m3</a>"
            ],
            "text/plain": [
              "<IPython.core.display.HTML object>"
            ]
          },
          "metadata": {},
          "output_type": "display_data"
        },
        {
          "data": {
            "text/html": [
              " View project at <a href='https://wandb.ai/me21b164-indian-institute-of-technology-madras/A2' target=\"_blank\">https://wandb.ai/me21b164-indian-institute-of-technology-madras/A2</a>"
            ],
            "text/plain": [
              "<IPython.core.display.HTML object>"
            ]
          },
          "metadata": {},
          "output_type": "display_data"
        },
        {
          "data": {
            "text/html": [
              " View sweep at <a href='https://wandb.ai/me21b164-indian-institute-of-technology-madras/A2/sweeps/szhxr0m3' target=\"_blank\">https://wandb.ai/me21b164-indian-institute-of-technology-madras/A2/sweeps/szhxr0m3</a>"
            ],
            "text/plain": [
              "<IPython.core.display.HTML object>"
            ]
          },
          "metadata": {},
          "output_type": "display_data"
        },
        {
          "data": {
            "text/html": [
              " View run at <a href='https://wandb.ai/me21b164-indian-institute-of-technology-madras/A2/runs/upnelbgm' target=\"_blank\">https://wandb.ai/me21b164-indian-institute-of-technology-madras/A2/runs/upnelbgm</a>"
            ],
            "text/plain": [
              "<IPython.core.display.HTML object>"
            ]
          },
          "metadata": {},
          "output_type": "display_data"
        },
        {
          "name": "stderr",
          "output_type": "stream",
          "text": [
            "Epoch 1 [Train]: 100%|██████████| 63/63 [00:41<00:00,  1.51it/s]\n",
            "Epoch 1 [Val]: 100%|██████████| 16/16 [00:09<00:00,  1.66it/s]\n",
            "Epoch 2 [Train]: 100%|██████████| 63/63 [00:42<00:00,  1.47it/s]\n",
            "Epoch 2 [Val]: 100%|██████████| 16/16 [00:09<00:00,  1.70it/s]\n",
            "Epoch 3 [Train]: 100%|██████████| 63/63 [00:41<00:00,  1.51it/s]\n",
            "Epoch 3 [Val]: 100%|██████████| 16/16 [00:08<00:00,  1.91it/s]\n",
            "Epoch 4 [Train]: 100%|██████████| 63/63 [00:41<00:00,  1.51it/s]\n",
            "Epoch 4 [Val]: 100%|██████████| 16/16 [00:09<00:00,  1.68it/s]\n",
            "Epoch 5 [Train]: 100%|██████████| 63/63 [00:41<00:00,  1.52it/s]\n",
            "Epoch 5 [Val]: 100%|██████████| 16/16 [00:09<00:00,  1.67it/s]\n",
            "Epoch 6 [Train]: 100%|██████████| 63/63 [00:42<00:00,  1.49it/s]\n",
            "Epoch 6 [Val]: 100%|██████████| 16/16 [00:08<00:00,  1.81it/s]\n",
            "Epoch 7 [Train]: 100%|██████████| 63/63 [00:41<00:00,  1.51it/s]\n",
            "Epoch 7 [Val]: 100%|██████████| 16/16 [00:09<00:00,  1.65it/s]\n",
            "Epoch 8 [Train]: 100%|██████████| 63/63 [00:41<00:00,  1.51it/s]\n",
            "Epoch 8 [Val]: 100%|██████████| 16/16 [00:09<00:00,  1.65it/s]\n",
            "Epoch 9 [Train]: 100%|██████████| 63/63 [00:41<00:00,  1.50it/s]\n",
            "Epoch 9 [Val]: 100%|██████████| 16/16 [00:08<00:00,  1.87it/s]\n",
            "Epoch 10 [Train]: 100%|██████████| 63/63 [00:42<00:00,  1.49it/s]\n",
            "Epoch 10 [Val]: 100%|██████████| 16/16 [00:09<00:00,  1.73it/s]\n"
          ]
        },
        {
          "data": {
            "text/html": [],
            "text/plain": [
              "<IPython.core.display.HTML object>"
            ]
          },
          "metadata": {},
          "output_type": "display_data"
        },
        {
          "data": {
            "text/html": [
              "<br>    <style><br>        .wandb-row {<br>            display: flex;<br>            flex-direction: row;<br>            flex-wrap: wrap;<br>            justify-content: flex-start;<br>            width: 100%;<br>        }<br>        .wandb-col {<br>            display: flex;<br>            flex-direction: column;<br>            flex-basis: 100%;<br>            flex: 1;<br>            padding: 10px;<br>        }<br>    </style><br><div class=\"wandb-row\"><div class=\"wandb-col\"><h3>Run history:</h3><br/><table class=\"wandb\"><tr><td>epoch</td><td>▁▂▃▃▄▅▆▆▇█</td></tr><tr><td>train_accuracy</td><td>█▄▅▁▇▃▄▅▄▃</td></tr><tr><td>train_loss</td><td>█▁▁▁▁▁▁▁▁▁</td></tr><tr><td>val_accuracy</td><td>▃████▃▅▆▅▁</td></tr><tr><td>val_loss</td><td>▅▂▃█▁▃▁▂▂▁</td></tr></table><br/></div><div class=\"wandb-col\"><h3>Run summary:</h3><br/><table class=\"wandb\"><tr><td>epoch</td><td>10</td></tr><tr><td>train_accuracy</td><td>0.09552</td></tr><tr><td>train_loss</td><td>2.31065</td></tr><tr><td>val_accuracy</td><td>0.09883</td></tr><tr><td>val_loss</td><td>2.30581</td></tr></table><br/></div></div>"
            ],
            "text/plain": [
              "<IPython.core.display.HTML object>"
            ]
          },
          "metadata": {},
          "output_type": "display_data"
        },
        {
          "data": {
            "text/html": [
              " View run <strong style=\"color:#cdcd00\">happy-sweep-2</strong> at: <a href='https://wandb.ai/me21b164-indian-institute-of-technology-madras/A2/runs/upnelbgm' target=\"_blank\">https://wandb.ai/me21b164-indian-institute-of-technology-madras/A2/runs/upnelbgm</a><br> View project at: <a href='https://wandb.ai/me21b164-indian-institute-of-technology-madras/A2' target=\"_blank\">https://wandb.ai/me21b164-indian-institute-of-technology-madras/A2</a><br>Synced 5 W&B file(s), 0 media file(s), 0 artifact file(s) and 0 other file(s)"
            ],
            "text/plain": [
              "<IPython.core.display.HTML object>"
            ]
          },
          "metadata": {},
          "output_type": "display_data"
        },
        {
          "data": {
            "text/html": [
              "Find logs at: <code>./wandb/run-20250418_160632-upnelbgm/logs</code>"
            ],
            "text/plain": [
              "<IPython.core.display.HTML object>"
            ]
          },
          "metadata": {},
          "output_type": "display_data"
        },
        {
          "name": "stderr",
          "output_type": "stream",
          "text": [
            "\u001b[34m\u001b[1mwandb\u001b[0m: Agent Starting Run: xqz0evf8 with config:\n",
            "\u001b[34m\u001b[1mwandb\u001b[0m: \tactivation_fn: GELU\n",
            "\u001b[34m\u001b[1mwandb\u001b[0m: \tbatch_size: 32\n",
            "\u001b[34m\u001b[1mwandb\u001b[0m: \tconv_filters: [64, 64, 64, 64, 64]\n",
            "\u001b[34m\u001b[1mwandb\u001b[0m: \tdata_dir: /content/inaturalist_12K\n",
            "\u001b[34m\u001b[1mwandb\u001b[0m: \tdense_units: 128\n",
            "\u001b[34m\u001b[1mwandb\u001b[0m: \tdropout: 0.5\n",
            "\u001b[34m\u001b[1mwandb\u001b[0m: \tepochs: 10\n",
            "\u001b[34m\u001b[1mwandb\u001b[0m: \tkernel_sizes: [3, 3, 3, 3, 3]\n",
            "\u001b[34m\u001b[1mwandb\u001b[0m: \tlr: 0.0005331033016904737\n"
          ]
        },
        {
          "data": {
            "text/html": [
              "Tracking run with wandb version 0.19.9"
            ],
            "text/plain": [
              "<IPython.core.display.HTML object>"
            ]
          },
          "metadata": {},
          "output_type": "display_data"
        },
        {
          "data": {
            "text/html": [
              "Run data is saved locally in <code>/content/wandb/run-20250418_161510-xqz0evf8</code>"
            ],
            "text/plain": [
              "<IPython.core.display.HTML object>"
            ]
          },
          "metadata": {},
          "output_type": "display_data"
        },
        {
          "data": {
            "text/html": [
              "Syncing run <strong><a href='https://wandb.ai/me21b164-indian-institute-of-technology-madras/A2/runs/xqz0evf8' target=\"_blank\">magic-sweep-3</a></strong> to <a href='https://wandb.ai/me21b164-indian-institute-of-technology-madras/A2' target=\"_blank\">Weights & Biases</a> (<a href='https://wandb.me/developer-guide' target=\"_blank\">docs</a>)<br>Sweep page: <a href='https://wandb.ai/me21b164-indian-institute-of-technology-madras/A2/sweeps/szhxr0m3' target=\"_blank\">https://wandb.ai/me21b164-indian-institute-of-technology-madras/A2/sweeps/szhxr0m3</a>"
            ],
            "text/plain": [
              "<IPython.core.display.HTML object>"
            ]
          },
          "metadata": {},
          "output_type": "display_data"
        },
        {
          "data": {
            "text/html": [
              " View project at <a href='https://wandb.ai/me21b164-indian-institute-of-technology-madras/A2' target=\"_blank\">https://wandb.ai/me21b164-indian-institute-of-technology-madras/A2</a>"
            ],
            "text/plain": [
              "<IPython.core.display.HTML object>"
            ]
          },
          "metadata": {},
          "output_type": "display_data"
        },
        {
          "data": {
            "text/html": [
              " View sweep at <a href='https://wandb.ai/me21b164-indian-institute-of-technology-madras/A2/sweeps/szhxr0m3' target=\"_blank\">https://wandb.ai/me21b164-indian-institute-of-technology-madras/A2/sweeps/szhxr0m3</a>"
            ],
            "text/plain": [
              "<IPython.core.display.HTML object>"
            ]
          },
          "metadata": {},
          "output_type": "display_data"
        },
        {
          "data": {
            "text/html": [
              " View run at <a href='https://wandb.ai/me21b164-indian-institute-of-technology-madras/A2/runs/xqz0evf8' target=\"_blank\">https://wandb.ai/me21b164-indian-institute-of-technology-madras/A2/runs/xqz0evf8</a>"
            ],
            "text/plain": [
              "<IPython.core.display.HTML object>"
            ]
          },
          "metadata": {},
          "output_type": "display_data"
        },
        {
          "name": "stderr",
          "output_type": "stream",
          "text": [
            "Epoch 1 [Train]: 100%|██████████| 125/125 [00:44<00:00,  2.80it/s]\n",
            "Epoch 1 [Val]: 100%|██████████| 32/32 [00:09<00:00,  3.50it/s]\n",
            "Epoch 2 [Train]: 100%|██████████| 125/125 [00:43<00:00,  2.87it/s]\n",
            "Epoch 2 [Val]: 100%|██████████| 32/32 [00:08<00:00,  3.89it/s]\n",
            "Epoch 3 [Train]: 100%|██████████| 125/125 [00:43<00:00,  2.88it/s]\n",
            "Epoch 3 [Val]: 100%|██████████| 32/32 [00:09<00:00,  3.47it/s]\n",
            "Epoch 4 [Train]: 100%|██████████| 125/125 [00:43<00:00,  2.89it/s]\n",
            "Epoch 4 [Val]: 100%|██████████| 32/32 [00:09<00:00,  3.36it/s]\n",
            "Epoch 5 [Train]: 100%|██████████| 125/125 [00:44<00:00,  2.82it/s]\n",
            "Epoch 5 [Val]: 100%|██████████| 32/32 [00:09<00:00,  3.35it/s]\n",
            "Epoch 6 [Train]: 100%|██████████| 125/125 [00:43<00:00,  2.88it/s]\n",
            "Epoch 6 [Val]: 100%|██████████| 32/32 [00:09<00:00,  3.35it/s]\n",
            "Epoch 7 [Train]: 100%|██████████| 125/125 [00:43<00:00,  2.91it/s]\n",
            "Epoch 7 [Val]: 100%|██████████| 32/32 [00:08<00:00,  3.63it/s]\n",
            "Epoch 8 [Train]: 100%|██████████| 125/125 [00:43<00:00,  2.86it/s]\n",
            "Epoch 8 [Val]: 100%|██████████| 32/32 [00:08<00:00,  3.84it/s]\n",
            "Epoch 9 [Train]: 100%|██████████| 125/125 [00:43<00:00,  2.89it/s]\n",
            "Epoch 9 [Val]: 100%|██████████| 32/32 [00:09<00:00,  3.42it/s]\n",
            "Epoch 10 [Train]: 100%|██████████| 125/125 [00:44<00:00,  2.82it/s]\n",
            "Epoch 10 [Val]: 100%|██████████| 32/32 [00:09<00:00,  3.36it/s]\n"
          ]
        },
        {
          "data": {
            "text/html": [],
            "text/plain": [
              "<IPython.core.display.HTML object>"
            ]
          },
          "metadata": {},
          "output_type": "display_data"
        },
        {
          "data": {
            "text/html": [
              "<br>    <style><br>        .wandb-row {<br>            display: flex;<br>            flex-direction: row;<br>            flex-wrap: wrap;<br>            justify-content: flex-start;<br>            width: 100%;<br>        }<br>        .wandb-col {<br>            display: flex;<br>            flex-direction: column;<br>            flex-basis: 100%;<br>            flex: 1;<br>            padding: 10px;<br>        }<br>    </style><br><div class=\"wandb-row\"><div class=\"wandb-col\"><h3>Run history:</h3><br/><table class=\"wandb\"><tr><td>epoch</td><td>▁▂▃▃▄▅▆▆▇█</td></tr><tr><td>train_accuracy</td><td>▁▃▄▄▅▆▆▇▇█</td></tr><tr><td>train_loss</td><td>█▇▆▅▄▄▃▂▂▁</td></tr><tr><td>val_accuracy</td><td>▁▃▄▆▇▇████</td></tr><tr><td>val_loss</td><td>█▆▅▄▃▂▁▁▁▁</td></tr></table><br/></div><div class=\"wandb-col\"><h3>Run summary:</h3><br/><table class=\"wandb\"><tr><td>epoch</td><td>10</td></tr><tr><td>train_accuracy</td><td>0.41437</td></tr><tr><td>train_loss</td><td>1.66946</td></tr><tr><td>val_accuracy</td><td>0.37891</td></tr><tr><td>val_loss</td><td>1.8198</td></tr></table><br/></div></div>"
            ],
            "text/plain": [
              "<IPython.core.display.HTML object>"
            ]
          },
          "metadata": {},
          "output_type": "display_data"
        },
        {
          "data": {
            "text/html": [
              " View run <strong style=\"color:#cdcd00\">magic-sweep-3</strong> at: <a href='https://wandb.ai/me21b164-indian-institute-of-technology-madras/A2/runs/xqz0evf8' target=\"_blank\">https://wandb.ai/me21b164-indian-institute-of-technology-madras/A2/runs/xqz0evf8</a><br> View project at: <a href='https://wandb.ai/me21b164-indian-institute-of-technology-madras/A2' target=\"_blank\">https://wandb.ai/me21b164-indian-institute-of-technology-madras/A2</a><br>Synced 5 W&B file(s), 0 media file(s), 0 artifact file(s) and 0 other file(s)"
            ],
            "text/plain": [
              "<IPython.core.display.HTML object>"
            ]
          },
          "metadata": {},
          "output_type": "display_data"
        },
        {
          "data": {
            "text/html": [
              "Find logs at: <code>./wandb/run-20250418_161510-xqz0evf8/logs</code>"
            ],
            "text/plain": [
              "<IPython.core.display.HTML object>"
            ]
          },
          "metadata": {},
          "output_type": "display_data"
        },
        {
          "name": "stderr",
          "output_type": "stream",
          "text": [
            "\u001b[34m\u001b[1mwandb\u001b[0m: Agent Starting Run: umfnxau2 with config:\n",
            "\u001b[34m\u001b[1mwandb\u001b[0m: \tactivation_fn: SiLU\n",
            "\u001b[34m\u001b[1mwandb\u001b[0m: \tbatch_size: 32\n",
            "\u001b[34m\u001b[1mwandb\u001b[0m: \tconv_filters: [32, 64, 128, 128, 256]\n",
            "\u001b[34m\u001b[1mwandb\u001b[0m: \tdata_dir: /content/inaturalist_12K\n",
            "\u001b[34m\u001b[1mwandb\u001b[0m: \tdense_units: 128\n",
            "\u001b[34m\u001b[1mwandb\u001b[0m: \tdropout: 0.5\n",
            "\u001b[34m\u001b[1mwandb\u001b[0m: \tepochs: 10\n",
            "\u001b[34m\u001b[1mwandb\u001b[0m: \tkernel_sizes: [5, 5, 5, 5, 5]\n",
            "\u001b[34m\u001b[1mwandb\u001b[0m: \tlr: 0.007591626785350538\n"
          ]
        },
        {
          "data": {
            "text/html": [
              "Tracking run with wandb version 0.19.9"
            ],
            "text/plain": [
              "<IPython.core.display.HTML object>"
            ]
          },
          "metadata": {},
          "output_type": "display_data"
        },
        {
          "data": {
            "text/html": [
              "Run data is saved locally in <code>/content/wandb/run-20250418_162405-umfnxau2</code>"
            ],
            "text/plain": [
              "<IPython.core.display.HTML object>"
            ]
          },
          "metadata": {},
          "output_type": "display_data"
        },
        {
          "data": {
            "text/html": [
              "Syncing run <strong><a href='https://wandb.ai/me21b164-indian-institute-of-technology-madras/A2/runs/umfnxau2' target=\"_blank\">silver-sweep-4</a></strong> to <a href='https://wandb.ai/me21b164-indian-institute-of-technology-madras/A2' target=\"_blank\">Weights & Biases</a> (<a href='https://wandb.me/developer-guide' target=\"_blank\">docs</a>)<br>Sweep page: <a href='https://wandb.ai/me21b164-indian-institute-of-technology-madras/A2/sweeps/szhxr0m3' target=\"_blank\">https://wandb.ai/me21b164-indian-institute-of-technology-madras/A2/sweeps/szhxr0m3</a>"
            ],
            "text/plain": [
              "<IPython.core.display.HTML object>"
            ]
          },
          "metadata": {},
          "output_type": "display_data"
        },
        {
          "data": {
            "text/html": [
              " View project at <a href='https://wandb.ai/me21b164-indian-institute-of-technology-madras/A2' target=\"_blank\">https://wandb.ai/me21b164-indian-institute-of-technology-madras/A2</a>"
            ],
            "text/plain": [
              "<IPython.core.display.HTML object>"
            ]
          },
          "metadata": {},
          "output_type": "display_data"
        },
        {
          "data": {
            "text/html": [
              " View sweep at <a href='https://wandb.ai/me21b164-indian-institute-of-technology-madras/A2/sweeps/szhxr0m3' target=\"_blank\">https://wandb.ai/me21b164-indian-institute-of-technology-madras/A2/sweeps/szhxr0m3</a>"
            ],
            "text/plain": [
              "<IPython.core.display.HTML object>"
            ]
          },
          "metadata": {},
          "output_type": "display_data"
        },
        {
          "data": {
            "text/html": [
              " View run at <a href='https://wandb.ai/me21b164-indian-institute-of-technology-madras/A2/runs/umfnxau2' target=\"_blank\">https://wandb.ai/me21b164-indian-institute-of-technology-madras/A2/runs/umfnxau2</a>"
            ],
            "text/plain": [
              "<IPython.core.display.HTML object>"
            ]
          },
          "metadata": {},
          "output_type": "display_data"
        },
        {
          "name": "stderr",
          "output_type": "stream",
          "text": [
            "Epoch 1 [Train]: 100%|██████████| 125/125 [00:42<00:00,  2.93it/s]\n",
            "Epoch 1 [Val]: 100%|██████████| 32/32 [00:08<00:00,  3.90it/s]\n",
            "Epoch 2 [Train]: 100%|██████████| 125/125 [00:42<00:00,  2.91it/s]\n",
            "Epoch 2 [Val]: 100%|██████████| 32/32 [00:09<00:00,  3.43it/s]\n",
            "Epoch 3 [Train]: 100%|██████████| 125/125 [00:42<00:00,  2.93it/s]\n",
            "Epoch 3 [Val]: 100%|██████████| 32/32 [00:09<00:00,  3.34it/s]\n",
            "Epoch 4 [Train]: 100%|██████████| 125/125 [00:44<00:00,  2.84it/s]\n",
            "Epoch 4 [Val]: 100%|██████████| 32/32 [00:09<00:00,  3.30it/s]\n",
            "Epoch 5 [Train]: 100%|██████████| 125/125 [00:42<00:00,  2.92it/s]\n",
            "Epoch 5 [Val]: 100%|██████████| 32/32 [00:08<00:00,  3.61it/s]\n",
            "Epoch 6 [Train]: 100%|██████████| 125/125 [00:43<00:00,  2.88it/s]\n",
            "Epoch 6 [Val]: 100%|██████████| 32/32 [00:08<00:00,  3.80it/s]\n",
            "Epoch 7 [Train]: 100%|██████████| 125/125 [00:42<00:00,  2.93it/s]\n",
            "Epoch 7 [Val]: 100%|██████████| 32/32 [00:09<00:00,  3.33it/s]\n",
            "Epoch 8 [Train]: 100%|██████████| 125/125 [00:42<00:00,  2.91it/s]\n",
            "Epoch 8 [Val]: 100%|██████████| 32/32 [00:11<00:00,  2.89it/s]\n",
            "Epoch 9 [Train]: 100%|██████████| 125/125 [00:42<00:00,  2.92it/s]\n",
            "Epoch 9 [Val]: 100%|██████████| 32/32 [00:09<00:00,  3.39it/s]\n",
            "Epoch 10 [Train]: 100%|██████████| 125/125 [00:42<00:00,  2.91it/s]\n",
            "Epoch 10 [Val]: 100%|██████████| 32/32 [00:08<00:00,  3.75it/s]\n"
          ]
        },
        {
          "data": {
            "text/html": [],
            "text/plain": [
              "<IPython.core.display.HTML object>"
            ]
          },
          "metadata": {},
          "output_type": "display_data"
        },
        {
          "data": {
            "text/html": [
              "<br>    <style><br>        .wandb-row {<br>            display: flex;<br>            flex-direction: row;<br>            flex-wrap: wrap;<br>            justify-content: flex-start;<br>            width: 100%;<br>        }<br>        .wandb-col {<br>            display: flex;<br>            flex-direction: column;<br>            flex-basis: 100%;<br>            flex: 1;<br>            padding: 10px;<br>        }<br>    </style><br><div class=\"wandb-row\"><div class=\"wandb-col\"><h3>Run history:</h3><br/><table class=\"wandb\"><tr><td>epoch</td><td>▁▂▃▃▄▅▆▆▇█</td></tr><tr><td>train_accuracy</td><td>▆█▆▃▅█▂▆▁▄</td></tr><tr><td>train_loss</td><td>█▁▁▁▁▁▁▁▁▁</td></tr><tr><td>val_accuracy</td><td>███▁█▁███▁</td></tr><tr><td>val_loss</td><td>▂▂▁▂█▂▃▅▃▁</td></tr></table><br/></div><div class=\"wandb-col\"><h3>Run summary:</h3><br/><table class=\"wandb\"><tr><td>epoch</td><td>10</td></tr><tr><td>train_accuracy</td><td>0.09404</td></tr><tr><td>train_loss</td><td>2.30924</td></tr><tr><td>val_accuracy</td><td>0.09766</td></tr><tr><td>val_loss</td><td>2.30325</td></tr></table><br/></div></div>"
            ],
            "text/plain": [
              "<IPython.core.display.HTML object>"
            ]
          },
          "metadata": {},
          "output_type": "display_data"
        },
        {
          "data": {
            "text/html": [
              " View run <strong style=\"color:#cdcd00\">silver-sweep-4</strong> at: <a href='https://wandb.ai/me21b164-indian-institute-of-technology-madras/A2/runs/umfnxau2' target=\"_blank\">https://wandb.ai/me21b164-indian-institute-of-technology-madras/A2/runs/umfnxau2</a><br> View project at: <a href='https://wandb.ai/me21b164-indian-institute-of-technology-madras/A2' target=\"_blank\">https://wandb.ai/me21b164-indian-institute-of-technology-madras/A2</a><br>Synced 5 W&B file(s), 0 media file(s), 0 artifact file(s) and 0 other file(s)"
            ],
            "text/plain": [
              "<IPython.core.display.HTML object>"
            ]
          },
          "metadata": {},
          "output_type": "display_data"
        },
        {
          "data": {
            "text/html": [
              "Find logs at: <code>./wandb/run-20250418_162405-umfnxau2/logs</code>"
            ],
            "text/plain": [
              "<IPython.core.display.HTML object>"
            ]
          },
          "metadata": {},
          "output_type": "display_data"
        },
        {
          "name": "stderr",
          "output_type": "stream",
          "text": [
            "\u001b[34m\u001b[1mwandb\u001b[0m: Agent Starting Run: mdbwx88s with config:\n",
            "\u001b[34m\u001b[1mwandb\u001b[0m: \tactivation_fn: GELU\n",
            "\u001b[34m\u001b[1mwandb\u001b[0m: \tbatch_size: 64\n",
            "\u001b[34m\u001b[1mwandb\u001b[0m: \tconv_filters: [64, 64, 64, 64, 64]\n",
            "\u001b[34m\u001b[1mwandb\u001b[0m: \tdata_dir: /content/inaturalist_12K\n",
            "\u001b[34m\u001b[1mwandb\u001b[0m: \tdense_units: 128\n",
            "\u001b[34m\u001b[1mwandb\u001b[0m: \tdropout: 0.5\n",
            "\u001b[34m\u001b[1mwandb\u001b[0m: \tepochs: 10\n",
            "\u001b[34m\u001b[1mwandb\u001b[0m: \tkernel_sizes: [5, 5, 5, 5, 5]\n",
            "\u001b[34m\u001b[1mwandb\u001b[0m: \tlr: 0.0014428419060123472\n"
          ]
        },
        {
          "data": {
            "text/html": [
              "Tracking run with wandb version 0.19.9"
            ],
            "text/plain": [
              "<IPython.core.display.HTML object>"
            ]
          },
          "metadata": {},
          "output_type": "display_data"
        },
        {
          "data": {
            "text/html": [
              "Run data is saved locally in <code>/content/wandb/run-20250418_163253-mdbwx88s</code>"
            ],
            "text/plain": [
              "<IPython.core.display.HTML object>"
            ]
          },
          "metadata": {},
          "output_type": "display_data"
        },
        {
          "data": {
            "text/html": [
              "Syncing run <strong><a href='https://wandb.ai/me21b164-indian-institute-of-technology-madras/A2/runs/mdbwx88s' target=\"_blank\">fragrant-sweep-5</a></strong> to <a href='https://wandb.ai/me21b164-indian-institute-of-technology-madras/A2' target=\"_blank\">Weights & Biases</a> (<a href='https://wandb.me/developer-guide' target=\"_blank\">docs</a>)<br>Sweep page: <a href='https://wandb.ai/me21b164-indian-institute-of-technology-madras/A2/sweeps/szhxr0m3' target=\"_blank\">https://wandb.ai/me21b164-indian-institute-of-technology-madras/A2/sweeps/szhxr0m3</a>"
            ],
            "text/plain": [
              "<IPython.core.display.HTML object>"
            ]
          },
          "metadata": {},
          "output_type": "display_data"
        },
        {
          "data": {
            "text/html": [
              " View project at <a href='https://wandb.ai/me21b164-indian-institute-of-technology-madras/A2' target=\"_blank\">https://wandb.ai/me21b164-indian-institute-of-technology-madras/A2</a>"
            ],
            "text/plain": [
              "<IPython.core.display.HTML object>"
            ]
          },
          "metadata": {},
          "output_type": "display_data"
        },
        {
          "data": {
            "text/html": [
              " View sweep at <a href='https://wandb.ai/me21b164-indian-institute-of-technology-madras/A2/sweeps/szhxr0m3' target=\"_blank\">https://wandb.ai/me21b164-indian-institute-of-technology-madras/A2/sweeps/szhxr0m3</a>"
            ],
            "text/plain": [
              "<IPython.core.display.HTML object>"
            ]
          },
          "metadata": {},
          "output_type": "display_data"
        },
        {
          "data": {
            "text/html": [
              " View run at <a href='https://wandb.ai/me21b164-indian-institute-of-technology-madras/A2/runs/mdbwx88s' target=\"_blank\">https://wandb.ai/me21b164-indian-institute-of-technology-madras/A2/runs/mdbwx88s</a>"
            ],
            "text/plain": [
              "<IPython.core.display.HTML object>"
            ]
          },
          "metadata": {},
          "output_type": "display_data"
        },
        {
          "name": "stderr",
          "output_type": "stream",
          "text": [
            "Epoch 1 [Train]: 100%|██████████| 63/63 [00:44<00:00,  1.43it/s]\n",
            "Epoch 1 [Val]: 100%|██████████| 16/16 [00:09<00:00,  1.60it/s]\n",
            "Epoch 2 [Train]: 100%|██████████| 63/63 [00:45<00:00,  1.40it/s]\n",
            "Epoch 2 [Val]: 100%|██████████| 16/16 [00:10<00:00,  1.59it/s]\n",
            "Epoch 3 [Train]: 100%|██████████| 63/63 [00:45<00:00,  1.38it/s]\n",
            "Epoch 3 [Val]: 100%|██████████| 16/16 [00:08<00:00,  1.78it/s]\n",
            "Epoch 4 [Train]: 100%|██████████| 63/63 [00:44<00:00,  1.41it/s]\n",
            "Epoch 4 [Val]: 100%|██████████| 16/16 [00:08<00:00,  1.86it/s]\n",
            "Epoch 5 [Train]: 100%|██████████| 63/63 [00:44<00:00,  1.40it/s]\n",
            "Epoch 5 [Val]: 100%|██████████| 16/16 [00:08<00:00,  1.81it/s]\n",
            "Epoch 6 [Train]: 100%|██████████| 63/63 [00:44<00:00,  1.43it/s]\n",
            "Epoch 6 [Val]: 100%|██████████| 16/16 [00:09<00:00,  1.67it/s]\n",
            "Epoch 7 [Train]: 100%|██████████| 63/63 [00:44<00:00,  1.41it/s]\n",
            "Epoch 7 [Val]: 100%|██████████| 16/16 [00:09<00:00,  1.65it/s]\n",
            "Epoch 8 [Train]: 100%|██████████| 63/63 [00:43<00:00,  1.43it/s]\n",
            "Epoch 8 [Val]: 100%|██████████| 16/16 [00:09<00:00,  1.61it/s]\n",
            "Epoch 9 [Train]: 100%|██████████| 63/63 [00:44<00:00,  1.43it/s]\n",
            "Epoch 9 [Val]: 100%|██████████| 16/16 [00:09<00:00,  1.62it/s]\n",
            "Epoch 10 [Train]: 100%|██████████| 63/63 [00:43<00:00,  1.44it/s]\n",
            "Epoch 10 [Val]: 100%|██████████| 16/16 [00:09<00:00,  1.62it/s]\n"
          ]
        },
        {
          "data": {
            "text/html": [],
            "text/plain": [
              "<IPython.core.display.HTML object>"
            ]
          },
          "metadata": {},
          "output_type": "display_data"
        },
        {
          "data": {
            "text/html": [
              "<br>    <style><br>        .wandb-row {<br>            display: flex;<br>            flex-direction: row;<br>            flex-wrap: wrap;<br>            justify-content: flex-start;<br>            width: 100%;<br>        }<br>        .wandb-col {<br>            display: flex;<br>            flex-direction: column;<br>            flex-basis: 100%;<br>            flex: 1;<br>            padding: 10px;<br>        }<br>    </style><br><div class=\"wandb-row\"><div class=\"wandb-col\"><h3>Run history:</h3><br/><table class=\"wandb\"><tr><td>epoch</td><td>▁▂▃▃▄▅▆▆▇█</td></tr><tr><td>train_accuracy</td><td>▁▃▄▅▄▆▆▇▇█</td></tr><tr><td>train_loss</td><td>█▇▆▅▅▄▃▃▂▁</td></tr><tr><td>val_accuracy</td><td>▁▅▅▄▆▆▇█▇▇</td></tr><tr><td>val_loss</td><td>█▅▆▅▄▃▂▁▁▂</td></tr></table><br/></div><div class=\"wandb-col\"><h3>Run summary:</h3><br/><table class=\"wandb\"><tr><td>epoch</td><td>10</td></tr><tr><td>train_accuracy</td><td>0.35636</td></tr><tr><td>train_loss</td><td>1.82721</td></tr><tr><td>val_accuracy</td><td>0.30098</td></tr><tr><td>val_loss</td><td>1.9499</td></tr></table><br/></div></div>"
            ],
            "text/plain": [
              "<IPython.core.display.HTML object>"
            ]
          },
          "metadata": {},
          "output_type": "display_data"
        },
        {
          "data": {
            "text/html": [
              " View run <strong style=\"color:#cdcd00\">fragrant-sweep-5</strong> at: <a href='https://wandb.ai/me21b164-indian-institute-of-technology-madras/A2/runs/mdbwx88s' target=\"_blank\">https://wandb.ai/me21b164-indian-institute-of-technology-madras/A2/runs/mdbwx88s</a><br> View project at: <a href='https://wandb.ai/me21b164-indian-institute-of-technology-madras/A2' target=\"_blank\">https://wandb.ai/me21b164-indian-institute-of-technology-madras/A2</a><br>Synced 5 W&B file(s), 0 media file(s), 0 artifact file(s) and 0 other file(s)"
            ],
            "text/plain": [
              "<IPython.core.display.HTML object>"
            ]
          },
          "metadata": {},
          "output_type": "display_data"
        },
        {
          "data": {
            "text/html": [
              "Find logs at: <code>./wandb/run-20250418_163253-mdbwx88s/logs</code>"
            ],
            "text/plain": [
              "<IPython.core.display.HTML object>"
            ]
          },
          "metadata": {},
          "output_type": "display_data"
        },
        {
          "name": "stderr",
          "output_type": "stream",
          "text": [
            "\u001b[34m\u001b[1mwandb\u001b[0m: Agent Starting Run: euaylw1d with config:\n",
            "\u001b[34m\u001b[1mwandb\u001b[0m: \tactivation_fn: GELU\n",
            "\u001b[34m\u001b[1mwandb\u001b[0m: \tbatch_size: 64\n",
            "\u001b[34m\u001b[1mwandb\u001b[0m: \tconv_filters: [64, 64, 64, 64, 64]\n",
            "\u001b[34m\u001b[1mwandb\u001b[0m: \tdata_dir: /content/inaturalist_12K\n",
            "\u001b[34m\u001b[1mwandb\u001b[0m: \tdense_units: 256\n",
            "\u001b[34m\u001b[1mwandb\u001b[0m: \tdropout: 0.3\n",
            "\u001b[34m\u001b[1mwandb\u001b[0m: \tepochs: 10\n",
            "\u001b[34m\u001b[1mwandb\u001b[0m: \tkernel_sizes: [3, 3, 3, 3, 3]\n",
            "\u001b[34m\u001b[1mwandb\u001b[0m: \tlr: 0.00032076642107372043\n"
          ]
        },
        {
          "data": {
            "text/html": [
              "Tracking run with wandb version 0.19.9"
            ],
            "text/plain": [
              "<IPython.core.display.HTML object>"
            ]
          },
          "metadata": {},
          "output_type": "display_data"
        },
        {
          "data": {
            "text/html": [
              "Run data is saved locally in <code>/content/wandb/run-20250418_164159-euaylw1d</code>"
            ],
            "text/plain": [
              "<IPython.core.display.HTML object>"
            ]
          },
          "metadata": {},
          "output_type": "display_data"
        },
        {
          "data": {
            "text/html": [
              "Syncing run <strong><a href='https://wandb.ai/me21b164-indian-institute-of-technology-madras/A2/runs/euaylw1d' target=\"_blank\">kind-sweep-6</a></strong> to <a href='https://wandb.ai/me21b164-indian-institute-of-technology-madras/A2' target=\"_blank\">Weights & Biases</a> (<a href='https://wandb.me/developer-guide' target=\"_blank\">docs</a>)<br>Sweep page: <a href='https://wandb.ai/me21b164-indian-institute-of-technology-madras/A2/sweeps/szhxr0m3' target=\"_blank\">https://wandb.ai/me21b164-indian-institute-of-technology-madras/A2/sweeps/szhxr0m3</a>"
            ],
            "text/plain": [
              "<IPython.core.display.HTML object>"
            ]
          },
          "metadata": {},
          "output_type": "display_data"
        },
        {
          "data": {
            "text/html": [
              " View project at <a href='https://wandb.ai/me21b164-indian-institute-of-technology-madras/A2' target=\"_blank\">https://wandb.ai/me21b164-indian-institute-of-technology-madras/A2</a>"
            ],
            "text/plain": [
              "<IPython.core.display.HTML object>"
            ]
          },
          "metadata": {},
          "output_type": "display_data"
        },
        {
          "data": {
            "text/html": [
              " View sweep at <a href='https://wandb.ai/me21b164-indian-institute-of-technology-madras/A2/sweeps/szhxr0m3' target=\"_blank\">https://wandb.ai/me21b164-indian-institute-of-technology-madras/A2/sweeps/szhxr0m3</a>"
            ],
            "text/plain": [
              "<IPython.core.display.HTML object>"
            ]
          },
          "metadata": {},
          "output_type": "display_data"
        },
        {
          "data": {
            "text/html": [
              " View run at <a href='https://wandb.ai/me21b164-indian-institute-of-technology-madras/A2/runs/euaylw1d' target=\"_blank\">https://wandb.ai/me21b164-indian-institute-of-technology-madras/A2/runs/euaylw1d</a>"
            ],
            "text/plain": [
              "<IPython.core.display.HTML object>"
            ]
          },
          "metadata": {},
          "output_type": "display_data"
        },
        {
          "name": "stderr",
          "output_type": "stream",
          "text": [
            "Epoch 1 [Train]: 100%|██████████| 63/63 [00:42<00:00,  1.49it/s]\n",
            "Epoch 1 [Val]: 100%|██████████| 16/16 [00:11<00:00,  1.42it/s]\n",
            "Epoch 2 [Train]: 100%|██████████| 63/63 [00:41<00:00,  1.51it/s]\n",
            "Epoch 2 [Val]: 100%|██████████| 16/16 [00:09<00:00,  1.69it/s]\n",
            "Epoch 3 [Train]: 100%|██████████| 63/63 [00:41<00:00,  1.51it/s]\n",
            "Epoch 3 [Val]: 100%|██████████| 16/16 [00:08<00:00,  1.94it/s]\n",
            "Epoch 4 [Train]: 100%|██████████| 63/63 [00:41<00:00,  1.51it/s]\n",
            "Epoch 4 [Val]: 100%|██████████| 16/16 [00:09<00:00,  1.64it/s]\n",
            "Epoch 5 [Train]: 100%|██████████| 63/63 [00:41<00:00,  1.51it/s]\n",
            "Epoch 5 [Val]: 100%|██████████| 16/16 [00:09<00:00,  1.66it/s]\n",
            "Epoch 6 [Train]: 100%|██████████| 63/63 [00:43<00:00,  1.45it/s]\n",
            "Epoch 6 [Val]: 100%|██████████| 16/16 [00:08<00:00,  1.90it/s]\n",
            "Epoch 7 [Train]: 100%|██████████| 63/63 [00:41<00:00,  1.51it/s]\n",
            "Epoch 7 [Val]: 100%|██████████| 16/16 [00:09<00:00,  1.71it/s]\n",
            "Epoch 8 [Train]: 100%|██████████| 63/63 [00:41<00:00,  1.51it/s]\n",
            "Epoch 8 [Val]: 100%|██████████| 16/16 [00:09<00:00,  1.67it/s]\n",
            "Epoch 9 [Train]: 100%|██████████| 63/63 [00:41<00:00,  1.51it/s]\n",
            "Epoch 9 [Val]: 100%|██████████| 16/16 [00:09<00:00,  1.76it/s]\n",
            "Epoch 10 [Train]: 100%|██████████| 63/63 [00:41<00:00,  1.50it/s]\n",
            "Epoch 10 [Val]: 100%|██████████| 16/16 [00:09<00:00,  1.77it/s]\n"
          ]
        },
        {
          "data": {
            "text/html": [],
            "text/plain": [
              "<IPython.core.display.HTML object>"
            ]
          },
          "metadata": {},
          "output_type": "display_data"
        },
        {
          "data": {
            "text/html": [
              "<br>    <style><br>        .wandb-row {<br>            display: flex;<br>            flex-direction: row;<br>            flex-wrap: wrap;<br>            justify-content: flex-start;<br>            width: 100%;<br>        }<br>        .wandb-col {<br>            display: flex;<br>            flex-direction: column;<br>            flex-basis: 100%;<br>            flex: 1;<br>            padding: 10px;<br>        }<br>    </style><br><div class=\"wandb-row\"><div class=\"wandb-col\"><h3>Run history:</h3><br/><table class=\"wandb\"><tr><td>epoch</td><td>▁▂▃▃▄▅▆▆▇█</td></tr><tr><td>train_accuracy</td><td>▁▃▃▄▅▆▆▇██</td></tr><tr><td>train_loss</td><td>█▇▇▆▅▄▃▂▂▁</td></tr><tr><td>val_accuracy</td><td>▁▂▃▄▅▆▇▇██</td></tr><tr><td>val_loss</td><td>█▇▆▅▄▄▂▂▁▁</td></tr></table><br/></div><div class=\"wandb-col\"><h3>Run summary:</h3><br/><table class=\"wandb\"><tr><td>epoch</td><td>10</td></tr><tr><td>train_accuracy</td><td>0.39927</td></tr><tr><td>train_loss</td><td>1.73669</td></tr><tr><td>val_accuracy</td><td>0.35566</td></tr><tr><td>val_loss</td><td>1.87696</td></tr></table><br/></div></div>"
            ],
            "text/plain": [
              "<IPython.core.display.HTML object>"
            ]
          },
          "metadata": {},
          "output_type": "display_data"
        },
        {
          "data": {
            "text/html": [
              " View run <strong style=\"color:#cdcd00\">kind-sweep-6</strong> at: <a href='https://wandb.ai/me21b164-indian-institute-of-technology-madras/A2/runs/euaylw1d' target=\"_blank\">https://wandb.ai/me21b164-indian-institute-of-technology-madras/A2/runs/euaylw1d</a><br> View project at: <a href='https://wandb.ai/me21b164-indian-institute-of-technology-madras/A2' target=\"_blank\">https://wandb.ai/me21b164-indian-institute-of-technology-madras/A2</a><br>Synced 5 W&B file(s), 0 media file(s), 0 artifact file(s) and 0 other file(s)"
            ],
            "text/plain": [
              "<IPython.core.display.HTML object>"
            ]
          },
          "metadata": {},
          "output_type": "display_data"
        },
        {
          "data": {
            "text/html": [
              "Find logs at: <code>./wandb/run-20250418_164159-euaylw1d/logs</code>"
            ],
            "text/plain": [
              "<IPython.core.display.HTML object>"
            ]
          },
          "metadata": {},
          "output_type": "display_data"
        },
        {
          "name": "stderr",
          "output_type": "stream",
          "text": [
            "\u001b[34m\u001b[1mwandb\u001b[0m: Agent Starting Run: fni9ajv1 with config:\n",
            "\u001b[34m\u001b[1mwandb\u001b[0m: \tactivation_fn: GELU\n",
            "\u001b[34m\u001b[1mwandb\u001b[0m: \tbatch_size: 64\n",
            "\u001b[34m\u001b[1mwandb\u001b[0m: \tconv_filters: [64, 64, 64, 64, 64]\n",
            "\u001b[34m\u001b[1mwandb\u001b[0m: \tdata_dir: /content/inaturalist_12K\n",
            "\u001b[34m\u001b[1mwandb\u001b[0m: \tdense_units: 256\n",
            "\u001b[34m\u001b[1mwandb\u001b[0m: \tdropout: 0.5\n",
            "\u001b[34m\u001b[1mwandb\u001b[0m: \tepochs: 10\n",
            "\u001b[34m\u001b[1mwandb\u001b[0m: \tkernel_sizes: [3, 3, 3, 3, 3]\n",
            "\u001b[34m\u001b[1mwandb\u001b[0m: \tlr: 0.0006544648419908909\n"
          ]
        },
        {
          "data": {
            "text/html": [
              "Tracking run with wandb version 0.19.9"
            ],
            "text/plain": [
              "<IPython.core.display.HTML object>"
            ]
          },
          "metadata": {},
          "output_type": "display_data"
        },
        {
          "data": {
            "text/html": [
              "Run data is saved locally in <code>/content/wandb/run-20250418_165037-fni9ajv1</code>"
            ],
            "text/plain": [
              "<IPython.core.display.HTML object>"
            ]
          },
          "metadata": {},
          "output_type": "display_data"
        },
        {
          "data": {
            "text/html": [
              "Syncing run <strong><a href='https://wandb.ai/me21b164-indian-institute-of-technology-madras/A2/runs/fni9ajv1' target=\"_blank\">desert-sweep-7</a></strong> to <a href='https://wandb.ai/me21b164-indian-institute-of-technology-madras/A2' target=\"_blank\">Weights & Biases</a> (<a href='https://wandb.me/developer-guide' target=\"_blank\">docs</a>)<br>Sweep page: <a href='https://wandb.ai/me21b164-indian-institute-of-technology-madras/A2/sweeps/szhxr0m3' target=\"_blank\">https://wandb.ai/me21b164-indian-institute-of-technology-madras/A2/sweeps/szhxr0m3</a>"
            ],
            "text/plain": [
              "<IPython.core.display.HTML object>"
            ]
          },
          "metadata": {},
          "output_type": "display_data"
        },
        {
          "data": {
            "text/html": [
              " View project at <a href='https://wandb.ai/me21b164-indian-institute-of-technology-madras/A2' target=\"_blank\">https://wandb.ai/me21b164-indian-institute-of-technology-madras/A2</a>"
            ],
            "text/plain": [
              "<IPython.core.display.HTML object>"
            ]
          },
          "metadata": {},
          "output_type": "display_data"
        },
        {
          "data": {
            "text/html": [
              " View sweep at <a href='https://wandb.ai/me21b164-indian-institute-of-technology-madras/A2/sweeps/szhxr0m3' target=\"_blank\">https://wandb.ai/me21b164-indian-institute-of-technology-madras/A2/sweeps/szhxr0m3</a>"
            ],
            "text/plain": [
              "<IPython.core.display.HTML object>"
            ]
          },
          "metadata": {},
          "output_type": "display_data"
        },
        {
          "data": {
            "text/html": [
              " View run at <a href='https://wandb.ai/me21b164-indian-institute-of-technology-madras/A2/runs/fni9ajv1' target=\"_blank\">https://wandb.ai/me21b164-indian-institute-of-technology-madras/A2/runs/fni9ajv1</a>"
            ],
            "text/plain": [
              "<IPython.core.display.HTML object>"
            ]
          },
          "metadata": {},
          "output_type": "display_data"
        },
        {
          "name": "stderr",
          "output_type": "stream",
          "text": [
            "Epoch 1 [Train]: 100%|██████████| 63/63 [00:41<00:00,  1.51it/s]\n",
            "Epoch 1 [Val]: 100%|██████████| 16/16 [00:08<00:00,  1.91it/s]\n",
            "Epoch 2 [Train]: 100%|██████████| 63/63 [00:41<00:00,  1.51it/s]\n",
            "Epoch 2 [Val]: 100%|██████████| 16/16 [00:09<00:00,  1.66it/s]\n",
            "Epoch 3 [Train]: 100%|██████████| 63/63 [00:41<00:00,  1.51it/s]\n",
            "Epoch 3 [Val]: 100%|██████████| 16/16 [00:09<00:00,  1.66it/s]\n",
            "Epoch 4 [Train]: 100%|██████████| 63/63 [00:42<00:00,  1.50it/s]\n",
            "Epoch 4 [Val]: 100%|██████████| 16/16 [00:08<00:00,  1.78it/s]\n",
            "Epoch 5 [Train]: 100%|██████████| 63/63 [00:44<00:00,  1.41it/s]\n",
            "Epoch 5 [Val]: 100%|██████████| 16/16 [00:08<00:00,  1.86it/s]\n",
            "Epoch 6 [Train]: 100%|██████████| 63/63 [00:43<00:00,  1.43it/s]\n",
            "Epoch 6 [Val]: 100%|██████████| 16/16 [00:09<00:00,  1.67it/s]\n",
            "Epoch 7 [Train]: 100%|██████████| 63/63 [00:43<00:00,  1.46it/s]\n",
            "Epoch 7 [Val]: 100%|██████████| 16/16 [00:09<00:00,  1.63it/s]\n",
            "Epoch 8 [Train]: 100%|██████████| 63/63 [00:42<00:00,  1.47it/s]\n",
            "Epoch 8 [Val]: 100%|██████████| 16/16 [00:09<00:00,  1.64it/s]\n",
            "Epoch 9 [Train]: 100%|██████████| 63/63 [00:42<00:00,  1.49it/s]\n",
            "Epoch 9 [Val]: 100%|██████████| 16/16 [00:10<00:00,  1.46it/s]\n",
            "Epoch 10 [Train]: 100%|██████████| 63/63 [00:42<00:00,  1.47it/s]\n",
            "Epoch 10 [Val]: 100%|██████████| 16/16 [00:08<00:00,  1.88it/s]\n"
          ]
        },
        {
          "data": {
            "text/html": [],
            "text/plain": [
              "<IPython.core.display.HTML object>"
            ]
          },
          "metadata": {},
          "output_type": "display_data"
        },
        {
          "data": {
            "text/html": [
              "<br>    <style><br>        .wandb-row {<br>            display: flex;<br>            flex-direction: row;<br>            flex-wrap: wrap;<br>            justify-content: flex-start;<br>            width: 100%;<br>        }<br>        .wandb-col {<br>            display: flex;<br>            flex-direction: column;<br>            flex-basis: 100%;<br>            flex: 1;<br>            padding: 10px;<br>        }<br>    </style><br><div class=\"wandb-row\"><div class=\"wandb-col\"><h3>Run history:</h3><br/><table class=\"wandb\"><tr><td>epoch</td><td>▁▂▃▃▄▅▆▆▇█</td></tr><tr><td>train_accuracy</td><td>▁▃▄▄▅▆▆▇▇█</td></tr><tr><td>train_loss</td><td>█▇▆▅▅▄▃▂▂▁</td></tr><tr><td>val_accuracy</td><td>▁▄▅▅▆▇▇▇▇█</td></tr><tr><td>val_loss</td><td>█▆▅▄▃▂▁▁▁▁</td></tr></table><br/></div><div class=\"wandb-col\"><h3>Run summary:</h3><br/><table class=\"wandb\"><tr><td>epoch</td><td>10</td></tr><tr><td>train_accuracy</td><td>0.4203</td></tr><tr><td>train_loss</td><td>1.66535</td></tr><tr><td>val_accuracy</td><td>0.3793</td></tr><tr><td>val_loss</td><td>1.843</td></tr></table><br/></div></div>"
            ],
            "text/plain": [
              "<IPython.core.display.HTML object>"
            ]
          },
          "metadata": {},
          "output_type": "display_data"
        },
        {
          "data": {
            "text/html": [
              " View run <strong style=\"color:#cdcd00\">desert-sweep-7</strong> at: <a href='https://wandb.ai/me21b164-indian-institute-of-technology-madras/A2/runs/fni9ajv1' target=\"_blank\">https://wandb.ai/me21b164-indian-institute-of-technology-madras/A2/runs/fni9ajv1</a><br> View project at: <a href='https://wandb.ai/me21b164-indian-institute-of-technology-madras/A2' target=\"_blank\">https://wandb.ai/me21b164-indian-institute-of-technology-madras/A2</a><br>Synced 5 W&B file(s), 0 media file(s), 0 artifact file(s) and 0 other file(s)"
            ],
            "text/plain": [
              "<IPython.core.display.HTML object>"
            ]
          },
          "metadata": {},
          "output_type": "display_data"
        },
        {
          "data": {
            "text/html": [
              "Find logs at: <code>./wandb/run-20250418_165037-fni9ajv1/logs</code>"
            ],
            "text/plain": [
              "<IPython.core.display.HTML object>"
            ]
          },
          "metadata": {},
          "output_type": "display_data"
        },
        {
          "name": "stderr",
          "output_type": "stream",
          "text": [
            "\u001b[34m\u001b[1mwandb\u001b[0m: Agent Starting Run: f2cr0kgi with config:\n",
            "\u001b[34m\u001b[1mwandb\u001b[0m: \tactivation_fn: SiLU\n",
            "\u001b[34m\u001b[1mwandb\u001b[0m: \tbatch_size: 64\n",
            "\u001b[34m\u001b[1mwandb\u001b[0m: \tconv_filters: [64, 64, 64, 64, 64]\n",
            "\u001b[34m\u001b[1mwandb\u001b[0m: \tdata_dir: /content/inaturalist_12K\n",
            "\u001b[34m\u001b[1mwandb\u001b[0m: \tdense_units: 256\n",
            "\u001b[34m\u001b[1mwandb\u001b[0m: \tdropout: 0.5\n",
            "\u001b[34m\u001b[1mwandb\u001b[0m: \tepochs: 10\n",
            "\u001b[34m\u001b[1mwandb\u001b[0m: \tkernel_sizes: [3, 3, 3, 3, 3]\n",
            "\u001b[34m\u001b[1mwandb\u001b[0m: \tlr: 0.0009896331399421832\n"
          ]
        },
        {
          "data": {
            "text/html": [
              "Tracking run with wandb version 0.19.9"
            ],
            "text/plain": [
              "<IPython.core.display.HTML object>"
            ]
          },
          "metadata": {},
          "output_type": "display_data"
        },
        {
          "data": {
            "text/html": [
              "Run data is saved locally in <code>/content/wandb/run-20250418_165924-f2cr0kgi</code>"
            ],
            "text/plain": [
              "<IPython.core.display.HTML object>"
            ]
          },
          "metadata": {},
          "output_type": "display_data"
        },
        {
          "data": {
            "text/html": [
              "Syncing run <strong><a href='https://wandb.ai/me21b164-indian-institute-of-technology-madras/A2/runs/f2cr0kgi' target=\"_blank\">dark-sweep-8</a></strong> to <a href='https://wandb.ai/me21b164-indian-institute-of-technology-madras/A2' target=\"_blank\">Weights & Biases</a> (<a href='https://wandb.me/developer-guide' target=\"_blank\">docs</a>)<br>Sweep page: <a href='https://wandb.ai/me21b164-indian-institute-of-technology-madras/A2/sweeps/szhxr0m3' target=\"_blank\">https://wandb.ai/me21b164-indian-institute-of-technology-madras/A2/sweeps/szhxr0m3</a>"
            ],
            "text/plain": [
              "<IPython.core.display.HTML object>"
            ]
          },
          "metadata": {},
          "output_type": "display_data"
        },
        {
          "data": {
            "text/html": [
              " View project at <a href='https://wandb.ai/me21b164-indian-institute-of-technology-madras/A2' target=\"_blank\">https://wandb.ai/me21b164-indian-institute-of-technology-madras/A2</a>"
            ],
            "text/plain": [
              "<IPython.core.display.HTML object>"
            ]
          },
          "metadata": {},
          "output_type": "display_data"
        },
        {
          "data": {
            "text/html": [
              " View sweep at <a href='https://wandb.ai/me21b164-indian-institute-of-technology-madras/A2/sweeps/szhxr0m3' target=\"_blank\">https://wandb.ai/me21b164-indian-institute-of-technology-madras/A2/sweeps/szhxr0m3</a>"
            ],
            "text/plain": [
              "<IPython.core.display.HTML object>"
            ]
          },
          "metadata": {},
          "output_type": "display_data"
        },
        {
          "data": {
            "text/html": [
              " View run at <a href='https://wandb.ai/me21b164-indian-institute-of-technology-madras/A2/runs/f2cr0kgi' target=\"_blank\">https://wandb.ai/me21b164-indian-institute-of-technology-madras/A2/runs/f2cr0kgi</a>"
            ],
            "text/plain": [
              "<IPython.core.display.HTML object>"
            ]
          },
          "metadata": {},
          "output_type": "display_data"
        },
        {
          "name": "stderr",
          "output_type": "stream",
          "text": [
            "Epoch 1 [Train]: 100%|██████████| 63/63 [00:42<00:00,  1.48it/s]\n",
            "Epoch 1 [Val]: 100%|██████████| 16/16 [00:09<00:00,  1.66it/s]\n",
            "Epoch 2 [Train]: 100%|██████████| 63/63 [00:42<00:00,  1.49it/s]\n",
            "Epoch 2 [Val]: 100%|██████████| 16/16 [00:08<00:00,  1.91it/s]\n",
            "Epoch 3 [Train]: 100%|██████████| 63/63 [00:42<00:00,  1.49it/s]\n",
            "Epoch 3 [Val]: 100%|██████████| 16/16 [00:09<00:00,  1.64it/s]\n",
            "Epoch 4 [Train]: 100%|██████████| 63/63 [00:43<00:00,  1.45it/s]\n",
            "Epoch 4 [Val]: 100%|██████████| 16/16 [00:09<00:00,  1.63it/s]\n",
            "Epoch 5 [Train]: 100%|██████████| 63/63 [00:42<00:00,  1.49it/s]\n",
            "Epoch 5 [Val]: 100%|██████████| 16/16 [00:09<00:00,  1.64it/s]\n",
            "Epoch 6 [Train]: 100%|██████████| 63/63 [00:42<00:00,  1.48it/s]\n",
            "Epoch 6 [Val]: 100%|██████████| 16/16 [00:08<00:00,  1.89it/s]\n",
            "Epoch 7 [Train]: 100%|██████████| 63/63 [00:42<00:00,  1.48it/s]\n",
            "Epoch 7 [Val]: 100%|██████████| 16/16 [00:09<00:00,  1.65it/s]\n",
            "Epoch 8 [Train]: 100%|██████████| 63/63 [00:43<00:00,  1.46it/s]\n",
            "Epoch 8 [Val]: 100%|██████████| 16/16 [00:09<00:00,  1.63it/s]\n",
            "Epoch 9 [Train]: 100%|██████████| 63/63 [00:42<00:00,  1.49it/s]\n",
            "Epoch 9 [Val]: 100%|██████████| 16/16 [00:09<00:00,  1.64it/s]\n",
            "Epoch 10 [Train]: 100%|██████████| 63/63 [00:41<00:00,  1.50it/s]\n",
            "Epoch 10 [Val]: 100%|██████████| 16/16 [00:08<00:00,  1.91it/s]\n"
          ]
        },
        {
          "data": {
            "text/html": [],
            "text/plain": [
              "<IPython.core.display.HTML object>"
            ]
          },
          "metadata": {},
          "output_type": "display_data"
        },
        {
          "data": {
            "text/html": [
              "<br>    <style><br>        .wandb-row {<br>            display: flex;<br>            flex-direction: row;<br>            flex-wrap: wrap;<br>            justify-content: flex-start;<br>            width: 100%;<br>        }<br>        .wandb-col {<br>            display: flex;<br>            flex-direction: column;<br>            flex-basis: 100%;<br>            flex: 1;<br>            padding: 10px;<br>        }<br>    </style><br><div class=\"wandb-row\"><div class=\"wandb-col\"><h3>Run history:</h3><br/><table class=\"wandb\"><tr><td>epoch</td><td>▁▂▃▃▄▅▆▆▇█</td></tr><tr><td>train_accuracy</td><td>▁▂▄▅▆▆▆▇▇█</td></tr><tr><td>train_loss</td><td>█▇▆▅▄▄▃▃▂▁</td></tr><tr><td>val_accuracy</td><td>▁▂▄▆▇█▆█▇█</td></tr><tr><td>val_loss</td><td>█▆▅▃▂▂▃▁▁▂</td></tr></table><br/></div><div class=\"wandb-col\"><h3>Run summary:</h3><br/><table class=\"wandb\"><tr><td>epoch</td><td>10</td></tr><tr><td>train_accuracy</td><td>0.40204</td></tr><tr><td>train_loss</td><td>1.70899</td></tr><tr><td>val_accuracy</td><td>0.33047</td></tr><tr><td>val_loss</td><td>1.90421</td></tr></table><br/></div></div>"
            ],
            "text/plain": [
              "<IPython.core.display.HTML object>"
            ]
          },
          "metadata": {},
          "output_type": "display_data"
        },
        {
          "data": {
            "text/html": [
              " View run <strong style=\"color:#cdcd00\">dark-sweep-8</strong> at: <a href='https://wandb.ai/me21b164-indian-institute-of-technology-madras/A2/runs/f2cr0kgi' target=\"_blank\">https://wandb.ai/me21b164-indian-institute-of-technology-madras/A2/runs/f2cr0kgi</a><br> View project at: <a href='https://wandb.ai/me21b164-indian-institute-of-technology-madras/A2' target=\"_blank\">https://wandb.ai/me21b164-indian-institute-of-technology-madras/A2</a><br>Synced 5 W&B file(s), 0 media file(s), 0 artifact file(s) and 0 other file(s)"
            ],
            "text/plain": [
              "<IPython.core.display.HTML object>"
            ]
          },
          "metadata": {},
          "output_type": "display_data"
        },
        {
          "data": {
            "text/html": [
              "Find logs at: <code>./wandb/run-20250418_165924-f2cr0kgi/logs</code>"
            ],
            "text/plain": [
              "<IPython.core.display.HTML object>"
            ]
          },
          "metadata": {},
          "output_type": "display_data"
        },
        {
          "name": "stderr",
          "output_type": "stream",
          "text": [
            "\u001b[34m\u001b[1mwandb\u001b[0m: Agent Starting Run: hb4w9wv1 with config:\n",
            "\u001b[34m\u001b[1mwandb\u001b[0m: \tactivation_fn: ReLU\n",
            "\u001b[34m\u001b[1mwandb\u001b[0m: \tbatch_size: 64\n",
            "\u001b[34m\u001b[1mwandb\u001b[0m: \tconv_filters: [64, 64, 64, 64, 64]\n",
            "\u001b[34m\u001b[1mwandb\u001b[0m: \tdata_dir: /content/inaturalist_12K\n",
            "\u001b[34m\u001b[1mwandb\u001b[0m: \tdense_units: 128\n",
            "\u001b[34m\u001b[1mwandb\u001b[0m: \tdropout: 0.5\n",
            "\u001b[34m\u001b[1mwandb\u001b[0m: \tepochs: 10\n",
            "\u001b[34m\u001b[1mwandb\u001b[0m: \tkernel_sizes: [3, 3, 3, 3, 3]\n",
            "\u001b[34m\u001b[1mwandb\u001b[0m: \tlr: 0.0002369856848264889\n"
          ]
        },
        {
          "data": {
            "text/html": [
              "Tracking run with wandb version 0.19.9"
            ],
            "text/plain": [
              "<IPython.core.display.HTML object>"
            ]
          },
          "metadata": {},
          "output_type": "display_data"
        },
        {
          "data": {
            "text/html": [
              "Run data is saved locally in <code>/content/wandb/run-20250418_170812-hb4w9wv1</code>"
            ],
            "text/plain": [
              "<IPython.core.display.HTML object>"
            ]
          },
          "metadata": {},
          "output_type": "display_data"
        },
        {
          "data": {
            "text/html": [
              "Syncing run <strong><a href='https://wandb.ai/me21b164-indian-institute-of-technology-madras/A2/runs/hb4w9wv1' target=\"_blank\">twilight-sweep-9</a></strong> to <a href='https://wandb.ai/me21b164-indian-institute-of-technology-madras/A2' target=\"_blank\">Weights & Biases</a> (<a href='https://wandb.me/developer-guide' target=\"_blank\">docs</a>)<br>Sweep page: <a href='https://wandb.ai/me21b164-indian-institute-of-technology-madras/A2/sweeps/szhxr0m3' target=\"_blank\">https://wandb.ai/me21b164-indian-institute-of-technology-madras/A2/sweeps/szhxr0m3</a>"
            ],
            "text/plain": [
              "<IPython.core.display.HTML object>"
            ]
          },
          "metadata": {},
          "output_type": "display_data"
        },
        {
          "data": {
            "text/html": [
              " View project at <a href='https://wandb.ai/me21b164-indian-institute-of-technology-madras/A2' target=\"_blank\">https://wandb.ai/me21b164-indian-institute-of-technology-madras/A2</a>"
            ],
            "text/plain": [
              "<IPython.core.display.HTML object>"
            ]
          },
          "metadata": {},
          "output_type": "display_data"
        },
        {
          "data": {
            "text/html": [
              " View sweep at <a href='https://wandb.ai/me21b164-indian-institute-of-technology-madras/A2/sweeps/szhxr0m3' target=\"_blank\">https://wandb.ai/me21b164-indian-institute-of-technology-madras/A2/sweeps/szhxr0m3</a>"
            ],
            "text/plain": [
              "<IPython.core.display.HTML object>"
            ]
          },
          "metadata": {},
          "output_type": "display_data"
        },
        {
          "data": {
            "text/html": [
              " View run at <a href='https://wandb.ai/me21b164-indian-institute-of-technology-madras/A2/runs/hb4w9wv1' target=\"_blank\">https://wandb.ai/me21b164-indian-institute-of-technology-madras/A2/runs/hb4w9wv1</a>"
            ],
            "text/plain": [
              "<IPython.core.display.HTML object>"
            ]
          },
          "metadata": {},
          "output_type": "display_data"
        },
        {
          "name": "stderr",
          "output_type": "stream",
          "text": [
            "Epoch 1 [Train]: 100%|██████████| 63/63 [00:41<00:00,  1.51it/s]\n",
            "Epoch 1 [Val]: 100%|██████████| 16/16 [00:08<00:00,  1.81it/s]\n",
            "Epoch 2 [Train]: 100%|██████████| 63/63 [00:42<00:00,  1.49it/s]\n",
            "Epoch 2 [Val]: 100%|██████████| 16/16 [00:11<00:00,  1.44it/s]\n",
            "Epoch 3 [Train]: 100%|██████████| 63/63 [00:41<00:00,  1.50it/s]\n",
            "Epoch 3 [Val]: 100%|██████████| 16/16 [00:09<00:00,  1.64it/s]\n",
            "Epoch 4 [Train]: 100%|██████████| 63/63 [00:42<00:00,  1.50it/s]\n",
            "Epoch 4 [Val]: 100%|██████████| 16/16 [00:08<00:00,  1.82it/s]\n",
            "Epoch 5 [Train]: 100%|██████████| 63/63 [00:41<00:00,  1.51it/s]\n",
            "Epoch 5 [Val]: 100%|██████████| 16/16 [00:09<00:00,  1.76it/s]\n",
            "Epoch 6 [Train]: 100%|██████████| 63/63 [00:41<00:00,  1.53it/s]\n",
            "Epoch 6 [Val]: 100%|██████████| 16/16 [00:09<00:00,  1.68it/s]\n",
            "Epoch 7 [Train]: 100%|██████████| 63/63 [00:42<00:00,  1.48it/s]\n",
            "Epoch 7 [Val]: 100%|██████████| 16/16 [00:09<00:00,  1.66it/s]\n",
            "Epoch 8 [Train]: 100%|██████████| 63/63 [00:41<00:00,  1.52it/s]\n",
            "Epoch 8 [Val]: 100%|██████████| 16/16 [00:08<00:00,  1.91it/s]\n",
            "Epoch 9 [Train]: 100%|██████████| 63/63 [00:41<00:00,  1.52it/s]\n",
            "Epoch 9 [Val]: 100%|██████████| 16/16 [00:09<00:00,  1.68it/s]\n",
            "Epoch 10 [Train]: 100%|██████████| 63/63 [00:41<00:00,  1.53it/s]\n",
            "Epoch 10 [Val]: 100%|██████████| 16/16 [00:09<00:00,  1.69it/s]\n"
          ]
        },
        {
          "data": {
            "text/html": [],
            "text/plain": [
              "<IPython.core.display.HTML object>"
            ]
          },
          "metadata": {},
          "output_type": "display_data"
        },
        {
          "data": {
            "text/html": [
              "<br>    <style><br>        .wandb-row {<br>            display: flex;<br>            flex-direction: row;<br>            flex-wrap: wrap;<br>            justify-content: flex-start;<br>            width: 100%;<br>        }<br>        .wandb-col {<br>            display: flex;<br>            flex-direction: column;<br>            flex-basis: 100%;<br>            flex: 1;<br>            padding: 10px;<br>        }<br>    </style><br><div class=\"wandb-row\"><div class=\"wandb-col\"><h3>Run history:</h3><br/><table class=\"wandb\"><tr><td>epoch</td><td>▁▂▃▃▄▅▆▆▇█</td></tr><tr><td>train_accuracy</td><td>▁▂▃▄▅▆▆▇▇█</td></tr><tr><td>train_loss</td><td>█▇▇▆▅▄▃▂▂▁</td></tr><tr><td>val_accuracy</td><td>▂▁▃▄▅▆▇▇▇█</td></tr><tr><td>val_loss</td><td>██▇▅▅▃▃▂▂▁</td></tr></table><br/></div><div class=\"wandb-col\"><h3>Run summary:</h3><br/><table class=\"wandb\"><tr><td>epoch</td><td>10</td></tr><tr><td>train_accuracy</td><td>0.32554</td></tr><tr><td>train_loss</td><td>1.91447</td></tr><tr><td>val_accuracy</td><td>0.32891</td></tr><tr><td>val_loss</td><td>1.92235</td></tr></table><br/></div></div>"
            ],
            "text/plain": [
              "<IPython.core.display.HTML object>"
            ]
          },
          "metadata": {},
          "output_type": "display_data"
        },
        {
          "data": {
            "text/html": [
              " View run <strong style=\"color:#cdcd00\">twilight-sweep-9</strong> at: <a href='https://wandb.ai/me21b164-indian-institute-of-technology-madras/A2/runs/hb4w9wv1' target=\"_blank\">https://wandb.ai/me21b164-indian-institute-of-technology-madras/A2/runs/hb4w9wv1</a><br> View project at: <a href='https://wandb.ai/me21b164-indian-institute-of-technology-madras/A2' target=\"_blank\">https://wandb.ai/me21b164-indian-institute-of-technology-madras/A2</a><br>Synced 5 W&B file(s), 0 media file(s), 0 artifact file(s) and 0 other file(s)"
            ],
            "text/plain": [
              "<IPython.core.display.HTML object>"
            ]
          },
          "metadata": {},
          "output_type": "display_data"
        },
        {
          "data": {
            "text/html": [
              "Find logs at: <code>./wandb/run-20250418_170812-hb4w9wv1/logs</code>"
            ],
            "text/plain": [
              "<IPython.core.display.HTML object>"
            ]
          },
          "metadata": {},
          "output_type": "display_data"
        },
        {
          "name": "stderr",
          "output_type": "stream",
          "text": [
            "\u001b[34m\u001b[1mwandb\u001b[0m: Sweep Agent: Waiting for job.\n",
            "\u001b[34m\u001b[1mwandb\u001b[0m: Job received.\n",
            "\u001b[34m\u001b[1mwandb\u001b[0m: Agent Starting Run: pzlh9zbb with config:\n",
            "\u001b[34m\u001b[1mwandb\u001b[0m: \tactivation_fn: SiLU\n",
            "\u001b[34m\u001b[1mwandb\u001b[0m: \tbatch_size: 32\n",
            "\u001b[34m\u001b[1mwandb\u001b[0m: \tconv_filters: [64, 64, 64, 64, 64]\n",
            "\u001b[34m\u001b[1mwandb\u001b[0m: \tdata_dir: /content/inaturalist_12K\n",
            "\u001b[34m\u001b[1mwandb\u001b[0m: \tdense_units: 256\n",
            "\u001b[34m\u001b[1mwandb\u001b[0m: \tdropout: 0.5\n",
            "\u001b[34m\u001b[1mwandb\u001b[0m: \tepochs: 10\n",
            "\u001b[34m\u001b[1mwandb\u001b[0m: \tkernel_sizes: [3, 3, 3, 3, 3]\n",
            "\u001b[34m\u001b[1mwandb\u001b[0m: \tlr: 0.0004889099568628175\n"
          ]
        },
        {
          "data": {
            "text/html": [
              "Tracking run with wandb version 0.19.9"
            ],
            "text/plain": [
              "<IPython.core.display.HTML object>"
            ]
          },
          "metadata": {},
          "output_type": "display_data"
        },
        {
          "data": {
            "text/html": [
              "Run data is saved locally in <code>/content/wandb/run-20250418_171706-pzlh9zbb</code>"
            ],
            "text/plain": [
              "<IPython.core.display.HTML object>"
            ]
          },
          "metadata": {},
          "output_type": "display_data"
        },
        {
          "data": {
            "text/html": [
              "Syncing run <strong><a href='https://wandb.ai/me21b164-indian-institute-of-technology-madras/A2/runs/pzlh9zbb' target=\"_blank\">cosmic-sweep-10</a></strong> to <a href='https://wandb.ai/me21b164-indian-institute-of-technology-madras/A2' target=\"_blank\">Weights & Biases</a> (<a href='https://wandb.me/developer-guide' target=\"_blank\">docs</a>)<br>Sweep page: <a href='https://wandb.ai/me21b164-indian-institute-of-technology-madras/A2/sweeps/szhxr0m3' target=\"_blank\">https://wandb.ai/me21b164-indian-institute-of-technology-madras/A2/sweeps/szhxr0m3</a>"
            ],
            "text/plain": [
              "<IPython.core.display.HTML object>"
            ]
          },
          "metadata": {},
          "output_type": "display_data"
        },
        {
          "data": {
            "text/html": [
              " View project at <a href='https://wandb.ai/me21b164-indian-institute-of-technology-madras/A2' target=\"_blank\">https://wandb.ai/me21b164-indian-institute-of-technology-madras/A2</a>"
            ],
            "text/plain": [
              "<IPython.core.display.HTML object>"
            ]
          },
          "metadata": {},
          "output_type": "display_data"
        },
        {
          "data": {
            "text/html": [
              " View sweep at <a href='https://wandb.ai/me21b164-indian-institute-of-technology-madras/A2/sweeps/szhxr0m3' target=\"_blank\">https://wandb.ai/me21b164-indian-institute-of-technology-madras/A2/sweeps/szhxr0m3</a>"
            ],
            "text/plain": [
              "<IPython.core.display.HTML object>"
            ]
          },
          "metadata": {},
          "output_type": "display_data"
        },
        {
          "data": {
            "text/html": [
              " View run at <a href='https://wandb.ai/me21b164-indian-institute-of-technology-madras/A2/runs/pzlh9zbb' target=\"_blank\">https://wandb.ai/me21b164-indian-institute-of-technology-madras/A2/runs/pzlh9zbb</a>"
            ],
            "text/plain": [
              "<IPython.core.display.HTML object>"
            ]
          },
          "metadata": {},
          "output_type": "display_data"
        },
        {
          "name": "stderr",
          "output_type": "stream",
          "text": [
            "Epoch 1 [Train]: 100%|██████████| 125/125 [00:43<00:00,  2.85it/s]\n",
            "Epoch 1 [Val]: 100%|██████████| 32/32 [00:08<00:00,  3.94it/s]\n",
            "Epoch 2 [Train]: 100%|██████████| 125/125 [00:42<00:00,  2.95it/s]\n",
            "Epoch 2 [Val]: 100%|██████████| 32/32 [00:09<00:00,  3.43it/s]\n",
            "Epoch 3 [Train]: 100%|██████████| 125/125 [00:42<00:00,  2.94it/s]\n",
            "Epoch 3 [Val]: 100%|██████████| 32/32 [00:09<00:00,  3.41it/s]\n",
            "Epoch 4 [Train]: 100%|██████████| 125/125 [00:42<00:00,  2.91it/s]\n",
            "Epoch 4 [Val]: 100%|██████████| 32/32 [00:09<00:00,  3.42it/s]\n",
            "Epoch 5 [Train]: 100%|██████████| 125/125 [00:42<00:00,  2.92it/s]\n",
            "Epoch 5 [Val]: 100%|██████████| 32/32 [00:10<00:00,  3.04it/s]\n",
            "Epoch 6 [Train]: 100%|██████████| 125/125 [00:42<00:00,  2.97it/s]\n",
            "Epoch 6 [Val]: 100%|██████████| 32/32 [00:07<00:00,  4.00it/s]\n",
            "Epoch 7 [Train]: 100%|██████████| 125/125 [00:41<00:00,  2.98it/s]\n",
            "Epoch 7 [Val]: 100%|██████████| 32/32 [00:09<00:00,  3.48it/s]\n",
            "Epoch 8 [Train]: 100%|██████████| 125/125 [00:42<00:00,  2.97it/s]\n",
            "Epoch 8 [Val]: 100%|██████████| 32/32 [00:09<00:00,  3.46it/s]\n",
            "Epoch 9 [Train]: 100%|██████████| 125/125 [00:42<00:00,  2.96it/s]\n",
            "Epoch 9 [Val]: 100%|██████████| 32/32 [00:09<00:00,  3.48it/s]\n",
            "Epoch 10 [Train]: 100%|██████████| 125/125 [00:43<00:00,  2.89it/s]\n",
            "Epoch 10 [Val]: 100%|██████████| 32/32 [00:08<00:00,  3.94it/s]\n"
          ]
        },
        {
          "data": {
            "text/html": [],
            "text/plain": [
              "<IPython.core.display.HTML object>"
            ]
          },
          "metadata": {},
          "output_type": "display_data"
        },
        {
          "data": {
            "text/html": [
              "<br>    <style><br>        .wandb-row {<br>            display: flex;<br>            flex-direction: row;<br>            flex-wrap: wrap;<br>            justify-content: flex-start;<br>            width: 100%;<br>        }<br>        .wandb-col {<br>            display: flex;<br>            flex-direction: column;<br>            flex-basis: 100%;<br>            flex: 1;<br>            padding: 10px;<br>        }<br>    </style><br><div class=\"wandb-row\"><div class=\"wandb-col\"><h3>Run history:</h3><br/><table class=\"wandb\"><tr><td>epoch</td><td>▁▂▃▃▄▅▆▆▇█</td></tr><tr><td>train_accuracy</td><td>▁▂▄▅▆▆▆▇▇█</td></tr><tr><td>train_loss</td><td>█▇▆▅▄▄▃▂▂▁</td></tr><tr><td>val_accuracy</td><td>▁▂▄▇▆▆▇██▇</td></tr><tr><td>val_loss</td><td>█▇▅▃▂▂▂▁▁▁</td></tr></table><br/></div><div class=\"wandb-col\"><h3>Run summary:</h3><br/><table class=\"wandb\"><tr><td>epoch</td><td>10</td></tr><tr><td>train_accuracy</td><td>0.4131</td></tr><tr><td>train_loss</td><td>1.71666</td></tr><tr><td>val_accuracy</td><td>0.34277</td></tr><tr><td>val_loss</td><td>1.86594</td></tr></table><br/></div></div>"
            ],
            "text/plain": [
              "<IPython.core.display.HTML object>"
            ]
          },
          "metadata": {},
          "output_type": "display_data"
        },
        {
          "data": {
            "text/html": [
              " View run <strong style=\"color:#cdcd00\">cosmic-sweep-10</strong> at: <a href='https://wandb.ai/me21b164-indian-institute-of-technology-madras/A2/runs/pzlh9zbb' target=\"_blank\">https://wandb.ai/me21b164-indian-institute-of-technology-madras/A2/runs/pzlh9zbb</a><br> View project at: <a href='https://wandb.ai/me21b164-indian-institute-of-technology-madras/A2' target=\"_blank\">https://wandb.ai/me21b164-indian-institute-of-technology-madras/A2</a><br>Synced 5 W&B file(s), 0 media file(s), 0 artifact file(s) and 0 other file(s)"
            ],
            "text/plain": [
              "<IPython.core.display.HTML object>"
            ]
          },
          "metadata": {},
          "output_type": "display_data"
        },
        {
          "data": {
            "text/html": [
              "Find logs at: <code>./wandb/run-20250418_171706-pzlh9zbb/logs</code>"
            ],
            "text/plain": [
              "<IPython.core.display.HTML object>"
            ]
          },
          "metadata": {},
          "output_type": "display_data"
        },
        {
          "name": "stderr",
          "output_type": "stream",
          "text": [
            "\u001b[34m\u001b[1mwandb\u001b[0m: Agent Starting Run: 6gf4cwk8 with config:\n",
            "\u001b[34m\u001b[1mwandb\u001b[0m: \tactivation_fn: ReLU\n",
            "\u001b[34m\u001b[1mwandb\u001b[0m: \tbatch_size: 32\n",
            "\u001b[34m\u001b[1mwandb\u001b[0m: \tconv_filters: [64, 64, 64, 64, 64]\n",
            "\u001b[34m\u001b[1mwandb\u001b[0m: \tdata_dir: /content/inaturalist_12K\n",
            "\u001b[34m\u001b[1mwandb\u001b[0m: \tdense_units: 512\n",
            "\u001b[34m\u001b[1mwandb\u001b[0m: \tdropout: 0.5\n",
            "\u001b[34m\u001b[1mwandb\u001b[0m: \tepochs: 10\n",
            "\u001b[34m\u001b[1mwandb\u001b[0m: \tkernel_sizes: [3, 3, 3, 3, 3]\n",
            "\u001b[34m\u001b[1mwandb\u001b[0m: \tlr: 0.0006905421005407976\n"
          ]
        },
        {
          "data": {
            "text/html": [
              "Tracking run with wandb version 0.19.9"
            ],
            "text/plain": [
              "<IPython.core.display.HTML object>"
            ]
          },
          "metadata": {},
          "output_type": "display_data"
        },
        {
          "data": {
            "text/html": [
              "Run data is saved locally in <code>/content/wandb/run-20250418_172559-6gf4cwk8</code>"
            ],
            "text/plain": [
              "<IPython.core.display.HTML object>"
            ]
          },
          "metadata": {},
          "output_type": "display_data"
        },
        {
          "data": {
            "text/html": [
              "Syncing run <strong><a href='https://wandb.ai/me21b164-indian-institute-of-technology-madras/A2/runs/6gf4cwk8' target=\"_blank\">quiet-sweep-11</a></strong> to <a href='https://wandb.ai/me21b164-indian-institute-of-technology-madras/A2' target=\"_blank\">Weights & Biases</a> (<a href='https://wandb.me/developer-guide' target=\"_blank\">docs</a>)<br>Sweep page: <a href='https://wandb.ai/me21b164-indian-institute-of-technology-madras/A2/sweeps/szhxr0m3' target=\"_blank\">https://wandb.ai/me21b164-indian-institute-of-technology-madras/A2/sweeps/szhxr0m3</a>"
            ],
            "text/plain": [
              "<IPython.core.display.HTML object>"
            ]
          },
          "metadata": {},
          "output_type": "display_data"
        },
        {
          "data": {
            "text/html": [
              " View project at <a href='https://wandb.ai/me21b164-indian-institute-of-technology-madras/A2' target=\"_blank\">https://wandb.ai/me21b164-indian-institute-of-technology-madras/A2</a>"
            ],
            "text/plain": [
              "<IPython.core.display.HTML object>"
            ]
          },
          "metadata": {},
          "output_type": "display_data"
        },
        {
          "data": {
            "text/html": [
              " View sweep at <a href='https://wandb.ai/me21b164-indian-institute-of-technology-madras/A2/sweeps/szhxr0m3' target=\"_blank\">https://wandb.ai/me21b164-indian-institute-of-technology-madras/A2/sweeps/szhxr0m3</a>"
            ],
            "text/plain": [
              "<IPython.core.display.HTML object>"
            ]
          },
          "metadata": {},
          "output_type": "display_data"
        },
        {
          "data": {
            "text/html": [
              " View run at <a href='https://wandb.ai/me21b164-indian-institute-of-technology-madras/A2/runs/6gf4cwk8' target=\"_blank\">https://wandb.ai/me21b164-indian-institute-of-technology-madras/A2/runs/6gf4cwk8</a>"
            ],
            "text/plain": [
              "<IPython.core.display.HTML object>"
            ]
          },
          "metadata": {},
          "output_type": "display_data"
        },
        {
          "name": "stderr",
          "output_type": "stream",
          "text": [
            "Epoch 1 [Train]: 100%|██████████| 125/125 [00:42<00:00,  2.93it/s]\n",
            "Epoch 1 [Val]: 100%|██████████| 32/32 [00:09<00:00,  3.55it/s]\n",
            "Epoch 2 [Train]: 100%|██████████| 125/125 [00:42<00:00,  2.95it/s]\n",
            "Epoch 2 [Val]: 100%|██████████| 32/32 [00:08<00:00,  3.91it/s]\n",
            "Epoch 3 [Train]: 100%|██████████| 125/125 [00:42<00:00,  2.93it/s]\n",
            "Epoch 3 [Val]: 100%|██████████| 32/32 [00:09<00:00,  3.53it/s]\n",
            "Epoch 4 [Train]: 100%|██████████| 125/125 [00:43<00:00,  2.87it/s]\n",
            "Epoch 4 [Val]: 100%|██████████| 32/32 [00:09<00:00,  3.39it/s]\n",
            "Epoch 5 [Train]: 100%|██████████| 125/125 [00:42<00:00,  2.96it/s]\n",
            "Epoch 5 [Val]: 100%|██████████| 32/32 [00:09<00:00,  3.43it/s]\n",
            "Epoch 6 [Train]: 100%|██████████| 125/125 [00:42<00:00,  2.97it/s]\n",
            "Epoch 6 [Val]: 100%|██████████| 32/32 [00:08<00:00,  3.87it/s]\n",
            "Epoch 7 [Train]: 100%|██████████| 125/125 [00:42<00:00,  2.91it/s]\n",
            "Epoch 7 [Val]: 100%|██████████| 32/32 [00:08<00:00,  3.83it/s]\n",
            "Epoch 8 [Train]: 100%|██████████| 125/125 [00:42<00:00,  2.95it/s]\n",
            "Epoch 8 [Val]: 100%|██████████| 32/32 [00:10<00:00,  3.09it/s]\n",
            "Epoch 9 [Train]: 100%|██████████| 125/125 [00:42<00:00,  2.94it/s]\n",
            "Epoch 9 [Val]: 100%|██████████| 32/32 [00:09<00:00,  3.36it/s]\n",
            "Epoch 10 [Train]: 100%|██████████| 125/125 [00:42<00:00,  2.93it/s]\n",
            "Epoch 10 [Val]: 100%|██████████| 32/32 [00:09<00:00,  3.52it/s]\n"
          ]
        },
        {
          "data": {
            "text/html": [],
            "text/plain": [
              "<IPython.core.display.HTML object>"
            ]
          },
          "metadata": {},
          "output_type": "display_data"
        },
        {
          "data": {
            "text/html": [
              "<br>    <style><br>        .wandb-row {<br>            display: flex;<br>            flex-direction: row;<br>            flex-wrap: wrap;<br>            justify-content: flex-start;<br>            width: 100%;<br>        }<br>        .wandb-col {<br>            display: flex;<br>            flex-direction: column;<br>            flex-basis: 100%;<br>            flex: 1;<br>            padding: 10px;<br>        }<br>    </style><br><div class=\"wandb-row\"><div class=\"wandb-col\"><h3>Run history:</h3><br/><table class=\"wandb\"><tr><td>epoch</td><td>▁▂▃▃▄▅▆▆▇█</td></tr><tr><td>train_accuracy</td><td>▁▂▃▄▄▅▆▆▇█</td></tr><tr><td>train_loss</td><td>██▇▆▅▅▄▃▂▁</td></tr><tr><td>val_accuracy</td><td>▁▃▄▅▇▇▇██▇</td></tr><tr><td>val_loss</td><td>█▇▅▄▃▂▁▂▂▃</td></tr></table><br/></div><div class=\"wandb-col\"><h3>Run summary:</h3><br/><table class=\"wandb\"><tr><td>epoch</td><td>10</td></tr><tr><td>train_accuracy</td><td>0.44235</td></tr><tr><td>train_loss</td><td>1.60409</td></tr><tr><td>val_accuracy</td><td>0.29785</td></tr><tr><td>val_loss</td><td>2.03506</td></tr></table><br/></div></div>"
            ],
            "text/plain": [
              "<IPython.core.display.HTML object>"
            ]
          },
          "metadata": {},
          "output_type": "display_data"
        },
        {
          "data": {
            "text/html": [
              " View run <strong style=\"color:#cdcd00\">quiet-sweep-11</strong> at: <a href='https://wandb.ai/me21b164-indian-institute-of-technology-madras/A2/runs/6gf4cwk8' target=\"_blank\">https://wandb.ai/me21b164-indian-institute-of-technology-madras/A2/runs/6gf4cwk8</a><br> View project at: <a href='https://wandb.ai/me21b164-indian-institute-of-technology-madras/A2' target=\"_blank\">https://wandb.ai/me21b164-indian-institute-of-technology-madras/A2</a><br>Synced 5 W&B file(s), 0 media file(s), 0 artifact file(s) and 0 other file(s)"
            ],
            "text/plain": [
              "<IPython.core.display.HTML object>"
            ]
          },
          "metadata": {},
          "output_type": "display_data"
        },
        {
          "data": {
            "text/html": [
              "Find logs at: <code>./wandb/run-20250418_172559-6gf4cwk8/logs</code>"
            ],
            "text/plain": [
              "<IPython.core.display.HTML object>"
            ]
          },
          "metadata": {},
          "output_type": "display_data"
        },
        {
          "name": "stderr",
          "output_type": "stream",
          "text": [
            "\u001b[34m\u001b[1mwandb\u001b[0m: Sweep Agent: Waiting for job.\n",
            "\u001b[34m\u001b[1mwandb\u001b[0m: Job received.\n",
            "\u001b[34m\u001b[1mwandb\u001b[0m: Agent Starting Run: l7pxfaty with config:\n",
            "\u001b[34m\u001b[1mwandb\u001b[0m: \tactivation_fn: GELU\n",
            "\u001b[34m\u001b[1mwandb\u001b[0m: \tbatch_size: 32\n",
            "\u001b[34m\u001b[1mwandb\u001b[0m: \tconv_filters: [64, 64, 64, 64, 64]\n",
            "\u001b[34m\u001b[1mwandb\u001b[0m: \tdata_dir: /content/inaturalist_12K\n",
            "\u001b[34m\u001b[1mwandb\u001b[0m: \tdense_units: 256\n",
            "\u001b[34m\u001b[1mwandb\u001b[0m: \tdropout: 0.5\n",
            "\u001b[34m\u001b[1mwandb\u001b[0m: \tepochs: 10\n",
            "\u001b[34m\u001b[1mwandb\u001b[0m: \tkernel_sizes: [3, 3, 3, 3, 3]\n",
            "\u001b[34m\u001b[1mwandb\u001b[0m: \tlr: 0.00048541512186049175\n"
          ]
        },
        {
          "data": {
            "text/html": [
              "Tracking run with wandb version 0.19.9"
            ],
            "text/plain": [
              "<IPython.core.display.HTML object>"
            ]
          },
          "metadata": {},
          "output_type": "display_data"
        },
        {
          "data": {
            "text/html": [
              "Run data is saved locally in <code>/content/wandb/run-20250418_173458-l7pxfaty</code>"
            ],
            "text/plain": [
              "<IPython.core.display.HTML object>"
            ]
          },
          "metadata": {},
          "output_type": "display_data"
        },
        {
          "data": {
            "text/html": [
              "Syncing run <strong><a href='https://wandb.ai/me21b164-indian-institute-of-technology-madras/A2/runs/l7pxfaty' target=\"_blank\">fluent-sweep-12</a></strong> to <a href='https://wandb.ai/me21b164-indian-institute-of-technology-madras/A2' target=\"_blank\">Weights & Biases</a> (<a href='https://wandb.me/developer-guide' target=\"_blank\">docs</a>)<br>Sweep page: <a href='https://wandb.ai/me21b164-indian-institute-of-technology-madras/A2/sweeps/szhxr0m3' target=\"_blank\">https://wandb.ai/me21b164-indian-institute-of-technology-madras/A2/sweeps/szhxr0m3</a>"
            ],
            "text/plain": [
              "<IPython.core.display.HTML object>"
            ]
          },
          "metadata": {},
          "output_type": "display_data"
        },
        {
          "data": {
            "text/html": [
              " View project at <a href='https://wandb.ai/me21b164-indian-institute-of-technology-madras/A2' target=\"_blank\">https://wandb.ai/me21b164-indian-institute-of-technology-madras/A2</a>"
            ],
            "text/plain": [
              "<IPython.core.display.HTML object>"
            ]
          },
          "metadata": {},
          "output_type": "display_data"
        },
        {
          "data": {
            "text/html": [
              " View sweep at <a href='https://wandb.ai/me21b164-indian-institute-of-technology-madras/A2/sweeps/szhxr0m3' target=\"_blank\">https://wandb.ai/me21b164-indian-institute-of-technology-madras/A2/sweeps/szhxr0m3</a>"
            ],
            "text/plain": [
              "<IPython.core.display.HTML object>"
            ]
          },
          "metadata": {},
          "output_type": "display_data"
        },
        {
          "data": {
            "text/html": [
              " View run at <a href='https://wandb.ai/me21b164-indian-institute-of-technology-madras/A2/runs/l7pxfaty' target=\"_blank\">https://wandb.ai/me21b164-indian-institute-of-technology-madras/A2/runs/l7pxfaty</a>"
            ],
            "text/plain": [
              "<IPython.core.display.HTML object>"
            ]
          },
          "metadata": {},
          "output_type": "display_data"
        },
        {
          "name": "stderr",
          "output_type": "stream",
          "text": [
            "Epoch 1 [Train]: 100%|██████████| 125/125 [00:42<00:00,  2.96it/s]\n",
            "Epoch 1 [Val]: 100%|██████████| 32/32 [00:09<00:00,  3.51it/s]\n",
            "Epoch 2 [Train]: 100%|██████████| 125/125 [00:43<00:00,  2.87it/s]\n",
            "Epoch 2 [Val]: 100%|██████████| 32/32 [00:09<00:00,  3.47it/s]\n",
            "Epoch 3 [Train]: 100%|██████████| 125/125 [00:42<00:00,  2.94it/s]\n",
            "Epoch 3 [Val]: 100%|██████████| 32/32 [00:09<00:00,  3.42it/s]\n",
            "Epoch 4 [Train]: 100%|██████████| 125/125 [00:42<00:00,  2.96it/s]\n",
            "Epoch 4 [Val]: 100%|██████████| 32/32 [00:08<00:00,  3.58it/s]\n",
            "Epoch 5 [Train]: 100%|██████████| 125/125 [00:42<00:00,  2.93it/s]\n",
            "Epoch 5 [Val]: 100%|██████████| 32/32 [00:08<00:00,  3.96it/s]\n",
            "Epoch 6 [Train]: 100%|██████████| 125/125 [00:42<00:00,  2.93it/s]\n",
            "Epoch 6 [Val]: 100%|██████████| 32/32 [00:09<00:00,  3.46it/s]\n",
            "Epoch 7 [Train]: 100%|██████████| 125/125 [00:43<00:00,  2.87it/s]\n",
            "Epoch 7 [Val]: 100%|██████████| 32/32 [00:09<00:00,  3.44it/s]\n",
            "Epoch 8 [Train]: 100%|██████████| 125/125 [00:42<00:00,  2.95it/s]\n",
            "Epoch 8 [Val]: 100%|██████████| 32/32 [00:09<00:00,  3.38it/s]\n",
            "Epoch 9 [Train]: 100%|██████████| 125/125 [00:42<00:00,  2.91it/s]\n",
            "Epoch 9 [Val]: 100%|██████████| 32/32 [00:09<00:00,  3.44it/s]\n",
            "Epoch 10 [Train]: 100%|██████████| 125/125 [00:42<00:00,  2.92it/s]\n",
            "Epoch 10 [Val]: 100%|██████████| 32/32 [00:08<00:00,  3.90it/s]\n"
          ]
        },
        {
          "data": {
            "text/html": [],
            "text/plain": [
              "<IPython.core.display.HTML object>"
            ]
          },
          "metadata": {},
          "output_type": "display_data"
        },
        {
          "data": {
            "text/html": [
              "<br>    <style><br>        .wandb-row {<br>            display: flex;<br>            flex-direction: row;<br>            flex-wrap: wrap;<br>            justify-content: flex-start;<br>            width: 100%;<br>        }<br>        .wandb-col {<br>            display: flex;<br>            flex-direction: column;<br>            flex-basis: 100%;<br>            flex: 1;<br>            padding: 10px;<br>        }<br>    </style><br><div class=\"wandb-row\"><div class=\"wandb-col\"><h3>Run history:</h3><br/><table class=\"wandb\"><tr><td>epoch</td><td>▁▂▃▃▄▅▆▆▇█</td></tr><tr><td>train_accuracy</td><td>▁▂▃▄▅▆▆▇██</td></tr><tr><td>train_loss</td><td>█▇▆▆▅▄▃▃▂▁</td></tr><tr><td>val_accuracy</td><td>▁▃▅▅█▇█▇█▇</td></tr><tr><td>val_loss</td><td>█▆▅▄▂▂▁▁▁▁</td></tr></table><br/></div><div class=\"wandb-col\"><h3>Run summary:</h3><br/><table class=\"wandb\"><tr><td>epoch</td><td>10</td></tr><tr><td>train_accuracy</td><td>0.43136</td></tr><tr><td>train_loss</td><td>1.60969</td></tr><tr><td>val_accuracy</td><td>0.33105</td></tr><tr><td>val_loss</td><td>1.87049</td></tr></table><br/></div></div>"
            ],
            "text/plain": [
              "<IPython.core.display.HTML object>"
            ]
          },
          "metadata": {},
          "output_type": "display_data"
        },
        {
          "data": {
            "text/html": [
              " View run <strong style=\"color:#cdcd00\">fluent-sweep-12</strong> at: <a href='https://wandb.ai/me21b164-indian-institute-of-technology-madras/A2/runs/l7pxfaty' target=\"_blank\">https://wandb.ai/me21b164-indian-institute-of-technology-madras/A2/runs/l7pxfaty</a><br> View project at: <a href='https://wandb.ai/me21b164-indian-institute-of-technology-madras/A2' target=\"_blank\">https://wandb.ai/me21b164-indian-institute-of-technology-madras/A2</a><br>Synced 5 W&B file(s), 0 media file(s), 0 artifact file(s) and 0 other file(s)"
            ],
            "text/plain": [
              "<IPython.core.display.HTML object>"
            ]
          },
          "metadata": {},
          "output_type": "display_data"
        },
        {
          "data": {
            "text/html": [
              "Find logs at: <code>./wandb/run-20250418_173458-l7pxfaty/logs</code>"
            ],
            "text/plain": [
              "<IPython.core.display.HTML object>"
            ]
          },
          "metadata": {},
          "output_type": "display_data"
        },
        {
          "name": "stderr",
          "output_type": "stream",
          "text": [
            "\u001b[34m\u001b[1mwandb\u001b[0m: Agent Starting Run: pjv0ad6g with config:\n",
            "\u001b[34m\u001b[1mwandb\u001b[0m: \tactivation_fn: SiLU\n",
            "\u001b[34m\u001b[1mwandb\u001b[0m: \tbatch_size: 64\n",
            "\u001b[34m\u001b[1mwandb\u001b[0m: \tconv_filters: [64, 64, 64, 64, 64]\n",
            "\u001b[34m\u001b[1mwandb\u001b[0m: \tdata_dir: /content/inaturalist_12K\n",
            "\u001b[34m\u001b[1mwandb\u001b[0m: \tdense_units: 512\n",
            "\u001b[34m\u001b[1mwandb\u001b[0m: \tdropout: 0.5\n",
            "\u001b[34m\u001b[1mwandb\u001b[0m: \tepochs: 10\n",
            "\u001b[34m\u001b[1mwandb\u001b[0m: \tkernel_sizes: [3, 3, 3, 3, 3]\n",
            "\u001b[34m\u001b[1mwandb\u001b[0m: \tlr: 0.0006455187673613949\n"
          ]
        },
        {
          "data": {
            "text/html": [
              "Tracking run with wandb version 0.19.9"
            ],
            "text/plain": [
              "<IPython.core.display.HTML object>"
            ]
          },
          "metadata": {},
          "output_type": "display_data"
        },
        {
          "data": {
            "text/html": [
              "Run data is saved locally in <code>/content/wandb/run-20250418_174349-pjv0ad6g</code>"
            ],
            "text/plain": [
              "<IPython.core.display.HTML object>"
            ]
          },
          "metadata": {},
          "output_type": "display_data"
        },
        {
          "data": {
            "text/html": [
              "Syncing run <strong><a href='https://wandb.ai/me21b164-indian-institute-of-technology-madras/A2/runs/pjv0ad6g' target=\"_blank\">vibrant-sweep-13</a></strong> to <a href='https://wandb.ai/me21b164-indian-institute-of-technology-madras/A2' target=\"_blank\">Weights & Biases</a> (<a href='https://wandb.me/developer-guide' target=\"_blank\">docs</a>)<br>Sweep page: <a href='https://wandb.ai/me21b164-indian-institute-of-technology-madras/A2/sweeps/szhxr0m3' target=\"_blank\">https://wandb.ai/me21b164-indian-institute-of-technology-madras/A2/sweeps/szhxr0m3</a>"
            ],
            "text/plain": [
              "<IPython.core.display.HTML object>"
            ]
          },
          "metadata": {},
          "output_type": "display_data"
        },
        {
          "data": {
            "text/html": [
              " View project at <a href='https://wandb.ai/me21b164-indian-institute-of-technology-madras/A2' target=\"_blank\">https://wandb.ai/me21b164-indian-institute-of-technology-madras/A2</a>"
            ],
            "text/plain": [
              "<IPython.core.display.HTML object>"
            ]
          },
          "metadata": {},
          "output_type": "display_data"
        },
        {
          "data": {
            "text/html": [
              " View sweep at <a href='https://wandb.ai/me21b164-indian-institute-of-technology-madras/A2/sweeps/szhxr0m3' target=\"_blank\">https://wandb.ai/me21b164-indian-institute-of-technology-madras/A2/sweeps/szhxr0m3</a>"
            ],
            "text/plain": [
              "<IPython.core.display.HTML object>"
            ]
          },
          "metadata": {},
          "output_type": "display_data"
        },
        {
          "data": {
            "text/html": [
              " View run at <a href='https://wandb.ai/me21b164-indian-institute-of-technology-madras/A2/runs/pjv0ad6g' target=\"_blank\">https://wandb.ai/me21b164-indian-institute-of-technology-madras/A2/runs/pjv0ad6g</a>"
            ],
            "text/plain": [
              "<IPython.core.display.HTML object>"
            ]
          },
          "metadata": {},
          "output_type": "display_data"
        },
        {
          "name": "stderr",
          "output_type": "stream",
          "text": [
            "Epoch 1 [Train]: 100%|██████████| 63/63 [00:42<00:00,  1.47it/s]\n",
            "Epoch 1 [Val]: 100%|██████████| 16/16 [00:08<00:00,  1.92it/s]\n",
            "Epoch 2 [Train]: 100%|██████████| 63/63 [00:41<00:00,  1.51it/s]\n",
            "Epoch 2 [Val]: 100%|██████████| 16/16 [00:09<00:00,  1.67it/s]\n",
            "Epoch 3 [Train]: 100%|██████████| 63/63 [00:41<00:00,  1.52it/s]\n",
            "Epoch 3 [Val]: 100%|██████████| 16/16 [00:09<00:00,  1.69it/s]\n",
            "Epoch 4 [Train]: 100%|██████████| 63/63 [00:41<00:00,  1.52it/s]\n",
            "Epoch 4 [Val]: 100%|██████████| 16/16 [00:08<00:00,  1.81it/s]\n",
            "Epoch 5 [Train]: 100%|██████████| 63/63 [00:43<00:00,  1.46it/s]\n",
            "Epoch 5 [Val]: 100%|██████████| 16/16 [00:08<00:00,  1.94it/s]\n",
            "Epoch 6 [Train]: 100%|██████████| 63/63 [00:41<00:00,  1.52it/s]\n",
            "Epoch 6 [Val]: 100%|██████████| 16/16 [00:09<00:00,  1.69it/s]\n",
            "Epoch 7 [Train]: 100%|██████████| 63/63 [00:41<00:00,  1.52it/s]\n",
            "Epoch 7 [Val]: 100%|██████████| 16/16 [00:09<00:00,  1.69it/s]\n",
            "Epoch 8 [Train]: 100%|██████████| 63/63 [00:41<00:00,  1.53it/s]\n",
            "Epoch 8 [Val]: 100%|██████████| 16/16 [00:08<00:00,  1.90it/s]\n",
            "Epoch 9 [Train]:  83%|████████▎ | 52/63 [00:34<00:06,  1.59it/s]"
          ]
        }
      ],
      "source": [
        "import os\n",
        "import torch\n",
        "import torch.nn as nn\n",
        "import torch.nn.functional as F\n",
        "from torchvision import datasets, transforms\n",
        "from torch.utils.data import DataLoader, random_split, Subset\n",
        "import wandb\n",
        "from sklearn.model_selection import StratifiedShuffleSplit\n",
        "from tqdm import tqdm\n",
        "\n",
        "# Define a dictionary to map activation function names to their corresponding PyTorch classes\n",
        "activation_map = {\n",
        "    'ReLU': nn.ReLU,\n",
        "    'GELU': nn.GELU,\n",
        "    'SiLU': nn.SiLU,\n",
        "    'Mish': nn.Mish\n",
        "}\n",
        "\n",
        "# Flexible Convolutional Neural Network class definition\n",
        "class FlexibleCNN(nn.Module):\n",
        "    def __init__(self, conv_filters, kernel_sizes, activation_fn_str, dense_units, dropout_rate=0.5, num_classes=10):\n",
        "        super(FlexibleCNN, self).__init__()\n",
        "\n",
        "        # Validate activation function string\n",
        "        if activation_fn_str not in activation_map:\n",
        "            raise ValueError(f\"Unsupported activation function: {activation_fn_str}\")\n",
        "        activation_fn = activation_map[activation_fn_str]\n",
        "\n",
        "        self.convs = nn.ModuleList()\n",
        "        in_channels = 3  # RGB channels for images\n",
        "\n",
        "        # Create convolutional blocks with Conv2D -> Activation -> MaxPooling\n",
        "        for filters, k in zip(conv_filters, kernel_sizes):\n",
        "            self.convs.append(nn.Sequential(\n",
        "                nn.Conv2d(in_channels, filters, kernel_size=k, padding=k // 2),\n",
        "                activation_fn(),  # Activation function instance\n",
        "                nn.MaxPool2d(kernel_size=2)\n",
        "            ))\n",
        "            in_channels = filters  # Update for next layer\n",
        "\n",
        "        self.flatten = nn.Flatten()\n",
        "\n",
        "        self.dropout = nn.Dropout(dropout_rate)\n",
        "        self.fc2 = nn.Linear(dense_units, num_classes)\n",
        "\n",
        "    def forward(self, x):\n",
        "        for conv in self.convs:\n",
        "            x = conv(x)\n",
        "        x = self.flatten(x)\n",
        "        x = self.fc1(x)\n",
        "        x = self.dropout(x)\n",
        "        x = self.fc2(x)\n",
        "        return x\n",
        "\n",
        "# Utility function to calculate accuracy\n",
        "def accuracy(preds, labels):\n",
        "    _, pred_classes = preds.max(1)\n",
        "    correct = (pred_classes == labels).sum().item()\n",
        "    return correct / len(labels)\n",
        "\n",
        "# Load training and validation data using stratified split\n",
        "def load_data(data_dir, batch_size, val_split=0.2):\n",
        "    transform = transforms.Compose([\n",
        "        transforms.Resize((224, 224)),\n",
        "        transforms.ToTensor()\n",
        "    ])\n",
        "\n",
        "    full_dataset = datasets.ImageFolder(os.path.join(data_dir, 'train'), transform=transform)\n",
        "    targets = [label for _, label in full_dataset.imgs]\n",
        "\n",
        "    splitter = StratifiedShuffleSplit(n_splits=1, test_size=val_split, random_state=42)\n",
        "    train_idx, val_idx = next(splitter.split(full_dataset.imgs, targets))\n",
        "\n",
        "    train_subset = Subset(full_dataset, train_idx)\n",
        "    val_subset = Subset(full_dataset, val_idx)\n",
        "\n",
        "    train_loader = DataLoader(train_subset, batch_size=batch_size, shuffle=True)\n",
        "    val_loader = DataLoader(val_subset, batch_size=batch_size, shuffle=False)\n",
        "    return train_loader, val_loader\n",
        "\n",
        "# Load test data\n",
        "def load_test_data(data_dir, batch_size):\n",
        "    transform = transforms.Compose([\n",
        "        transforms.Resize((224, 224)),\n",
        "        transforms.ToTensor()\n",
        "    ])\n",
        "    test_dataset = datasets.ImageFolder(os.path.join(data_dir, 'val'), transform=transform)\n",
        "    test_loader = DataLoader(test_dataset, batch_size=batch_size, shuffle=False)\n",
        "    return test_loader, test_dataset\n",
        "\n",
        "# Main training function integrated with Weights & Biases\n",
        "def train_model(config=None):\n",
        "    wandb.init(config=config)\n",
        "    config = wandb.config\n",
        "\n",
        "    # Apply data augmentation only if specified\n",
        "    if config.data_augmentation == 'yes':\n",
        "        train_transform = transforms.Compose([\n",
        "            transforms.RandomResizedCrop(224),\n",
        "            transforms.RandomHorizontalFlip(),\n",
        "            transforms.ToTensor()\n",
        "        ])\n",
        "    else:\n",
        "        train_transform = transforms.Compose([\n",
        "            transforms.Resize((224, 224)),\n",
        "            transforms.ToTensor()\n",
        "        ])\n",
        "\n",
        "    val_transform = transforms.Compose([\n",
        "        transforms.Resize((224, 224)),\n",
        "        transforms.ToTensor()\n",
        "    ])\n",
        "\n",
        "    # Select device\n",
        "    device = torch.device(\"cuda\" if torch.cuda.is_available() else \"cpu\")\n",
        "\n",
        "    # Initialize model\n",
        "    model = FlexibleCNN(\n",
        "        conv_filters=config.conv_filters,\n",
        "        kernel_sizes=config.kernel_sizes,\n",
        "        activation_fn_str=config.activation_fn,\n",
        "        dense_units=config.dense_units,\n",
        "        dropout_rate=config.dropout,\n",
        "        num_classes=10\n",
        "    ).to(device)\n",
        "\n",
        "    # Define loss function and optimizer\n",
        "    criterion = nn.CrossEntropyLoss()\n",
        "    optimizer = torch.optim.Adam(model.parameters(), lr=config.lr)\n",
        "\n",
        "    # Load data loaders\n",
        "    train_loader, val_loader = load_data(config.data_dir, config.batch_size)\n",
        "\n",
        "    # Training loop\n",
        "    for epoch in range(config.epochs):\n",
        "        model.train()\n",
        "        total_train_loss, total_train_acc = 0, 0\n",
        "\n",
        "        for batch in tqdm(train_loader, desc=f\"Epoch {epoch+1} [Train]\"):\n",
        "            inputs, labels = batch[0].to(device), batch[1].to(device)\n",
        "            optimizer.zero_grad()\n",
        "            outputs = model(inputs)\n",
        "            loss = criterion(outputs, labels)\n",
        "            loss.backward()\n",
        "            optimizer.step()\n",
        "            total_train_loss += loss.item()\n",
        "            total_train_acc += accuracy(outputs, labels)\n",
        "\n",
        "        # Validation loop\n",
        "        model.eval()\n",
        "        total_val_loss, total_val_acc = 0, 0\n",
        "        with torch.no_grad():\n",
        "            for batch in tqdm(val_loader, desc=f\"Epoch {epoch+1} [Val]\"):\n",
        "                inputs, labels = batch[0].to(device), batch[1].to(device)\n",
        "                outputs = model(inputs)\n",
        "                loss = criterion(outputs, labels)\n",
        "                total_val_loss += loss.item()\n",
        "                total_val_acc += accuracy(outputs, labels)\n",
        "\n",
        "        # Compute average metrics\n",
        "        train_acc = total_train_acc / len(train_loader)\n",
        "        val_acc = total_val_acc / len(val_loader)\n",
        "\n",
        "        # Log metrics to Weights & Biases\n",
        "        wandb.log({\n",
        "            'epoch': epoch + 1,\n",
        "            'train_loss': total_train_loss / len(train_loader),\n",
        "            'train_accuracy': train_acc,\n",
        "            'val_loss': total_val_loss / len(val_loader),\n",
        "            'val_accuracy': val_acc\n",
        "        })\n",
        "\n",
        "# Sweep Configuration \n",
        "sweep_config = {\n",
        "    'method': 'bayes',\n",
        "    'metric': {'name': 'val_accuracy', 'goal': 'maximize'},\n",
        "    'parameters': {\n",
        "        'conv_filters': {\n",
        "            'values': [[32]*5, [32, 64, 128, 128, 256], [64]*5]\n",
        "        },\n",
        "        'kernel_sizes': {\n",
        "            'values': [[3]*5, [5]*5]\n",
        "        },\n",
        "        'activation_fn': {\n",
        "            'values': ['ReLU', 'GELU', 'SiLU']\n",
        "        },\n",
        "        'dense_units': {\n",
        "            'values': [128, 256, 512]\n",
        "        },\n",
        "        'dropout': {\n",
        "            'values': [0.0, 0.3, 0.5]\n",
        "        },\n",
        "        'lr': {\n",
        "            'max': 0.01,\n",
        "            'min': 0.0001\n",
        "        },\n",
        "        'batch_size': {\n",
        "            'values': [32, 64]\n",
        "        },\n",
        "        'epochs': {\n",
        "            'value': 10\n",
        "        },\n",
        "        'data_dir': {\n",
        "            'value': '/content/inaturalist_12K'\n",
        "        }\n",
        "    }\n",
        "}\n",
        "\n",
        "# To run the sweep\n",
        "sweep_id = wandb.sweep(sweep_config, project=\"A2\")\n",
        "wandb.agent(sweep_id, function=train_model, count=20)\n"
      ]
    },
    {
      "cell_type": "markdown",
      "metadata": {
        "id": "92Irt2XrGLP9"
      },
      "source": [
        "### **Second Session**\n",
        "\n",
        "Choosing selected hyperparameters for longer runs"
      ]
    },
    {
      "cell_type": "code",
      "execution_count": null,
      "metadata": {
        "id": "vsaT_fOcGPR-"
      },
      "outputs": [],
      "source": [
        "sweep_config = {\n",
        "    'method': 'random',\n",
        "    'metric': {\n",
        "        'name': 'val_accuracy',\n",
        "        'goal': 'maximize'\n",
        "    },\n",
        "    'parameters': {\n",
        "        'activation_fn': {\n",
        "            'values': ['GELU', 'SiLU']\n",
        "        },\n",
        "        'batch_size': {\n",
        "            'values': [32, 64]\n",
        "        },\n",
        "        'conv_filters': {\n",
        "            'values': [[64, 64, 64, 64, 64]]\n",
        "        },\n",
        "        'kernel_sizes': {\n",
        "            'values': [[3, 3, 3, 3, 3]]\n",
        "        },\n",
        "        'dense_units': {\n",
        "            'values': [128, 256, 512]\n",
        "        },\n",
        "        'dropout': {\n",
        "            'values': [0.3, 0.5]\n",
        "        },\n",
        "        'lr': {\n",
        "            'distribution': 'uniform',\n",
        "            'min': 0.0003,\n",
        "            'max': 0.0007\n",
        "        },\n",
        "        'epochs': {\n",
        "            'value': 20\n",
        "        },\n",
        "        'data_dir': {\n",
        "            'value': '/content/inaturalist_12K'\n",
        "        },\n",
        "        'data_augmentation': {\n",
        "            'values': ['yes', 'no']\n",
        "        }\n",
        "    }\n",
        "}"
      ]
    },
    {
      "cell_type": "code",
      "execution_count": null,
      "metadata": {
        "id": "mAowWFIiHp4y"
      },
      "outputs": [],
      "source": [
        "sweep_id = wandb.sweep(sweep_config, project=\"A2\")\n",
        "wandb.agent(sweep_id, function=train_model, count=20)"
      ]
    }
  ],
  "metadata": {
    "accelerator": "TPU",
    "colab": {
      "gpuType": "V28",
      "provenance": []
    },
    "kernelspec": {
      "display_name": "Python 3",
      "name": "python3"
    },
    "language_info": {
      "codemirror_mode": {
        "name": "ipython",
        "version": 3
      },
      "file_extension": ".py",
      "mimetype": "text/x-python",
      "name": "python",
      "nbconvert_exporter": "python",
      "pygments_lexer": "ipython3",
      "version": "3.12.3"
    }
  },
  "nbformat": 4,
  "nbformat_minor": 0
}
