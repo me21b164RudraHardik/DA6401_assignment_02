{
  "nbformat": 4,
  "nbformat_minor": 0,
  "metadata": {
    "colab": {
      "provenance": [],
      "gpuType": "T4"
    },
    "kernelspec": {
      "name": "python3",
      "display_name": "Python 3"
    },
    "language_info": {
      "name": "python"
    },
    "accelerator": "GPU"
  },
  "cells": [
    {
      "cell_type": "markdown",
      "source": [
        "### **Installing Pytorch Lightning**"
      ],
      "metadata": {
        "id": "iiyvzT6qKzoS"
      }
    },
    {
      "cell_type": "code",
      "execution_count": null,
      "metadata": {
        "colab": {
          "base_uri": "https://localhost:8080/"
        },
        "id": "MjPFNIY0Jpwi",
        "outputId": "9ae94e56-5e35-4686-955e-4d9d862590a8"
      },
      "outputs": [
        {
          "output_type": "stream",
          "name": "stdout",
          "text": [
            "Collecting pytorch_lightning\n",
            "  Downloading pytorch_lightning-2.5.1-py3-none-any.whl.metadata (20 kB)\n",
            "Requirement already satisfied: torch>=2.1.0 in /usr/local/lib/python3.11/dist-packages (from pytorch_lightning) (2.6.0+cu124)\n",
            "Requirement already satisfied: tqdm>=4.57.0 in /usr/local/lib/python3.11/dist-packages (from pytorch_lightning) (4.67.1)\n",
            "Requirement already satisfied: PyYAML>=5.4 in /usr/local/lib/python3.11/dist-packages (from pytorch_lightning) (6.0.2)\n",
            "Requirement already satisfied: fsspec>=2022.5.0 in /usr/local/lib/python3.11/dist-packages (from fsspec[http]>=2022.5.0->pytorch_lightning) (2025.3.2)\n",
            "Collecting torchmetrics>=0.7.0 (from pytorch_lightning)\n",
            "  Downloading torchmetrics-1.7.1-py3-none-any.whl.metadata (21 kB)\n",
            "Requirement already satisfied: packaging>=20.0 in /usr/local/lib/python3.11/dist-packages (from pytorch_lightning) (24.2)\n",
            "Requirement already satisfied: typing-extensions>=4.4.0 in /usr/local/lib/python3.11/dist-packages (from pytorch_lightning) (4.13.2)\n",
            "Collecting lightning-utilities>=0.10.0 (from pytorch_lightning)\n",
            "  Downloading lightning_utilities-0.14.3-py3-none-any.whl.metadata (5.6 kB)\n",
            "Requirement already satisfied: aiohttp!=4.0.0a0,!=4.0.0a1 in /usr/local/lib/python3.11/dist-packages (from fsspec[http]>=2022.5.0->pytorch_lightning) (3.11.15)\n",
            "Requirement already satisfied: setuptools in /usr/local/lib/python3.11/dist-packages (from lightning-utilities>=0.10.0->pytorch_lightning) (75.2.0)\n",
            "Requirement already satisfied: filelock in /usr/local/lib/python3.11/dist-packages (from torch>=2.1.0->pytorch_lightning) (3.18.0)\n",
            "Requirement already satisfied: networkx in /usr/local/lib/python3.11/dist-packages (from torch>=2.1.0->pytorch_lightning) (3.4.2)\n",
            "Requirement already satisfied: jinja2 in /usr/local/lib/python3.11/dist-packages (from torch>=2.1.0->pytorch_lightning) (3.1.6)\n",
            "Collecting nvidia-cuda-nvrtc-cu12==12.4.127 (from torch>=2.1.0->pytorch_lightning)\n",
            "  Downloading nvidia_cuda_nvrtc_cu12-12.4.127-py3-none-manylinux2014_x86_64.whl.metadata (1.5 kB)\n",
            "Collecting nvidia-cuda-runtime-cu12==12.4.127 (from torch>=2.1.0->pytorch_lightning)\n",
            "  Downloading nvidia_cuda_runtime_cu12-12.4.127-py3-none-manylinux2014_x86_64.whl.metadata (1.5 kB)\n",
            "Collecting nvidia-cuda-cupti-cu12==12.4.127 (from torch>=2.1.0->pytorch_lightning)\n",
            "  Downloading nvidia_cuda_cupti_cu12-12.4.127-py3-none-manylinux2014_x86_64.whl.metadata (1.6 kB)\n",
            "Collecting nvidia-cudnn-cu12==9.1.0.70 (from torch>=2.1.0->pytorch_lightning)\n",
            "  Downloading nvidia_cudnn_cu12-9.1.0.70-py3-none-manylinux2014_x86_64.whl.metadata (1.6 kB)\n",
            "Collecting nvidia-cublas-cu12==12.4.5.8 (from torch>=2.1.0->pytorch_lightning)\n",
            "  Downloading nvidia_cublas_cu12-12.4.5.8-py3-none-manylinux2014_x86_64.whl.metadata (1.5 kB)\n",
            "Collecting nvidia-cufft-cu12==11.2.1.3 (from torch>=2.1.0->pytorch_lightning)\n",
            "  Downloading nvidia_cufft_cu12-11.2.1.3-py3-none-manylinux2014_x86_64.whl.metadata (1.5 kB)\n",
            "Collecting nvidia-curand-cu12==10.3.5.147 (from torch>=2.1.0->pytorch_lightning)\n",
            "  Downloading nvidia_curand_cu12-10.3.5.147-py3-none-manylinux2014_x86_64.whl.metadata (1.5 kB)\n",
            "Collecting nvidia-cusolver-cu12==11.6.1.9 (from torch>=2.1.0->pytorch_lightning)\n",
            "  Downloading nvidia_cusolver_cu12-11.6.1.9-py3-none-manylinux2014_x86_64.whl.metadata (1.6 kB)\n",
            "Collecting nvidia-cusparse-cu12==12.3.1.170 (from torch>=2.1.0->pytorch_lightning)\n",
            "  Downloading nvidia_cusparse_cu12-12.3.1.170-py3-none-manylinux2014_x86_64.whl.metadata (1.6 kB)\n",
            "Requirement already satisfied: nvidia-cusparselt-cu12==0.6.2 in /usr/local/lib/python3.11/dist-packages (from torch>=2.1.0->pytorch_lightning) (0.6.2)\n",
            "Requirement already satisfied: nvidia-nccl-cu12==2.21.5 in /usr/local/lib/python3.11/dist-packages (from torch>=2.1.0->pytorch_lightning) (2.21.5)\n",
            "Requirement already satisfied: nvidia-nvtx-cu12==12.4.127 in /usr/local/lib/python3.11/dist-packages (from torch>=2.1.0->pytorch_lightning) (12.4.127)\n",
            "Collecting nvidia-nvjitlink-cu12==12.4.127 (from torch>=2.1.0->pytorch_lightning)\n",
            "  Downloading nvidia_nvjitlink_cu12-12.4.127-py3-none-manylinux2014_x86_64.whl.metadata (1.5 kB)\n",
            "Requirement already satisfied: triton==3.2.0 in /usr/local/lib/python3.11/dist-packages (from torch>=2.1.0->pytorch_lightning) (3.2.0)\n",
            "Requirement already satisfied: sympy==1.13.1 in /usr/local/lib/python3.11/dist-packages (from torch>=2.1.0->pytorch_lightning) (1.13.1)\n",
            "Requirement already satisfied: mpmath<1.4,>=1.1.0 in /usr/local/lib/python3.11/dist-packages (from sympy==1.13.1->torch>=2.1.0->pytorch_lightning) (1.3.0)\n",
            "Requirement already satisfied: numpy>1.20.0 in /usr/local/lib/python3.11/dist-packages (from torchmetrics>=0.7.0->pytorch_lightning) (2.0.2)\n",
            "Requirement already satisfied: aiohappyeyeballs>=2.3.0 in /usr/local/lib/python3.11/dist-packages (from aiohttp!=4.0.0a0,!=4.0.0a1->fsspec[http]>=2022.5.0->pytorch_lightning) (2.6.1)\n",
            "Requirement already satisfied: aiosignal>=1.1.2 in /usr/local/lib/python3.11/dist-packages (from aiohttp!=4.0.0a0,!=4.0.0a1->fsspec[http]>=2022.5.0->pytorch_lightning) (1.3.2)\n",
            "Requirement already satisfied: attrs>=17.3.0 in /usr/local/lib/python3.11/dist-packages (from aiohttp!=4.0.0a0,!=4.0.0a1->fsspec[http]>=2022.5.0->pytorch_lightning) (25.3.0)\n",
            "Requirement already satisfied: frozenlist>=1.1.1 in /usr/local/lib/python3.11/dist-packages (from aiohttp!=4.0.0a0,!=4.0.0a1->fsspec[http]>=2022.5.0->pytorch_lightning) (1.5.0)\n",
            "Requirement already satisfied: multidict<7.0,>=4.5 in /usr/local/lib/python3.11/dist-packages (from aiohttp!=4.0.0a0,!=4.0.0a1->fsspec[http]>=2022.5.0->pytorch_lightning) (6.4.3)\n",
            "Requirement already satisfied: propcache>=0.2.0 in /usr/local/lib/python3.11/dist-packages (from aiohttp!=4.0.0a0,!=4.0.0a1->fsspec[http]>=2022.5.0->pytorch_lightning) (0.3.1)\n",
            "Requirement already satisfied: yarl<2.0,>=1.17.0 in /usr/local/lib/python3.11/dist-packages (from aiohttp!=4.0.0a0,!=4.0.0a1->fsspec[http]>=2022.5.0->pytorch_lightning) (1.19.0)\n",
            "Requirement already satisfied: MarkupSafe>=2.0 in /usr/local/lib/python3.11/dist-packages (from jinja2->torch>=2.1.0->pytorch_lightning) (3.0.2)\n",
            "Requirement already satisfied: idna>=2.0 in /usr/local/lib/python3.11/dist-packages (from yarl<2.0,>=1.17.0->aiohttp!=4.0.0a0,!=4.0.0a1->fsspec[http]>=2022.5.0->pytorch_lightning) (3.10)\n",
            "Downloading pytorch_lightning-2.5.1-py3-none-any.whl (822 kB)\n",
            "\u001b[2K   \u001b[90m━━━━━━━━━━━━━━━━━━━━━━━━━━━━━━━━━━━━━━━━\u001b[0m \u001b[32m823.0/823.0 kB\u001b[0m \u001b[31m15.3 MB/s\u001b[0m eta \u001b[36m0:00:00\u001b[0m\n",
            "\u001b[?25hDownloading lightning_utilities-0.14.3-py3-none-any.whl (28 kB)\n",
            "Downloading nvidia_cublas_cu12-12.4.5.8-py3-none-manylinux2014_x86_64.whl (363.4 MB)\n",
            "\u001b[2K   \u001b[90m━━━━━━━━━━━━━━━━━━━━━━━━━━━━━━━━━━━━━━━━\u001b[0m \u001b[32m363.4/363.4 MB\u001b[0m \u001b[31m3.9 MB/s\u001b[0m eta \u001b[36m0:00:00\u001b[0m\n",
            "\u001b[?25hDownloading nvidia_cuda_cupti_cu12-12.4.127-py3-none-manylinux2014_x86_64.whl (13.8 MB)\n",
            "\u001b[2K   \u001b[90m━━━━━━━━━━━━━━━━━━━━━━━━━━━━━━━━━━━━━━━━\u001b[0m \u001b[32m13.8/13.8 MB\u001b[0m \u001b[31m107.8 MB/s\u001b[0m eta \u001b[36m0:00:00\u001b[0m\n",
            "\u001b[?25hDownloading nvidia_cuda_nvrtc_cu12-12.4.127-py3-none-manylinux2014_x86_64.whl (24.6 MB)\n",
            "\u001b[2K   \u001b[90m━━━━━━━━━━━━━━━━━━━━━━━━━━━━━━━━━━━━━━━━\u001b[0m \u001b[32m24.6/24.6 MB\u001b[0m \u001b[31m85.4 MB/s\u001b[0m eta \u001b[36m0:00:00\u001b[0m\n",
            "\u001b[?25hDownloading nvidia_cuda_runtime_cu12-12.4.127-py3-none-manylinux2014_x86_64.whl (883 kB)\n",
            "\u001b[2K   \u001b[90m━━━━━━━━━━━━━━━━━━━━━━━━━━━━━━━━━━━━━━━━\u001b[0m \u001b[32m883.7/883.7 kB\u001b[0m \u001b[31m48.8 MB/s\u001b[0m eta \u001b[36m0:00:00\u001b[0m\n",
            "\u001b[?25hDownloading nvidia_cudnn_cu12-9.1.0.70-py3-none-manylinux2014_x86_64.whl (664.8 MB)\n",
            "\u001b[2K   \u001b[90m━━━━━━━━━━━━━━━━━━━━━━━━━━━━━━━━━━━━━━━━\u001b[0m \u001b[32m664.8/664.8 MB\u001b[0m \u001b[31m2.9 MB/s\u001b[0m eta \u001b[36m0:00:00\u001b[0m\n",
            "\u001b[?25hDownloading nvidia_cufft_cu12-11.2.1.3-py3-none-manylinux2014_x86_64.whl (211.5 MB)\n",
            "\u001b[2K   \u001b[90m━━━━━━━━━━━━━━━━━━━━━━━━━━━━━━━━━━━━━━━━\u001b[0m \u001b[32m211.5/211.5 MB\u001b[0m \u001b[31m5.8 MB/s\u001b[0m eta \u001b[36m0:00:00\u001b[0m\n",
            "\u001b[?25hDownloading nvidia_curand_cu12-10.3.5.147-py3-none-manylinux2014_x86_64.whl (56.3 MB)\n",
            "\u001b[2K   \u001b[90m━━━━━━━━━━━━━━━━━━━━━━━━━━━━━━━━━━━━━━━━\u001b[0m \u001b[32m56.3/56.3 MB\u001b[0m \u001b[31m13.2 MB/s\u001b[0m eta \u001b[36m0:00:00\u001b[0m\n",
            "\u001b[?25hDownloading nvidia_cusolver_cu12-11.6.1.9-py3-none-manylinux2014_x86_64.whl (127.9 MB)\n",
            "\u001b[2K   \u001b[90m━━━━━━━━━━━━━━━━━━━━━━━━━━━━━━━━━━━━━━━━\u001b[0m \u001b[32m127.9/127.9 MB\u001b[0m \u001b[31m7.4 MB/s\u001b[0m eta \u001b[36m0:00:00\u001b[0m\n",
            "\u001b[?25hDownloading nvidia_cusparse_cu12-12.3.1.170-py3-none-manylinux2014_x86_64.whl (207.5 MB)\n",
            "\u001b[2K   \u001b[90m━━━━━━━━━━━━━━━━━━━━━━━━━━━━━━━━━━━━━━━━\u001b[0m \u001b[32m207.5/207.5 MB\u001b[0m \u001b[31m6.9 MB/s\u001b[0m eta \u001b[36m0:00:00\u001b[0m\n",
            "\u001b[?25hDownloading nvidia_nvjitlink_cu12-12.4.127-py3-none-manylinux2014_x86_64.whl (21.1 MB)\n",
            "\u001b[2K   \u001b[90m━━━━━━━━━━━━━━━━━━━━━━━━━━━━━━━━━━━━━━━━\u001b[0m \u001b[32m21.1/21.1 MB\u001b[0m \u001b[31m91.7 MB/s\u001b[0m eta \u001b[36m0:00:00\u001b[0m\n",
            "\u001b[?25hDownloading torchmetrics-1.7.1-py3-none-any.whl (961 kB)\n",
            "\u001b[2K   \u001b[90m━━━━━━━━━━━━━━━━━━━━━━━━━━━━━━━━━━━━━━━━\u001b[0m \u001b[32m961.5/961.5 kB\u001b[0m \u001b[31m56.4 MB/s\u001b[0m eta \u001b[36m0:00:00\u001b[0m\n",
            "\u001b[?25hInstalling collected packages: nvidia-nvjitlink-cu12, nvidia-curand-cu12, nvidia-cufft-cu12, nvidia-cuda-runtime-cu12, nvidia-cuda-nvrtc-cu12, nvidia-cuda-cupti-cu12, nvidia-cublas-cu12, lightning-utilities, nvidia-cusparse-cu12, nvidia-cudnn-cu12, nvidia-cusolver-cu12, torchmetrics, pytorch_lightning\n",
            "  Attempting uninstall: nvidia-nvjitlink-cu12\n",
            "    Found existing installation: nvidia-nvjitlink-cu12 12.5.82\n",
            "    Uninstalling nvidia-nvjitlink-cu12-12.5.82:\n",
            "      Successfully uninstalled nvidia-nvjitlink-cu12-12.5.82\n",
            "  Attempting uninstall: nvidia-curand-cu12\n",
            "    Found existing installation: nvidia-curand-cu12 10.3.6.82\n",
            "    Uninstalling nvidia-curand-cu12-10.3.6.82:\n",
            "      Successfully uninstalled nvidia-curand-cu12-10.3.6.82\n",
            "  Attempting uninstall: nvidia-cufft-cu12\n",
            "    Found existing installation: nvidia-cufft-cu12 11.2.3.61\n",
            "    Uninstalling nvidia-cufft-cu12-11.2.3.61:\n",
            "      Successfully uninstalled nvidia-cufft-cu12-11.2.3.61\n",
            "  Attempting uninstall: nvidia-cuda-runtime-cu12\n",
            "    Found existing installation: nvidia-cuda-runtime-cu12 12.5.82\n",
            "    Uninstalling nvidia-cuda-runtime-cu12-12.5.82:\n",
            "      Successfully uninstalled nvidia-cuda-runtime-cu12-12.5.82\n",
            "  Attempting uninstall: nvidia-cuda-nvrtc-cu12\n",
            "    Found existing installation: nvidia-cuda-nvrtc-cu12 12.5.82\n",
            "    Uninstalling nvidia-cuda-nvrtc-cu12-12.5.82:\n",
            "      Successfully uninstalled nvidia-cuda-nvrtc-cu12-12.5.82\n",
            "  Attempting uninstall: nvidia-cuda-cupti-cu12\n",
            "    Found existing installation: nvidia-cuda-cupti-cu12 12.5.82\n",
            "    Uninstalling nvidia-cuda-cupti-cu12-12.5.82:\n",
            "      Successfully uninstalled nvidia-cuda-cupti-cu12-12.5.82\n",
            "  Attempting uninstall: nvidia-cublas-cu12\n",
            "    Found existing installation: nvidia-cublas-cu12 12.5.3.2\n",
            "    Uninstalling nvidia-cublas-cu12-12.5.3.2:\n",
            "      Successfully uninstalled nvidia-cublas-cu12-12.5.3.2\n",
            "  Attempting uninstall: nvidia-cusparse-cu12\n",
            "    Found existing installation: nvidia-cusparse-cu12 12.5.1.3\n",
            "    Uninstalling nvidia-cusparse-cu12-12.5.1.3:\n",
            "      Successfully uninstalled nvidia-cusparse-cu12-12.5.1.3\n",
            "  Attempting uninstall: nvidia-cudnn-cu12\n",
            "    Found existing installation: nvidia-cudnn-cu12 9.3.0.75\n",
            "    Uninstalling nvidia-cudnn-cu12-9.3.0.75:\n",
            "      Successfully uninstalled nvidia-cudnn-cu12-9.3.0.75\n",
            "  Attempting uninstall: nvidia-cusolver-cu12\n",
            "    Found existing installation: nvidia-cusolver-cu12 11.6.3.83\n",
            "    Uninstalling nvidia-cusolver-cu12-11.6.3.83:\n",
            "      Successfully uninstalled nvidia-cusolver-cu12-11.6.3.83\n",
            "Successfully installed lightning-utilities-0.14.3 nvidia-cublas-cu12-12.4.5.8 nvidia-cuda-cupti-cu12-12.4.127 nvidia-cuda-nvrtc-cu12-12.4.127 nvidia-cuda-runtime-cu12-12.4.127 nvidia-cudnn-cu12-9.1.0.70 nvidia-cufft-cu12-11.2.1.3 nvidia-curand-cu12-10.3.5.147 nvidia-cusolver-cu12-11.6.1.9 nvidia-cusparse-cu12-12.3.1.170 nvidia-nvjitlink-cu12-12.4.127 pytorch_lightning-2.5.1 torchmetrics-1.7.1\n"
          ]
        }
      ],
      "source": [
        "!pip install pytorch_lightning"
      ]
    },
    {
      "cell_type": "code",
      "source": [
        "# Mount Google Drive and unzip the dataset\n",
        "from google.colab import drive\n",
        "import zipfile\n",
        "import os\n",
        "\n",
        "drive.mount('/content/drive')\n",
        "\n",
        "# Unzip dataset\n",
        "zip_path = '/content/drive/MyDrive/inaturalist_12K.zip'\n",
        "extract_path = '/content/inaturalist_12K'\n",
        "\n",
        "if not os.path.exists(extract_path):\n",
        "    with zipfile.ZipFile(zip_path, 'r') as zip_ref:\n",
        "        zip_ref.extractall('/content/')"
      ],
      "metadata": {
        "colab": {
          "base_uri": "https://localhost:8080/"
        },
        "id": "5id3WUGHKD3T",
        "outputId": "a855e1c9-eeba-4030-8d67-7c834a293b09"
      },
      "execution_count": null,
      "outputs": [
        {
          "output_type": "stream",
          "name": "stdout",
          "text": [
            "Mounted at /content/drive\n"
          ]
        }
      ]
    },
    {
      "cell_type": "code",
      "source": [
        "import os\n",
        "import torch\n",
        "import torch.nn as nn\n",
        "import torch.nn.functional as F\n",
        "from torchvision import datasets, transforms\n",
        "from torch.utils.data import DataLoader, random_split, Subset\n",
        "import wandb\n",
        "from sklearn.model_selection import StratifiedShuffleSplit\n",
        "from tqdm import tqdm\n",
        "\n",
        "# Define a dictionary to map activation function names to their corresponding PyTorch classes\n",
        "activation_map = {\n",
        "    'ReLU': nn.ReLU,\n",
        "    'GELU': nn.GELU,\n",
        "    'SiLU': nn.SiLU,\n",
        "    'Mish': nn.Mish\n",
        "}\n",
        "\n",
        "# Flexible Convolutional Neural Network class definition\n",
        "class FlexibleCNN(nn.Module):\n",
        "    def __init__(self, conv_filters, kernel_sizes, activation_fn_str, dense_units, dropout_rate=0.5, num_classes=10):\n",
        "        super(FlexibleCNN, self).__init__()\n",
        "\n",
        "        # Validate activation function string\n",
        "        if activation_fn_str not in activation_map:\n",
        "            raise ValueError(f\"Unsupported activation function: {activation_fn_str}\")\n",
        "        activation_fn = activation_map[activation_fn_str]\n",
        "\n",
        "        self.convs = nn.ModuleList()\n",
        "        in_channels = 3  # RGB channels for images\n",
        "\n",
        "        # Create convolutional blocks with Conv2D -> Activation -> MaxPooling\n",
        "        for filters, k in zip(conv_filters, kernel_sizes):\n",
        "            self.convs.append(nn.Sequential(\n",
        "                nn.Conv2d(in_channels, filters, kernel_size=k, padding=k // 2),\n",
        "                activation_fn(),  # Activation function instance\n",
        "                nn.MaxPool2d(kernel_size=2)\n",
        "            ))\n",
        "            in_channels = filters  # Update for next layer\n",
        "\n",
        "        self.flatten = nn.Flatten()\n",
        "\n",
        "        self.dropout = nn.Dropout(dropout_rate)\n",
        "        self.fc2 = nn.Linear(dense_units, num_classes)\n",
        "\n",
        "    def forward(self, x):\n",
        "        for conv in self.convs:\n",
        "            x = conv(x)\n",
        "        x = self.flatten(x)\n",
        "        x = self.fc1(x)\n",
        "        x = self.dropout(x)\n",
        "        x = self.fc2(x)\n",
        "        return x\n",
        "\n",
        "# Utility function to calculate accuracy\n",
        "def accuracy(preds, labels):\n",
        "    _, pred_classes = preds.max(1)\n",
        "    correct = (pred_classes == labels).sum().item()\n",
        "    return correct / len(labels)\n",
        "\n",
        "# Load training and validation data using stratified split\n",
        "def load_data(data_dir, batch_size, val_split=0.2):\n",
        "    transform = transforms.Compose([\n",
        "        transforms.Resize((224, 224)),\n",
        "        transforms.ToTensor()\n",
        "    ])\n",
        "\n",
        "    full_dataset = datasets.ImageFolder(os.path.join(data_dir, 'train'), transform=transform)\n",
        "    targets = [label for _, label in full_dataset.imgs]\n",
        "\n",
        "    splitter = StratifiedShuffleSplit(n_splits=1, test_size=val_split, random_state=42)\n",
        "    train_idx, val_idx = next(splitter.split(full_dataset.imgs, targets))\n",
        "\n",
        "    train_subset = Subset(full_dataset, train_idx)\n",
        "    val_subset = Subset(full_dataset, val_idx)\n",
        "\n",
        "    train_loader = DataLoader(train_subset, batch_size=batch_size, shuffle=True)\n",
        "    val_loader = DataLoader(val_subset, batch_size=batch_size, shuffle=False)\n",
        "    return train_loader, val_loader\n",
        "\n",
        "# Load test data\n",
        "def load_test_data(data_dir, batch_size):\n",
        "    transform = transforms.Compose([\n",
        "        transforms.Resize((224, 224)),\n",
        "        transforms.ToTensor()\n",
        "    ])\n",
        "    test_dataset = datasets.ImageFolder(os.path.join(data_dir, 'val'), transform=transform)\n",
        "    test_loader = DataLoader(test_dataset, batch_size=batch_size, shuffle=False)\n",
        "    return test_loader, test_dataset\n",
        "\n",
        "# Main training function integrated with Weights & Biases\n",
        "def train_model(config=None):\n",
        "    wandb.init(config=config)\n",
        "    config = wandb.config\n",
        "\n",
        "    # Apply data augmentation only if specified\n",
        "    if config.data_augmentation == 'yes':\n",
        "        train_transform = transforms.Compose([\n",
        "            transforms.RandomResizedCrop(224),\n",
        "            transforms.RandomHorizontalFlip(),\n",
        "            transforms.ToTensor()\n",
        "        ])\n",
        "    else:\n",
        "        train_transform = transforms.Compose([\n",
        "            transforms.Resize((224, 224)),\n",
        "            transforms.ToTensor()\n",
        "        ])\n",
        "\n",
        "    val_transform = transforms.Compose([\n",
        "        transforms.Resize((224, 224)),\n",
        "        transforms.ToTensor()\n",
        "    ])\n",
        "\n",
        "    # Select device\n",
        "    device = torch.device(\"cuda\" if torch.cuda.is_available() else \"cpu\")\n",
        "\n",
        "    # Initialize model\n",
        "    model = FlexibleCNN(\n",
        "        conv_filters=config.conv_filters,\n",
        "        kernel_sizes=config.kernel_sizes,\n",
        "        activation_fn_str=config.activation_fn,\n",
        "        dense_units=config.dense_units,\n",
        "        dropout_rate=config.dropout,\n",
        "        num_classes=10\n",
        "    ).to(device)\n",
        "\n",
        "    # Define loss function and optimizer\n",
        "    criterion = nn.CrossEntropyLoss()\n",
        "    optimizer = torch.optim.Adam(model.parameters(), lr=config.lr)\n",
        "\n",
        "    # Load data loaders\n",
        "    train_loader, val_loader = load_data(config.data_dir, config.batch_size)\n",
        "\n",
        "    # Training loop\n",
        "    for epoch in range(config.epochs):\n",
        "        model.train()\n",
        "        total_train_loss, total_train_acc = 0, 0\n",
        "\n",
        "        for batch in tqdm(train_loader, desc=f\"Epoch {epoch+1} [Train]\"):\n",
        "            inputs, labels = batch[0].to(device), batch[1].to(device)\n",
        "            optimizer.zero_grad()\n",
        "            outputs = model(inputs)\n",
        "            loss = criterion(outputs, labels)\n",
        "            loss.backward()\n",
        "            optimizer.step()\n",
        "            total_train_loss += loss.item()\n",
        "            total_train_acc += accuracy(outputs, labels)\n",
        "\n",
        "        # Validation loop\n",
        "        model.eval()\n",
        "        total_val_loss, total_val_acc = 0, 0\n",
        "        with torch.no_grad():\n",
        "            for batch in tqdm(val_loader, desc=f\"Epoch {epoch+1} [Val]\"):\n",
        "                inputs, labels = batch[0].to(device), batch[1].to(device)\n",
        "                outputs = model(inputs)\n",
        "                loss = criterion(outputs, labels)\n",
        "                total_val_loss += loss.item()\n",
        "                total_val_acc += accuracy(outputs, labels)\n",
        "\n",
        "        # Compute average metrics\n",
        "        train_acc = total_train_acc / len(train_loader)\n",
        "        val_acc = total_val_acc / len(val_loader)\n",
        "\n",
        "        # Log metrics to Weights & Biases\n",
        "        wandb.log({\n",
        "            'epoch': epoch + 1,\n",
        "            'train_loss': total_train_loss / len(train_loader),\n",
        "            'train_accuracy': train_acc,\n",
        "            'val_loss': total_val_loss / len(val_loader),\n",
        "            'val_accuracy': val_acc\n",
        "        })\n"
      ],
      "metadata": {
        "id": "k1U1ZPWpKNAV"
      },
      "execution_count": null,
      "outputs": []
    },
    {
      "cell_type": "markdown",
      "source": [
        "**Sweep Configuration**"
      ],
      "metadata": {
        "id": "h_Ovd5hcLqTU"
      }
    },
    {
      "cell_type": "code",
      "source": [
        "sweep_config = {\n",
        "    'method': 'bayes',\n",
        "    'metric': {\n",
        "        'name': 'val_accuracy',\n",
        "        'goal': 'maximize'\n",
        "    },\n",
        "    'parameters': {\n",
        "        'activation_fn': {\n",
        "            'values': ['GELU', 'SiLU']\n",
        "        },\n",
        "        'batch_size': {\n",
        "            'values': [32, 64]\n",
        "        },\n",
        "        'conv_filters': {\n",
        "            'values': [[64, 64, 64, 64, 64]]\n",
        "        },\n",
        "        'kernel_sizes': {\n",
        "            'values': [[3, 3, 3, 3, 3]]\n",
        "        },\n",
        "        'dense_units': {\n",
        "            'values': [128, 256, 512]\n",
        "        },\n",
        "        'dropout': {\n",
        "            'values': [0.3, 0.5]\n",
        "        },\n",
        "        'lr': {\n",
        "            'distribution': 'uniform',\n",
        "            'min': 0.0003,\n",
        "            'max': 0.0007\n",
        "        },\n",
        "        'epochs': {\n",
        "            'value': 10\n",
        "        },\n",
        "        'data_dir': {\n",
        "            'value': '/content/inaturalist_12K'\n",
        "        },\n",
        "        'data_augmentation': {\n",
        "            'values': ['yes', 'no']\n",
        "        }\n",
        "    }\n",
        "}"
      ],
      "metadata": {
        "id": "6qX5Dc74KNvG"
      },
      "execution_count": null,
      "outputs": []
    },
    {
      "cell_type": "code",
      "source": [
        "sweep_id = wandb.sweep(sweep_config, project=\"A2\")\n",
        "wandb.agent(sweep_id, function=train_model, count=20)"
      ],
      "metadata": {
        "id": "Oz-AsuW4KR6J",
        "colab": {
          "base_uri": "https://localhost:8080/",
          "height": 1000
        },
        "outputId": "6b57b243-126d-4590-84d9-99679dd95b35"
      },
      "execution_count": null,
      "outputs": [
        {
          "output_type": "stream",
          "name": "stderr",
          "text": [
            "\u001b[34m\u001b[1mwandb\u001b[0m: Using wandb-core as the SDK backend.  Please refer to https://wandb.me/wandb-core for more information.\n"
          ]
        },
        {
          "output_type": "stream",
          "name": "stdout",
          "text": [
            "Create sweep with ID: 65nw10d9\n",
            "Sweep URL: https://wandb.ai/me21b164-indian-institute-of-technology-madras/A2/sweeps/65nw10d9\n"
          ]
        },
        {
          "output_type": "stream",
          "name": "stderr",
          "text": [
            "\u001b[34m\u001b[1mwandb\u001b[0m: Agent Starting Run: 1walwjo9 with config:\n",
            "\u001b[34m\u001b[1mwandb\u001b[0m: \tactivation_fn: SiLU\n",
            "\u001b[34m\u001b[1mwandb\u001b[0m: \tbatch_size: 32\n",
            "\u001b[34m\u001b[1mwandb\u001b[0m: \tconv_filters: [64, 64, 64, 64, 64]\n",
            "\u001b[34m\u001b[1mwandb\u001b[0m: \tdata_augmentation: yes\n",
            "\u001b[34m\u001b[1mwandb\u001b[0m: \tdata_dir: /content/inaturalist_12K\n",
            "\u001b[34m\u001b[1mwandb\u001b[0m: \tdense_units: 256\n",
            "\u001b[34m\u001b[1mwandb\u001b[0m: \tdropout: 0.5\n",
            "\u001b[34m\u001b[1mwandb\u001b[0m: \tepochs: 10\n",
            "\u001b[34m\u001b[1mwandb\u001b[0m: \tkernel_sizes: [3, 3, 3, 3, 3]\n",
            "\u001b[34m\u001b[1mwandb\u001b[0m: \tlr: 0.0006120471159227737\n",
            "\u001b[34m\u001b[1mwandb\u001b[0m: Currently logged in as: \u001b[33mme21b164\u001b[0m (\u001b[33mme21b164-indian-institute-of-technology-madras\u001b[0m) to \u001b[32mhttps://api.wandb.ai\u001b[0m. Use \u001b[1m`wandb login --relogin`\u001b[0m to force relogin\n"
          ]
        },
        {
          "output_type": "display_data",
          "data": {
            "text/plain": [
              "<IPython.core.display.HTML object>"
            ],
            "text/html": [
              "Tracking run with wandb version 0.19.9"
            ]
          },
          "metadata": {}
        },
        {
          "output_type": "display_data",
          "data": {
            "text/plain": [
              "<IPython.core.display.HTML object>"
            ],
            "text/html": [
              "Run data is saved locally in <code>/content/wandb/run-20250418_202246-1walwjo9</code>"
            ]
          },
          "metadata": {}
        },
        {
          "output_type": "display_data",
          "data": {
            "text/plain": [
              "<IPython.core.display.HTML object>"
            ],
            "text/html": [
              "Syncing run <strong><a href='https://wandb.ai/me21b164-indian-institute-of-technology-madras/A2/runs/1walwjo9' target=\"_blank\">stellar-sweep-1</a></strong> to <a href='https://wandb.ai/me21b164-indian-institute-of-technology-madras/A2' target=\"_blank\">Weights & Biases</a> (<a href='https://wandb.me/developer-guide' target=\"_blank\">docs</a>)<br>Sweep page: <a href='https://wandb.ai/me21b164-indian-institute-of-technology-madras/A2/sweeps/65nw10d9' target=\"_blank\">https://wandb.ai/me21b164-indian-institute-of-technology-madras/A2/sweeps/65nw10d9</a>"
            ]
          },
          "metadata": {}
        },
        {
          "output_type": "display_data",
          "data": {
            "text/plain": [
              "<IPython.core.display.HTML object>"
            ],
            "text/html": [
              " View project at <a href='https://wandb.ai/me21b164-indian-institute-of-technology-madras/A2' target=\"_blank\">https://wandb.ai/me21b164-indian-institute-of-technology-madras/A2</a>"
            ]
          },
          "metadata": {}
        },
        {
          "output_type": "display_data",
          "data": {
            "text/plain": [
              "<IPython.core.display.HTML object>"
            ],
            "text/html": [
              " View sweep at <a href='https://wandb.ai/me21b164-indian-institute-of-technology-madras/A2/sweeps/65nw10d9' target=\"_blank\">https://wandb.ai/me21b164-indian-institute-of-technology-madras/A2/sweeps/65nw10d9</a>"
            ]
          },
          "metadata": {}
        },
        {
          "output_type": "display_data",
          "data": {
            "text/plain": [
              "<IPython.core.display.HTML object>"
            ],
            "text/html": [
              " View run at <a href='https://wandb.ai/me21b164-indian-institute-of-technology-madras/A2/runs/1walwjo9' target=\"_blank\">https://wandb.ai/me21b164-indian-institute-of-technology-madras/A2/runs/1walwjo9</a>"
            ]
          },
          "metadata": {}
        },
        {
          "output_type": "stream",
          "name": "stderr",
          "text": [
            "Epoch 1 [Train]: 100%|██████████| 125/125 [00:44<00:00,  2.82it/s]\n",
            "Epoch 1 [Val]: 100%|██████████| 32/32 [00:09<00:00,  3.39it/s]\n",
            "Epoch 2 [Train]: 100%|██████████| 125/125 [00:42<00:00,  2.93it/s]\n",
            "Epoch 2 [Val]: 100%|██████████| 32/32 [00:09<00:00,  3.37it/s]\n",
            "Epoch 3 [Train]: 100%|██████████| 125/125 [00:42<00:00,  2.94it/s]\n",
            "Epoch 3 [Val]: 100%|██████████| 32/32 [00:09<00:00,  3.27it/s]\n",
            "Epoch 4 [Train]: 100%|██████████| 125/125 [00:42<00:00,  2.91it/s]\n",
            "Epoch 4 [Val]: 100%|██████████| 32/32 [00:08<00:00,  3.77it/s]\n",
            "Epoch 5 [Train]: 100%|██████████| 125/125 [00:42<00:00,  2.95it/s]\n",
            "Epoch 5 [Val]: 100%|██████████| 32/32 [00:09<00:00,  3.36it/s]\n",
            "Epoch 6 [Train]: 100%|██████████| 125/125 [00:42<00:00,  2.95it/s]\n",
            "Epoch 6 [Val]: 100%|██████████| 32/32 [00:09<00:00,  3.41it/s]\n",
            "Epoch 7 [Train]: 100%|██████████| 125/125 [00:43<00:00,  2.85it/s]\n",
            "Epoch 7 [Val]: 100%|██████████| 32/32 [00:08<00:00,  3.97it/s]\n",
            "Epoch 8 [Train]: 100%|██████████| 125/125 [00:42<00:00,  2.94it/s]\n",
            "Epoch 8 [Val]: 100%|██████████| 32/32 [00:09<00:00,  3.42it/s]\n",
            "Epoch 9 [Train]: 100%|██████████| 125/125 [00:42<00:00,  2.95it/s]\n",
            "Epoch 9 [Val]: 100%|██████████| 32/32 [00:09<00:00,  3.43it/s]\n",
            "Epoch 10 [Train]: 100%|██████████| 125/125 [00:42<00:00,  2.93it/s]\n",
            "Epoch 10 [Val]: 100%|██████████| 32/32 [00:09<00:00,  3.43it/s]\n"
          ]
        },
        {
          "output_type": "display_data",
          "data": {
            "text/plain": [
              "<IPython.core.display.HTML object>"
            ],
            "text/html": []
          },
          "metadata": {}
        },
        {
          "output_type": "display_data",
          "data": {
            "text/plain": [
              "<IPython.core.display.HTML object>"
            ],
            "text/html": [
              "<br>    <style><br>        .wandb-row {<br>            display: flex;<br>            flex-direction: row;<br>            flex-wrap: wrap;<br>            justify-content: flex-start;<br>            width: 100%;<br>        }<br>        .wandb-col {<br>            display: flex;<br>            flex-direction: column;<br>            flex-basis: 100%;<br>            flex: 1;<br>            padding: 10px;<br>        }<br>    </style><br><div class=\"wandb-row\"><div class=\"wandb-col\"><h3>Run history:</h3><br/><table class=\"wandb\"><tr><td>epoch</td><td>▁▂▃▃▄▅▆▆▇█</td></tr><tr><td>train_accuracy</td><td>▁▂▃▄▅▆▆▇▇█</td></tr><tr><td>train_loss</td><td>█▇▆▅▅▄▄▃▂▁</td></tr><tr><td>val_accuracy</td><td>▁▃▅▅▆▇█▇█▇</td></tr><tr><td>val_loss</td><td>█▆▅▃▃▂▁▂▂▅</td></tr></table><br/></div><div class=\"wandb-col\"><h3>Run summary:</h3><br/><table class=\"wandb\"><tr><td>epoch</td><td>10</td></tr><tr><td>train_accuracy</td><td>0.45511</td></tr><tr><td>train_loss</td><td>1.55861</td></tr><tr><td>val_accuracy</td><td>0.33496</td></tr><tr><td>val_loss</td><td>2.04728</td></tr></table><br/></div></div>"
            ]
          },
          "metadata": {}
        },
        {
          "output_type": "display_data",
          "data": {
            "text/plain": [
              "<IPython.core.display.HTML object>"
            ],
            "text/html": [
              " View run <strong style=\"color:#cdcd00\">stellar-sweep-1</strong> at: <a href='https://wandb.ai/me21b164-indian-institute-of-technology-madras/A2/runs/1walwjo9' target=\"_blank\">https://wandb.ai/me21b164-indian-institute-of-technology-madras/A2/runs/1walwjo9</a><br> View project at: <a href='https://wandb.ai/me21b164-indian-institute-of-technology-madras/A2' target=\"_blank\">https://wandb.ai/me21b164-indian-institute-of-technology-madras/A2</a><br>Synced 5 W&B file(s), 0 media file(s), 0 artifact file(s) and 0 other file(s)"
            ]
          },
          "metadata": {}
        },
        {
          "output_type": "display_data",
          "data": {
            "text/plain": [
              "<IPython.core.display.HTML object>"
            ],
            "text/html": [
              "Find logs at: <code>./wandb/run-20250418_202246-1walwjo9/logs</code>"
            ]
          },
          "metadata": {}
        },
        {
          "output_type": "stream",
          "name": "stderr",
          "text": [
            "\u001b[34m\u001b[1mwandb\u001b[0m: Agent Starting Run: utibc5y5 with config:\n",
            "\u001b[34m\u001b[1mwandb\u001b[0m: \tactivation_fn: SiLU\n",
            "\u001b[34m\u001b[1mwandb\u001b[0m: \tbatch_size: 32\n",
            "\u001b[34m\u001b[1mwandb\u001b[0m: \tconv_filters: [64, 64, 64, 64, 64]\n",
            "\u001b[34m\u001b[1mwandb\u001b[0m: \tdata_augmentation: no\n",
            "\u001b[34m\u001b[1mwandb\u001b[0m: \tdata_dir: /content/inaturalist_12K\n",
            "\u001b[34m\u001b[1mwandb\u001b[0m: \tdense_units: 128\n",
            "\u001b[34m\u001b[1mwandb\u001b[0m: \tdropout: 0.5\n",
            "\u001b[34m\u001b[1mwandb\u001b[0m: \tepochs: 10\n",
            "\u001b[34m\u001b[1mwandb\u001b[0m: \tkernel_sizes: [3, 3, 3, 3, 3]\n",
            "\u001b[34m\u001b[1mwandb\u001b[0m: \tlr: 0.0004653150146577237\n"
          ]
        },
        {
          "output_type": "display_data",
          "data": {
            "text/plain": [
              "<IPython.core.display.HTML object>"
            ],
            "text/html": [
              "Tracking run with wandb version 0.19.9"
            ]
          },
          "metadata": {}
        },
        {
          "output_type": "display_data",
          "data": {
            "text/plain": [
              "<IPython.core.display.HTML object>"
            ],
            "text/html": [
              "Run data is saved locally in <code>/content/wandb/run-20250418_203134-utibc5y5</code>"
            ]
          },
          "metadata": {}
        },
        {
          "output_type": "display_data",
          "data": {
            "text/plain": [
              "<IPython.core.display.HTML object>"
            ],
            "text/html": [
              "Syncing run <strong><a href='https://wandb.ai/me21b164-indian-institute-of-technology-madras/A2/runs/utibc5y5' target=\"_blank\">drawn-sweep-2</a></strong> to <a href='https://wandb.ai/me21b164-indian-institute-of-technology-madras/A2' target=\"_blank\">Weights & Biases</a> (<a href='https://wandb.me/developer-guide' target=\"_blank\">docs</a>)<br>Sweep page: <a href='https://wandb.ai/me21b164-indian-institute-of-technology-madras/A2/sweeps/65nw10d9' target=\"_blank\">https://wandb.ai/me21b164-indian-institute-of-technology-madras/A2/sweeps/65nw10d9</a>"
            ]
          },
          "metadata": {}
        },
        {
          "output_type": "display_data",
          "data": {
            "text/plain": [
              "<IPython.core.display.HTML object>"
            ],
            "text/html": [
              " View project at <a href='https://wandb.ai/me21b164-indian-institute-of-technology-madras/A2' target=\"_blank\">https://wandb.ai/me21b164-indian-institute-of-technology-madras/A2</a>"
            ]
          },
          "metadata": {}
        },
        {
          "output_type": "display_data",
          "data": {
            "text/plain": [
              "<IPython.core.display.HTML object>"
            ],
            "text/html": [
              " View sweep at <a href='https://wandb.ai/me21b164-indian-institute-of-technology-madras/A2/sweeps/65nw10d9' target=\"_blank\">https://wandb.ai/me21b164-indian-institute-of-technology-madras/A2/sweeps/65nw10d9</a>"
            ]
          },
          "metadata": {}
        },
        {
          "output_type": "display_data",
          "data": {
            "text/plain": [
              "<IPython.core.display.HTML object>"
            ],
            "text/html": [
              " View run at <a href='https://wandb.ai/me21b164-indian-institute-of-technology-madras/A2/runs/utibc5y5' target=\"_blank\">https://wandb.ai/me21b164-indian-institute-of-technology-madras/A2/runs/utibc5y5</a>"
            ]
          },
          "metadata": {}
        },
        {
          "output_type": "stream",
          "name": "stderr",
          "text": [
            "Epoch 1 [Train]: 100%|██████████| 125/125 [00:43<00:00,  2.90it/s]\n",
            "Epoch 1 [Val]: 100%|██████████| 32/32 [00:09<00:00,  3.38it/s]\n",
            "Epoch 2 [Train]: 100%|██████████| 125/125 [00:42<00:00,  2.97it/s]\n",
            "Epoch 2 [Val]: 100%|██████████| 32/32 [00:09<00:00,  3.49it/s]\n",
            "Epoch 3 [Train]: 100%|██████████| 125/125 [00:42<00:00,  2.97it/s]\n",
            "Epoch 3 [Val]: 100%|██████████| 32/32 [00:07<00:00,  4.01it/s]\n",
            "Epoch 4 [Train]: 100%|██████████| 125/125 [00:43<00:00,  2.89it/s]\n",
            "Epoch 4 [Val]: 100%|██████████| 32/32 [00:09<00:00,  3.44it/s]\n",
            "Epoch 5 [Train]: 100%|██████████| 125/125 [00:42<00:00,  2.98it/s]\n",
            "Epoch 5 [Val]: 100%|██████████| 32/32 [00:09<00:00,  3.45it/s]\n",
            "Epoch 6 [Train]: 100%|██████████| 125/125 [00:42<00:00,  2.97it/s]\n",
            "Epoch 6 [Val]: 100%|██████████| 32/32 [00:08<00:00,  3.98it/s]\n",
            "Epoch 7 [Train]: 100%|██████████| 125/125 [00:42<00:00,  2.96it/s]\n",
            "Epoch 7 [Val]: 100%|██████████| 32/32 [00:08<00:00,  3.58it/s]\n",
            "Epoch 8 [Train]: 100%|██████████| 125/125 [00:43<00:00,  2.89it/s]\n",
            "Epoch 8 [Val]: 100%|██████████| 32/32 [00:09<00:00,  3.44it/s]\n",
            "Epoch 9 [Train]: 100%|██████████| 125/125 [00:41<00:00,  2.98it/s]\n",
            "Epoch 9 [Val]: 100%|██████████| 32/32 [00:08<00:00,  3.86it/s]\n",
            "Epoch 10 [Train]: 100%|██████████| 125/125 [00:42<00:00,  2.95it/s]\n",
            "Epoch 10 [Val]: 100%|██████████| 32/32 [00:08<00:00,  3.68it/s]\n"
          ]
        },
        {
          "output_type": "display_data",
          "data": {
            "text/plain": [
              "<IPython.core.display.HTML object>"
            ],
            "text/html": []
          },
          "metadata": {}
        },
        {
          "output_type": "display_data",
          "data": {
            "text/plain": [
              "<IPython.core.display.HTML object>"
            ],
            "text/html": [
              "<br>    <style><br>        .wandb-row {<br>            display: flex;<br>            flex-direction: row;<br>            flex-wrap: wrap;<br>            justify-content: flex-start;<br>            width: 100%;<br>        }<br>        .wandb-col {<br>            display: flex;<br>            flex-direction: column;<br>            flex-basis: 100%;<br>            flex: 1;<br>            padding: 10px;<br>        }<br>    </style><br><div class=\"wandb-row\"><div class=\"wandb-col\"><h3>Run history:</h3><br/><table class=\"wandb\"><tr><td>epoch</td><td>▁▂▃▃▄▅▆▆▇█</td></tr><tr><td>train_accuracy</td><td>▁▃▄▅▆▆▇▇██</td></tr><tr><td>train_loss</td><td>█▇▆▅▄▄▃▂▂▁</td></tr><tr><td>val_accuracy</td><td>▁▄▅▆██▇██▇</td></tr><tr><td>val_loss</td><td>█▆▅▄▂▂▂▁▁▁</td></tr></table><br/></div><div class=\"wandb-col\"><h3>Run summary:</h3><br/><table class=\"wandb\"><tr><td>epoch</td><td>10</td></tr><tr><td>train_accuracy</td><td>0.39934</td></tr><tr><td>train_loss</td><td>1.7313</td></tr><tr><td>val_accuracy</td><td>0.33984</td></tr><tr><td>val_loss</td><td>1.86936</td></tr></table><br/></div></div>"
            ]
          },
          "metadata": {}
        },
        {
          "output_type": "display_data",
          "data": {
            "text/plain": [
              "<IPython.core.display.HTML object>"
            ],
            "text/html": [
              " View run <strong style=\"color:#cdcd00\">drawn-sweep-2</strong> at: <a href='https://wandb.ai/me21b164-indian-institute-of-technology-madras/A2/runs/utibc5y5' target=\"_blank\">https://wandb.ai/me21b164-indian-institute-of-technology-madras/A2/runs/utibc5y5</a><br> View project at: <a href='https://wandb.ai/me21b164-indian-institute-of-technology-madras/A2' target=\"_blank\">https://wandb.ai/me21b164-indian-institute-of-technology-madras/A2</a><br>Synced 5 W&B file(s), 0 media file(s), 0 artifact file(s) and 0 other file(s)"
            ]
          },
          "metadata": {}
        },
        {
          "output_type": "display_data",
          "data": {
            "text/plain": [
              "<IPython.core.display.HTML object>"
            ],
            "text/html": [
              "Find logs at: <code>./wandb/run-20250418_203134-utibc5y5/logs</code>"
            ]
          },
          "metadata": {}
        },
        {
          "output_type": "stream",
          "name": "stderr",
          "text": [
            "\u001b[34m\u001b[1mwandb\u001b[0m: Agent Starting Run: wt1abkcb with config:\n",
            "\u001b[34m\u001b[1mwandb\u001b[0m: \tactivation_fn: GELU\n",
            "\u001b[34m\u001b[1mwandb\u001b[0m: \tbatch_size: 32\n",
            "\u001b[34m\u001b[1mwandb\u001b[0m: \tconv_filters: [64, 64, 64, 64, 64]\n",
            "\u001b[34m\u001b[1mwandb\u001b[0m: \tdata_augmentation: yes\n",
            "\u001b[34m\u001b[1mwandb\u001b[0m: \tdata_dir: /content/inaturalist_12K\n",
            "\u001b[34m\u001b[1mwandb\u001b[0m: \tdense_units: 256\n",
            "\u001b[34m\u001b[1mwandb\u001b[0m: \tdropout: 0.5\n",
            "\u001b[34m\u001b[1mwandb\u001b[0m: \tepochs: 10\n",
            "\u001b[34m\u001b[1mwandb\u001b[0m: \tkernel_sizes: [3, 3, 3, 3, 3]\n",
            "\u001b[34m\u001b[1mwandb\u001b[0m: \tlr: 0.0006821000437245545\n"
          ]
        },
        {
          "output_type": "display_data",
          "data": {
            "text/plain": [
              "<IPython.core.display.HTML object>"
            ],
            "text/html": [
              "Tracking run with wandb version 0.19.9"
            ]
          },
          "metadata": {}
        },
        {
          "output_type": "display_data",
          "data": {
            "text/plain": [
              "<IPython.core.display.HTML object>"
            ],
            "text/html": [
              "Run data is saved locally in <code>/content/wandb/run-20250418_204010-wt1abkcb</code>"
            ]
          },
          "metadata": {}
        },
        {
          "output_type": "display_data",
          "data": {
            "text/plain": [
              "<IPython.core.display.HTML object>"
            ],
            "text/html": [
              "Syncing run <strong><a href='https://wandb.ai/me21b164-indian-institute-of-technology-madras/A2/runs/wt1abkcb' target=\"_blank\">soft-sweep-3</a></strong> to <a href='https://wandb.ai/me21b164-indian-institute-of-technology-madras/A2' target=\"_blank\">Weights & Biases</a> (<a href='https://wandb.me/developer-guide' target=\"_blank\">docs</a>)<br>Sweep page: <a href='https://wandb.ai/me21b164-indian-institute-of-technology-madras/A2/sweeps/65nw10d9' target=\"_blank\">https://wandb.ai/me21b164-indian-institute-of-technology-madras/A2/sweeps/65nw10d9</a>"
            ]
          },
          "metadata": {}
        },
        {
          "output_type": "display_data",
          "data": {
            "text/plain": [
              "<IPython.core.display.HTML object>"
            ],
            "text/html": [
              " View project at <a href='https://wandb.ai/me21b164-indian-institute-of-technology-madras/A2' target=\"_blank\">https://wandb.ai/me21b164-indian-institute-of-technology-madras/A2</a>"
            ]
          },
          "metadata": {}
        },
        {
          "output_type": "display_data",
          "data": {
            "text/plain": [
              "<IPython.core.display.HTML object>"
            ],
            "text/html": [
              " View sweep at <a href='https://wandb.ai/me21b164-indian-institute-of-technology-madras/A2/sweeps/65nw10d9' target=\"_blank\">https://wandb.ai/me21b164-indian-institute-of-technology-madras/A2/sweeps/65nw10d9</a>"
            ]
          },
          "metadata": {}
        },
        {
          "output_type": "display_data",
          "data": {
            "text/plain": [
              "<IPython.core.display.HTML object>"
            ],
            "text/html": [
              " View run at <a href='https://wandb.ai/me21b164-indian-institute-of-technology-madras/A2/runs/wt1abkcb' target=\"_blank\">https://wandb.ai/me21b164-indian-institute-of-technology-madras/A2/runs/wt1abkcb</a>"
            ]
          },
          "metadata": {}
        },
        {
          "output_type": "stream",
          "name": "stderr",
          "text": [
            "Epoch 1 [Train]: 100%|██████████| 125/125 [00:43<00:00,  2.85it/s]\n",
            "Epoch 1 [Val]: 100%|██████████| 32/32 [00:08<00:00,  3.79it/s]\n",
            "Epoch 2 [Train]: 100%|██████████| 125/125 [00:42<00:00,  2.95it/s]\n",
            "Epoch 2 [Val]: 100%|██████████| 32/32 [00:09<00:00,  3.24it/s]\n",
            "Epoch 3 [Train]: 100%|██████████| 125/125 [00:42<00:00,  2.91it/s]\n",
            "Epoch 3 [Val]: 100%|██████████| 32/32 [00:09<00:00,  3.42it/s]\n",
            "Epoch 4 [Train]: 100%|██████████| 125/125 [00:42<00:00,  2.95it/s]\n",
            "Epoch 4 [Val]: 100%|██████████| 32/32 [00:08<00:00,  3.71it/s]\n",
            "Epoch 5 [Train]: 100%|██████████| 125/125 [00:42<00:00,  2.91it/s]\n",
            "Epoch 5 [Val]: 100%|██████████| 32/32 [00:08<00:00,  3.89it/s]\n",
            "Epoch 6 [Train]: 100%|██████████| 125/125 [00:43<00:00,  2.86it/s]\n",
            "Epoch 6 [Val]: 100%|██████████| 32/32 [00:09<00:00,  3.46it/s]\n",
            "Epoch 7 [Train]: 100%|██████████| 125/125 [00:42<00:00,  2.94it/s]\n",
            "Epoch 7 [Val]: 100%|██████████| 32/32 [00:09<00:00,  3.44it/s]\n",
            "Epoch 8 [Train]: 100%|██████████| 125/125 [00:42<00:00,  2.95it/s]\n",
            "Epoch 8 [Val]: 100%|██████████| 32/32 [00:09<00:00,  3.55it/s]\n",
            "Epoch 9 [Train]: 100%|██████████| 125/125 [00:42<00:00,  2.92it/s]\n",
            "Epoch 9 [Val]: 100%|██████████| 32/32 [00:09<00:00,  3.39it/s]\n",
            "Epoch 10 [Train]: 100%|██████████| 125/125 [00:42<00:00,  2.93it/s]\n",
            "Epoch 10 [Val]: 100%|██████████| 32/32 [00:08<00:00,  3.64it/s]\n"
          ]
        },
        {
          "output_type": "display_data",
          "data": {
            "text/plain": [
              "<IPython.core.display.HTML object>"
            ],
            "text/html": []
          },
          "metadata": {}
        },
        {
          "output_type": "display_data",
          "data": {
            "text/plain": [
              "<IPython.core.display.HTML object>"
            ],
            "text/html": [
              "<br>    <style><br>        .wandb-row {<br>            display: flex;<br>            flex-direction: row;<br>            flex-wrap: wrap;<br>            justify-content: flex-start;<br>            width: 100%;<br>        }<br>        .wandb-col {<br>            display: flex;<br>            flex-direction: column;<br>            flex-basis: 100%;<br>            flex: 1;<br>            padding: 10px;<br>        }<br>    </style><br><div class=\"wandb-row\"><div class=\"wandb-col\"><h3>Run history:</h3><br/><table class=\"wandb\"><tr><td>epoch</td><td>▁▂▃▃▄▅▆▆▇█</td></tr><tr><td>train_accuracy</td><td>▁▂▄▅▅▅▆▇▇█</td></tr><tr><td>train_loss</td><td>█▇▆▅▅▄▃▃▂▁</td></tr><tr><td>val_accuracy</td><td>▁▄▆▆▆▆██▇█</td></tr><tr><td>val_loss</td><td>█▆▃▄▂▁▁▁▁▂</td></tr></table><br/></div><div class=\"wandb-col\"><h3>Run summary:</h3><br/><table class=\"wandb\"><tr><td>epoch</td><td>10</td></tr><tr><td>train_accuracy</td><td>0.46208</td></tr><tr><td>train_loss</td><td>1.53227</td></tr><tr><td>val_accuracy</td><td>0.36816</td></tr><tr><td>val_loss</td><td>1.90594</td></tr></table><br/></div></div>"
            ]
          },
          "metadata": {}
        },
        {
          "output_type": "display_data",
          "data": {
            "text/plain": [
              "<IPython.core.display.HTML object>"
            ],
            "text/html": [
              " View run <strong style=\"color:#cdcd00\">soft-sweep-3</strong> at: <a href='https://wandb.ai/me21b164-indian-institute-of-technology-madras/A2/runs/wt1abkcb' target=\"_blank\">https://wandb.ai/me21b164-indian-institute-of-technology-madras/A2/runs/wt1abkcb</a><br> View project at: <a href='https://wandb.ai/me21b164-indian-institute-of-technology-madras/A2' target=\"_blank\">https://wandb.ai/me21b164-indian-institute-of-technology-madras/A2</a><br>Synced 5 W&B file(s), 0 media file(s), 0 artifact file(s) and 0 other file(s)"
            ]
          },
          "metadata": {}
        },
        {
          "output_type": "display_data",
          "data": {
            "text/plain": [
              "<IPython.core.display.HTML object>"
            ],
            "text/html": [
              "Find logs at: <code>./wandb/run-20250418_204010-wt1abkcb/logs</code>"
            ]
          },
          "metadata": {}
        },
        {
          "output_type": "stream",
          "name": "stderr",
          "text": [
            "\u001b[34m\u001b[1mwandb\u001b[0m: Agent Starting Run: x3i0d27u with config:\n",
            "\u001b[34m\u001b[1mwandb\u001b[0m: \tactivation_fn: SiLU\n",
            "\u001b[34m\u001b[1mwandb\u001b[0m: \tbatch_size: 32\n",
            "\u001b[34m\u001b[1mwandb\u001b[0m: \tconv_filters: [64, 64, 64, 64, 64]\n",
            "\u001b[34m\u001b[1mwandb\u001b[0m: \tdata_augmentation: no\n",
            "\u001b[34m\u001b[1mwandb\u001b[0m: \tdata_dir: /content/inaturalist_12K\n",
            "\u001b[34m\u001b[1mwandb\u001b[0m: \tdense_units: 128\n",
            "\u001b[34m\u001b[1mwandb\u001b[0m: \tdropout: 0.3\n",
            "\u001b[34m\u001b[1mwandb\u001b[0m: \tepochs: 10\n",
            "\u001b[34m\u001b[1mwandb\u001b[0m: \tkernel_sizes: [3, 3, 3, 3, 3]\n",
            "\u001b[34m\u001b[1mwandb\u001b[0m: \tlr: 0.0006296106098193848\n"
          ]
        },
        {
          "output_type": "display_data",
          "data": {
            "text/plain": [
              "<IPython.core.display.HTML object>"
            ],
            "text/html": [
              "Tracking run with wandb version 0.19.9"
            ]
          },
          "metadata": {}
        },
        {
          "output_type": "display_data",
          "data": {
            "text/plain": [
              "<IPython.core.display.HTML object>"
            ],
            "text/html": [
              "Run data is saved locally in <code>/content/wandb/run-20250418_204854-x3i0d27u</code>"
            ]
          },
          "metadata": {}
        },
        {
          "output_type": "display_data",
          "data": {
            "text/plain": [
              "<IPython.core.display.HTML object>"
            ],
            "text/html": [
              "Syncing run <strong><a href='https://wandb.ai/me21b164-indian-institute-of-technology-madras/A2/runs/x3i0d27u' target=\"_blank\">rare-sweep-4</a></strong> to <a href='https://wandb.ai/me21b164-indian-institute-of-technology-madras/A2' target=\"_blank\">Weights & Biases</a> (<a href='https://wandb.me/developer-guide' target=\"_blank\">docs</a>)<br>Sweep page: <a href='https://wandb.ai/me21b164-indian-institute-of-technology-madras/A2/sweeps/65nw10d9' target=\"_blank\">https://wandb.ai/me21b164-indian-institute-of-technology-madras/A2/sweeps/65nw10d9</a>"
            ]
          },
          "metadata": {}
        },
        {
          "output_type": "display_data",
          "data": {
            "text/plain": [
              "<IPython.core.display.HTML object>"
            ],
            "text/html": [
              " View project at <a href='https://wandb.ai/me21b164-indian-institute-of-technology-madras/A2' target=\"_blank\">https://wandb.ai/me21b164-indian-institute-of-technology-madras/A2</a>"
            ]
          },
          "metadata": {}
        },
        {
          "output_type": "display_data",
          "data": {
            "text/plain": [
              "<IPython.core.display.HTML object>"
            ],
            "text/html": [
              " View sweep at <a href='https://wandb.ai/me21b164-indian-institute-of-technology-madras/A2/sweeps/65nw10d9' target=\"_blank\">https://wandb.ai/me21b164-indian-institute-of-technology-madras/A2/sweeps/65nw10d9</a>"
            ]
          },
          "metadata": {}
        },
        {
          "output_type": "display_data",
          "data": {
            "text/plain": [
              "<IPython.core.display.HTML object>"
            ],
            "text/html": [
              " View run at <a href='https://wandb.ai/me21b164-indian-institute-of-technology-madras/A2/runs/x3i0d27u' target=\"_blank\">https://wandb.ai/me21b164-indian-institute-of-technology-madras/A2/runs/x3i0d27u</a>"
            ]
          },
          "metadata": {}
        },
        {
          "output_type": "stream",
          "name": "stderr",
          "text": [
            "Epoch 1 [Train]: 100%|██████████| 125/125 [00:42<00:00,  2.92it/s]\n",
            "Epoch 1 [Val]: 100%|██████████| 32/32 [00:08<00:00,  3.85it/s]\n",
            "Epoch 2 [Train]: 100%|██████████| 125/125 [00:42<00:00,  2.95it/s]\n",
            "Epoch 2 [Val]: 100%|██████████| 32/32 [00:09<00:00,  3.41it/s]\n",
            "Epoch 3 [Train]: 100%|██████████| 125/125 [00:43<00:00,  2.88it/s]\n",
            "Epoch 3 [Val]: 100%|██████████| 32/32 [00:09<00:00,  3.42it/s]\n",
            "Epoch 4 [Train]: 100%|██████████| 125/125 [00:42<00:00,  2.96it/s]\n",
            "Epoch 4 [Val]: 100%|██████████| 32/32 [00:08<00:00,  3.78it/s]\n",
            "Epoch 5 [Train]: 100%|██████████| 125/125 [00:43<00:00,  2.90it/s]\n",
            "Epoch 5 [Val]: 100%|██████████| 32/32 [00:08<00:00,  3.81it/s]\n",
            "Epoch 6 [Train]: 100%|██████████| 125/125 [00:43<00:00,  2.86it/s]\n",
            "Epoch 6 [Val]: 100%|██████████| 32/32 [00:09<00:00,  3.42it/s]\n",
            "Epoch 7 [Train]: 100%|██████████| 125/125 [00:42<00:00,  2.94it/s]\n",
            "Epoch 7 [Val]: 100%|██████████| 32/32 [00:09<00:00,  3.39it/s]\n",
            "Epoch 8 [Train]: 100%|██████████| 125/125 [00:42<00:00,  2.94it/s]\n",
            "Epoch 8 [Val]: 100%|██████████| 32/32 [00:09<00:00,  3.51it/s]\n",
            "Epoch 9 [Train]: 100%|██████████| 125/125 [00:42<00:00,  2.94it/s]\n",
            "Epoch 9 [Val]: 100%|██████████| 32/32 [00:08<00:00,  3.98it/s]\n",
            "Epoch 10 [Train]: 100%|██████████| 125/125 [00:43<00:00,  2.86it/s]\n",
            "Epoch 10 [Val]: 100%|██████████| 32/32 [00:09<00:00,  3.52it/s]\n"
          ]
        },
        {
          "output_type": "display_data",
          "data": {
            "text/plain": [
              "<IPython.core.display.HTML object>"
            ],
            "text/html": []
          },
          "metadata": {}
        },
        {
          "output_type": "display_data",
          "data": {
            "text/plain": [
              "<IPython.core.display.HTML object>"
            ],
            "text/html": [
              "<br>    <style><br>        .wandb-row {<br>            display: flex;<br>            flex-direction: row;<br>            flex-wrap: wrap;<br>            justify-content: flex-start;<br>            width: 100%;<br>        }<br>        .wandb-col {<br>            display: flex;<br>            flex-direction: column;<br>            flex-basis: 100%;<br>            flex: 1;<br>            padding: 10px;<br>        }<br>    </style><br><div class=\"wandb-row\"><div class=\"wandb-col\"><h3>Run history:</h3><br/><table class=\"wandb\"><tr><td>epoch</td><td>▁▂▃▃▄▅▆▆▇█</td></tr><tr><td>train_accuracy</td><td>▁▃▄▅▆▆▆▇██</td></tr><tr><td>train_loss</td><td>█▇▆▅▄▄▃▃▂▁</td></tr><tr><td>val_accuracy</td><td>▁▅▅▆▇▇▇▇██</td></tr><tr><td>val_loss</td><td>█▄▃▂▂▁▁▁▂▂</td></tr></table><br/></div><div class=\"wandb-col\"><h3>Run summary:</h3><br/><table class=\"wandb\"><tr><td>epoch</td><td>10</td></tr><tr><td>train_accuracy</td><td>0.43486</td></tr><tr><td>train_loss</td><td>1.61115</td></tr><tr><td>val_accuracy</td><td>0.36719</td></tr><tr><td>val_loss</td><td>1.91757</td></tr></table><br/></div></div>"
            ]
          },
          "metadata": {}
        },
        {
          "output_type": "display_data",
          "data": {
            "text/plain": [
              "<IPython.core.display.HTML object>"
            ],
            "text/html": [
              " View run <strong style=\"color:#cdcd00\">rare-sweep-4</strong> at: <a href='https://wandb.ai/me21b164-indian-institute-of-technology-madras/A2/runs/x3i0d27u' target=\"_blank\">https://wandb.ai/me21b164-indian-institute-of-technology-madras/A2/runs/x3i0d27u</a><br> View project at: <a href='https://wandb.ai/me21b164-indian-institute-of-technology-madras/A2' target=\"_blank\">https://wandb.ai/me21b164-indian-institute-of-technology-madras/A2</a><br>Synced 5 W&B file(s), 0 media file(s), 0 artifact file(s) and 0 other file(s)"
            ]
          },
          "metadata": {}
        },
        {
          "output_type": "display_data",
          "data": {
            "text/plain": [
              "<IPython.core.display.HTML object>"
            ],
            "text/html": [
              "Find logs at: <code>./wandb/run-20250418_204854-x3i0d27u/logs</code>"
            ]
          },
          "metadata": {}
        },
        {
          "output_type": "stream",
          "name": "stderr",
          "text": [
            "\u001b[34m\u001b[1mwandb\u001b[0m: Agent Starting Run: llmitigv with config:\n",
            "\u001b[34m\u001b[1mwandb\u001b[0m: \tactivation_fn: GELU\n",
            "\u001b[34m\u001b[1mwandb\u001b[0m: \tbatch_size: 32\n",
            "\u001b[34m\u001b[1mwandb\u001b[0m: \tconv_filters: [64, 64, 64, 64, 64]\n",
            "\u001b[34m\u001b[1mwandb\u001b[0m: \tdata_augmentation: no\n",
            "\u001b[34m\u001b[1mwandb\u001b[0m: \tdata_dir: /content/inaturalist_12K\n",
            "\u001b[34m\u001b[1mwandb\u001b[0m: \tdense_units: 256\n",
            "\u001b[34m\u001b[1mwandb\u001b[0m: \tdropout: 0.3\n",
            "\u001b[34m\u001b[1mwandb\u001b[0m: \tepochs: 10\n",
            "\u001b[34m\u001b[1mwandb\u001b[0m: \tkernel_sizes: [3, 3, 3, 3, 3]\n",
            "\u001b[34m\u001b[1mwandb\u001b[0m: \tlr: 0.00033669101974018764\n"
          ]
        },
        {
          "output_type": "display_data",
          "data": {
            "text/plain": [
              "<IPython.core.display.HTML object>"
            ],
            "text/html": [
              "Tracking run with wandb version 0.19.9"
            ]
          },
          "metadata": {}
        },
        {
          "output_type": "display_data",
          "data": {
            "text/plain": [
              "<IPython.core.display.HTML object>"
            ],
            "text/html": [
              "Run data is saved locally in <code>/content/wandb/run-20250418_205737-llmitigv</code>"
            ]
          },
          "metadata": {}
        },
        {
          "output_type": "display_data",
          "data": {
            "text/plain": [
              "<IPython.core.display.HTML object>"
            ],
            "text/html": [
              "Syncing run <strong><a href='https://wandb.ai/me21b164-indian-institute-of-technology-madras/A2/runs/llmitigv' target=\"_blank\">happy-sweep-5</a></strong> to <a href='https://wandb.ai/me21b164-indian-institute-of-technology-madras/A2' target=\"_blank\">Weights & Biases</a> (<a href='https://wandb.me/developer-guide' target=\"_blank\">docs</a>)<br>Sweep page: <a href='https://wandb.ai/me21b164-indian-institute-of-technology-madras/A2/sweeps/65nw10d9' target=\"_blank\">https://wandb.ai/me21b164-indian-institute-of-technology-madras/A2/sweeps/65nw10d9</a>"
            ]
          },
          "metadata": {}
        },
        {
          "output_type": "display_data",
          "data": {
            "text/plain": [
              "<IPython.core.display.HTML object>"
            ],
            "text/html": [
              " View project at <a href='https://wandb.ai/me21b164-indian-institute-of-technology-madras/A2' target=\"_blank\">https://wandb.ai/me21b164-indian-institute-of-technology-madras/A2</a>"
            ]
          },
          "metadata": {}
        },
        {
          "output_type": "display_data",
          "data": {
            "text/plain": [
              "<IPython.core.display.HTML object>"
            ],
            "text/html": [
              " View sweep at <a href='https://wandb.ai/me21b164-indian-institute-of-technology-madras/A2/sweeps/65nw10d9' target=\"_blank\">https://wandb.ai/me21b164-indian-institute-of-technology-madras/A2/sweeps/65nw10d9</a>"
            ]
          },
          "metadata": {}
        },
        {
          "output_type": "display_data",
          "data": {
            "text/plain": [
              "<IPython.core.display.HTML object>"
            ],
            "text/html": [
              " View run at <a href='https://wandb.ai/me21b164-indian-institute-of-technology-madras/A2/runs/llmitigv' target=\"_blank\">https://wandb.ai/me21b164-indian-institute-of-technology-madras/A2/runs/llmitigv</a>"
            ]
          },
          "metadata": {}
        },
        {
          "output_type": "stream",
          "name": "stderr",
          "text": [
            "Epoch 1 [Train]: 100%|██████████| 125/125 [00:42<00:00,  2.96it/s]\n",
            "Epoch 1 [Val]: 100%|██████████| 32/32 [00:08<00:00,  3.89it/s]\n",
            "Epoch 2 [Train]: 100%|██████████| 125/125 [00:42<00:00,  2.95it/s]\n",
            "Epoch 2 [Val]: 100%|██████████| 32/32 [00:09<00:00,  3.45it/s]\n",
            "Epoch 3 [Train]: 100%|██████████| 125/125 [00:43<00:00,  2.87it/s]\n",
            "Epoch 3 [Val]: 100%|██████████| 32/32 [00:09<00:00,  3.45it/s]\n",
            "Epoch 4 [Train]: 100%|██████████| 125/125 [00:42<00:00,  2.95it/s]\n",
            "Epoch 4 [Val]: 100%|██████████| 32/32 [00:08<00:00,  3.91it/s]\n",
            "Epoch 5 [Train]: 100%|██████████| 125/125 [00:42<00:00,  2.92it/s]\n",
            "Epoch 5 [Val]: 100%|██████████| 32/32 [00:08<00:00,  3.68it/s]\n",
            "Epoch 6 [Train]: 100%|██████████| 125/125 [00:43<00:00,  2.89it/s]\n",
            "Epoch 6 [Val]: 100%|██████████| 32/32 [00:09<00:00,  3.46it/s]\n",
            "Epoch 7 [Train]: 100%|██████████| 125/125 [00:42<00:00,  2.97it/s]\n",
            "Epoch 7 [Val]: 100%|██████████| 32/32 [00:09<00:00,  3.39it/s]\n",
            "Epoch 8 [Train]: 100%|██████████| 125/125 [00:41<00:00,  2.98it/s]\n",
            "Epoch 8 [Val]: 100%|██████████| 32/32 [00:07<00:00,  4.00it/s]\n",
            "Epoch 9 [Train]: 100%|██████████| 125/125 [00:41<00:00,  2.99it/s]\n",
            "Epoch 9 [Val]: 100%|██████████| 32/32 [00:09<00:00,  3.45it/s]\n",
            "Epoch 10 [Train]: 100%|██████████| 125/125 [00:43<00:00,  2.86it/s]\n",
            "Epoch 10 [Val]: 100%|██████████| 32/32 [00:09<00:00,  3.40it/s]\n"
          ]
        },
        {
          "output_type": "display_data",
          "data": {
            "text/plain": [
              "<IPython.core.display.HTML object>"
            ],
            "text/html": []
          },
          "metadata": {}
        },
        {
          "output_type": "display_data",
          "data": {
            "text/plain": [
              "<IPython.core.display.HTML object>"
            ],
            "text/html": [
              "<br>    <style><br>        .wandb-row {<br>            display: flex;<br>            flex-direction: row;<br>            flex-wrap: wrap;<br>            justify-content: flex-start;<br>            width: 100%;<br>        }<br>        .wandb-col {<br>            display: flex;<br>            flex-direction: column;<br>            flex-basis: 100%;<br>            flex: 1;<br>            padding: 10px;<br>        }<br>    </style><br><div class=\"wandb-row\"><div class=\"wandb-col\"><h3>Run history:</h3><br/><table class=\"wandb\"><tr><td>epoch</td><td>▁▂▃▃▄▅▆▆▇█</td></tr><tr><td>train_accuracy</td><td>▁▃▄▅▆▆▆▇██</td></tr><tr><td>train_loss</td><td>█▇▆▅▄▄▃▃▂▁</td></tr><tr><td>val_accuracy</td><td>▁▃▅▆▆▇▇▇▇█</td></tr><tr><td>val_loss</td><td>█▆▄▃▂▁▂▁▁▁</td></tr></table><br/></div><div class=\"wandb-col\"><h3>Run summary:</h3><br/><table class=\"wandb\"><tr><td>epoch</td><td>10</td></tr><tr><td>train_accuracy</td><td>0.44082</td></tr><tr><td>train_loss</td><td>1.59097</td></tr><tr><td>val_accuracy</td><td>0.39062</td></tr><tr><td>val_loss</td><td>1.82653</td></tr></table><br/></div></div>"
            ]
          },
          "metadata": {}
        },
        {
          "output_type": "display_data",
          "data": {
            "text/plain": [
              "<IPython.core.display.HTML object>"
            ],
            "text/html": [
              " View run <strong style=\"color:#cdcd00\">happy-sweep-5</strong> at: <a href='https://wandb.ai/me21b164-indian-institute-of-technology-madras/A2/runs/llmitigv' target=\"_blank\">https://wandb.ai/me21b164-indian-institute-of-technology-madras/A2/runs/llmitigv</a><br> View project at: <a href='https://wandb.ai/me21b164-indian-institute-of-technology-madras/A2' target=\"_blank\">https://wandb.ai/me21b164-indian-institute-of-technology-madras/A2</a><br>Synced 5 W&B file(s), 0 media file(s), 0 artifact file(s) and 0 other file(s)"
            ]
          },
          "metadata": {}
        },
        {
          "output_type": "display_data",
          "data": {
            "text/plain": [
              "<IPython.core.display.HTML object>"
            ],
            "text/html": [
              "Find logs at: <code>./wandb/run-20250418_205737-llmitigv/logs</code>"
            ]
          },
          "metadata": {}
        },
        {
          "output_type": "stream",
          "name": "stderr",
          "text": [
            "\u001b[34m\u001b[1mwandb\u001b[0m: Agent Starting Run: wkcj08ql with config:\n",
            "\u001b[34m\u001b[1mwandb\u001b[0m: \tactivation_fn: SiLU\n",
            "\u001b[34m\u001b[1mwandb\u001b[0m: \tbatch_size: 32\n",
            "\u001b[34m\u001b[1mwandb\u001b[0m: \tconv_filters: [64, 64, 64, 64, 64]\n",
            "\u001b[34m\u001b[1mwandb\u001b[0m: \tdata_augmentation: yes\n",
            "\u001b[34m\u001b[1mwandb\u001b[0m: \tdata_dir: /content/inaturalist_12K\n",
            "\u001b[34m\u001b[1mwandb\u001b[0m: \tdense_units: 128\n",
            "\u001b[34m\u001b[1mwandb\u001b[0m: \tdropout: 0.5\n",
            "\u001b[34m\u001b[1mwandb\u001b[0m: \tepochs: 10\n",
            "\u001b[34m\u001b[1mwandb\u001b[0m: \tkernel_sizes: [3, 3, 3, 3, 3]\n",
            "\u001b[34m\u001b[1mwandb\u001b[0m: \tlr: 0.00043381004726031233\n"
          ]
        },
        {
          "output_type": "display_data",
          "data": {
            "text/plain": [
              "<IPython.core.display.HTML object>"
            ],
            "text/html": [
              "Tracking run with wandb version 0.19.9"
            ]
          },
          "metadata": {}
        },
        {
          "output_type": "display_data",
          "data": {
            "text/plain": [
              "<IPython.core.display.HTML object>"
            ],
            "text/html": [
              "Run data is saved locally in <code>/content/wandb/run-20250418_210620-wkcj08ql</code>"
            ]
          },
          "metadata": {}
        },
        {
          "output_type": "display_data",
          "data": {
            "text/plain": [
              "<IPython.core.display.HTML object>"
            ],
            "text/html": [
              "Syncing run <strong><a href='https://wandb.ai/me21b164-indian-institute-of-technology-madras/A2/runs/wkcj08ql' target=\"_blank\">fancy-sweep-6</a></strong> to <a href='https://wandb.ai/me21b164-indian-institute-of-technology-madras/A2' target=\"_blank\">Weights & Biases</a> (<a href='https://wandb.me/developer-guide' target=\"_blank\">docs</a>)<br>Sweep page: <a href='https://wandb.ai/me21b164-indian-institute-of-technology-madras/A2/sweeps/65nw10d9' target=\"_blank\">https://wandb.ai/me21b164-indian-institute-of-technology-madras/A2/sweeps/65nw10d9</a>"
            ]
          },
          "metadata": {}
        },
        {
          "output_type": "display_data",
          "data": {
            "text/plain": [
              "<IPython.core.display.HTML object>"
            ],
            "text/html": [
              " View project at <a href='https://wandb.ai/me21b164-indian-institute-of-technology-madras/A2' target=\"_blank\">https://wandb.ai/me21b164-indian-institute-of-technology-madras/A2</a>"
            ]
          },
          "metadata": {}
        },
        {
          "output_type": "display_data",
          "data": {
            "text/plain": [
              "<IPython.core.display.HTML object>"
            ],
            "text/html": [
              " View sweep at <a href='https://wandb.ai/me21b164-indian-institute-of-technology-madras/A2/sweeps/65nw10d9' target=\"_blank\">https://wandb.ai/me21b164-indian-institute-of-technology-madras/A2/sweeps/65nw10d9</a>"
            ]
          },
          "metadata": {}
        },
        {
          "output_type": "display_data",
          "data": {
            "text/plain": [
              "<IPython.core.display.HTML object>"
            ],
            "text/html": [
              " View run at <a href='https://wandb.ai/me21b164-indian-institute-of-technology-madras/A2/runs/wkcj08ql' target=\"_blank\">https://wandb.ai/me21b164-indian-institute-of-technology-madras/A2/runs/wkcj08ql</a>"
            ]
          },
          "metadata": {}
        },
        {
          "output_type": "stream",
          "name": "stderr",
          "text": [
            "Epoch 1 [Train]: 100%|██████████| 125/125 [00:43<00:00,  2.89it/s]\n",
            "Epoch 1 [Val]: 100%|██████████| 32/32 [00:09<00:00,  3.39it/s]\n",
            "Epoch 2 [Train]: 100%|██████████| 125/125 [00:42<00:00,  2.95it/s]\n",
            "Epoch 2 [Val]: 100%|██████████| 32/32 [00:09<00:00,  3.42it/s]\n",
            "Epoch 3 [Train]: 100%|██████████| 125/125 [00:43<00:00,  2.88it/s]\n",
            "Epoch 3 [Val]: 100%|██████████| 32/32 [00:09<00:00,  3.47it/s]\n",
            "Epoch 4 [Train]: 100%|██████████| 125/125 [00:42<00:00,  2.96it/s]\n",
            "Epoch 4 [Val]: 100%|██████████| 32/32 [00:08<00:00,  3.98it/s]\n",
            "Epoch 5 [Train]: 100%|██████████| 125/125 [00:42<00:00,  2.96it/s]\n",
            "Epoch 5 [Val]: 100%|██████████| 32/32 [00:09<00:00,  3.41it/s]\n",
            "Epoch 6 [Train]: 100%|██████████| 125/125 [00:43<00:00,  2.87it/s]\n",
            "Epoch 6 [Val]: 100%|██████████| 32/32 [00:09<00:00,  3.39it/s]\n",
            "Epoch 7 [Train]: 100%|██████████| 125/125 [00:43<00:00,  2.86it/s]\n",
            "Epoch 7 [Val]: 100%|██████████| 32/32 [00:09<00:00,  3.54it/s]\n",
            "Epoch 8 [Train]: 100%|██████████| 125/125 [00:42<00:00,  2.95it/s]\n",
            "Epoch 8 [Val]: 100%|██████████| 32/32 [00:08<00:00,  3.98it/s]\n",
            "Epoch 9 [Train]: 100%|██████████| 125/125 [00:42<00:00,  2.96it/s]\n",
            "Epoch 9 [Val]: 100%|██████████| 32/32 [00:09<00:00,  3.41it/s]\n",
            "Epoch 10 [Train]: 100%|██████████| 125/125 [00:41<00:00,  2.98it/s]\n",
            "Epoch 10 [Val]: 100%|██████████| 32/32 [00:09<00:00,  3.42it/s]\n"
          ]
        },
        {
          "output_type": "display_data",
          "data": {
            "text/plain": [
              "<IPython.core.display.HTML object>"
            ],
            "text/html": []
          },
          "metadata": {}
        },
        {
          "output_type": "display_data",
          "data": {
            "text/plain": [
              "<IPython.core.display.HTML object>"
            ],
            "text/html": [
              "<br>    <style><br>        .wandb-row {<br>            display: flex;<br>            flex-direction: row;<br>            flex-wrap: wrap;<br>            justify-content: flex-start;<br>            width: 100%;<br>        }<br>        .wandb-col {<br>            display: flex;<br>            flex-direction: column;<br>            flex-basis: 100%;<br>            flex: 1;<br>            padding: 10px;<br>        }<br>    </style><br><div class=\"wandb-row\"><div class=\"wandb-col\"><h3>Run history:</h3><br/><table class=\"wandb\"><tr><td>epoch</td><td>▁▂▃▃▄▅▆▆▇█</td></tr><tr><td>train_accuracy</td><td>▁▂▃▅▅▆▆▇▇█</td></tr><tr><td>train_loss</td><td>█▇▆▅▅▄▃▃▂▁</td></tr><tr><td>val_accuracy</td><td>▁▂▄▅▆▆▇▇██</td></tr><tr><td>val_loss</td><td>█▇▅▄▃▃▂▃▁▂</td></tr></table><br/></div><div class=\"wandb-col\"><h3>Run summary:</h3><br/><table class=\"wandb\"><tr><td>epoch</td><td>10</td></tr><tr><td>train_accuracy</td><td>0.41238</td></tr><tr><td>train_loss</td><td>1.70425</td></tr><tr><td>val_accuracy</td><td>0.37012</td></tr><tr><td>val_loss</td><td>1.89108</td></tr></table><br/></div></div>"
            ]
          },
          "metadata": {}
        },
        {
          "output_type": "display_data",
          "data": {
            "text/plain": [
              "<IPython.core.display.HTML object>"
            ],
            "text/html": [
              " View run <strong style=\"color:#cdcd00\">fancy-sweep-6</strong> at: <a href='https://wandb.ai/me21b164-indian-institute-of-technology-madras/A2/runs/wkcj08ql' target=\"_blank\">https://wandb.ai/me21b164-indian-institute-of-technology-madras/A2/runs/wkcj08ql</a><br> View project at: <a href='https://wandb.ai/me21b164-indian-institute-of-technology-madras/A2' target=\"_blank\">https://wandb.ai/me21b164-indian-institute-of-technology-madras/A2</a><br>Synced 5 W&B file(s), 0 media file(s), 0 artifact file(s) and 0 other file(s)"
            ]
          },
          "metadata": {}
        },
        {
          "output_type": "display_data",
          "data": {
            "text/plain": [
              "<IPython.core.display.HTML object>"
            ],
            "text/html": [
              "Find logs at: <code>./wandb/run-20250418_210620-wkcj08ql/logs</code>"
            ]
          },
          "metadata": {}
        },
        {
          "output_type": "stream",
          "name": "stderr",
          "text": [
            "\u001b[34m\u001b[1mwandb\u001b[0m: Agent Starting Run: a65kzgy2 with config:\n",
            "\u001b[34m\u001b[1mwandb\u001b[0m: \tactivation_fn: GELU\n",
            "\u001b[34m\u001b[1mwandb\u001b[0m: \tbatch_size: 64\n",
            "\u001b[34m\u001b[1mwandb\u001b[0m: \tconv_filters: [64, 64, 64, 64, 64]\n",
            "\u001b[34m\u001b[1mwandb\u001b[0m: \tdata_augmentation: no\n",
            "\u001b[34m\u001b[1mwandb\u001b[0m: \tdata_dir: /content/inaturalist_12K\n",
            "\u001b[34m\u001b[1mwandb\u001b[0m: \tdense_units: 512\n",
            "\u001b[34m\u001b[1mwandb\u001b[0m: \tdropout: 0.5\n",
            "\u001b[34m\u001b[1mwandb\u001b[0m: \tepochs: 10\n",
            "\u001b[34m\u001b[1mwandb\u001b[0m: \tkernel_sizes: [3, 3, 3, 3, 3]\n",
            "\u001b[34m\u001b[1mwandb\u001b[0m: \tlr: 0.0006142400411324606\n"
          ]
        },
        {
          "output_type": "display_data",
          "data": {
            "text/plain": [
              "<IPython.core.display.HTML object>"
            ],
            "text/html": [
              "Tracking run with wandb version 0.19.9"
            ]
          },
          "metadata": {}
        },
        {
          "output_type": "display_data",
          "data": {
            "text/plain": [
              "<IPython.core.display.HTML object>"
            ],
            "text/html": [
              "Run data is saved locally in <code>/content/wandb/run-20250418_211503-a65kzgy2</code>"
            ]
          },
          "metadata": {}
        },
        {
          "output_type": "display_data",
          "data": {
            "text/plain": [
              "<IPython.core.display.HTML object>"
            ],
            "text/html": [
              "Syncing run <strong><a href='https://wandb.ai/me21b164-indian-institute-of-technology-madras/A2/runs/a65kzgy2' target=\"_blank\">genial-sweep-7</a></strong> to <a href='https://wandb.ai/me21b164-indian-institute-of-technology-madras/A2' target=\"_blank\">Weights & Biases</a> (<a href='https://wandb.me/developer-guide' target=\"_blank\">docs</a>)<br>Sweep page: <a href='https://wandb.ai/me21b164-indian-institute-of-technology-madras/A2/sweeps/65nw10d9' target=\"_blank\">https://wandb.ai/me21b164-indian-institute-of-technology-madras/A2/sweeps/65nw10d9</a>"
            ]
          },
          "metadata": {}
        },
        {
          "output_type": "display_data",
          "data": {
            "text/plain": [
              "<IPython.core.display.HTML object>"
            ],
            "text/html": [
              " View project at <a href='https://wandb.ai/me21b164-indian-institute-of-technology-madras/A2' target=\"_blank\">https://wandb.ai/me21b164-indian-institute-of-technology-madras/A2</a>"
            ]
          },
          "metadata": {}
        },
        {
          "output_type": "display_data",
          "data": {
            "text/plain": [
              "<IPython.core.display.HTML object>"
            ],
            "text/html": [
              " View sweep at <a href='https://wandb.ai/me21b164-indian-institute-of-technology-madras/A2/sweeps/65nw10d9' target=\"_blank\">https://wandb.ai/me21b164-indian-institute-of-technology-madras/A2/sweeps/65nw10d9</a>"
            ]
          },
          "metadata": {}
        },
        {
          "output_type": "display_data",
          "data": {
            "text/plain": [
              "<IPython.core.display.HTML object>"
            ],
            "text/html": [
              " View run at <a href='https://wandb.ai/me21b164-indian-institute-of-technology-madras/A2/runs/a65kzgy2' target=\"_blank\">https://wandb.ai/me21b164-indian-institute-of-technology-madras/A2/runs/a65kzgy2</a>"
            ]
          },
          "metadata": {}
        },
        {
          "output_type": "stream",
          "name": "stderr",
          "text": [
            "Epoch 1 [Train]: 100%|██████████| 63/63 [00:41<00:00,  1.52it/s]\n",
            "Epoch 1 [Val]: 100%|██████████| 16/16 [00:09<00:00,  1.68it/s]\n",
            "Epoch 2 [Train]: 100%|██████████| 63/63 [00:40<00:00,  1.54it/s]\n",
            "Epoch 2 [Val]: 100%|██████████| 16/16 [00:08<00:00,  1.99it/s]\n",
            "Epoch 3 [Train]: 100%|██████████| 63/63 [00:41<00:00,  1.54it/s]\n",
            "Epoch 3 [Val]: 100%|██████████| 16/16 [00:09<00:00,  1.69it/s]\n",
            "Epoch 4 [Train]: 100%|██████████| 63/63 [00:42<00:00,  1.49it/s]\n",
            "Epoch 4 [Val]: 100%|██████████| 16/16 [00:09<00:00,  1.70it/s]\n",
            "Epoch 5 [Train]: 100%|██████████| 63/63 [00:40<00:00,  1.54it/s]\n",
            "Epoch 5 [Val]: 100%|██████████| 16/16 [00:08<00:00,  1.95it/s]\n",
            "Epoch 6 [Train]: 100%|██████████| 63/63 [00:40<00:00,  1.54it/s]\n",
            "Epoch 6 [Val]: 100%|██████████| 16/16 [00:09<00:00,  1.70it/s]\n",
            "Epoch 7 [Train]: 100%|██████████| 63/63 [00:42<00:00,  1.50it/s]\n",
            "Epoch 7 [Val]: 100%|██████████| 16/16 [00:09<00:00,  1.70it/s]\n",
            "Epoch 8 [Train]: 100%|██████████| 63/63 [00:41<00:00,  1.54it/s]\n",
            "Epoch 8 [Val]: 100%|██████████| 16/16 [00:08<00:00,  1.97it/s]\n",
            "Epoch 9 [Train]: 100%|██████████| 63/63 [00:40<00:00,  1.54it/s]\n",
            "Epoch 9 [Val]: 100%|██████████| 16/16 [00:09<00:00,  1.68it/s]\n",
            "Epoch 10 [Train]: 100%|██████████| 63/63 [00:40<00:00,  1.54it/s]\n",
            "Epoch 10 [Val]: 100%|██████████| 16/16 [00:10<00:00,  1.48it/s]\n"
          ]
        },
        {
          "output_type": "display_data",
          "data": {
            "text/plain": [
              "<IPython.core.display.HTML object>"
            ],
            "text/html": []
          },
          "metadata": {}
        },
        {
          "output_type": "display_data",
          "data": {
            "text/plain": [
              "<IPython.core.display.HTML object>"
            ],
            "text/html": [
              "<br>    <style><br>        .wandb-row {<br>            display: flex;<br>            flex-direction: row;<br>            flex-wrap: wrap;<br>            justify-content: flex-start;<br>            width: 100%;<br>        }<br>        .wandb-col {<br>            display: flex;<br>            flex-direction: column;<br>            flex-basis: 100%;<br>            flex: 1;<br>            padding: 10px;<br>        }<br>    </style><br><div class=\"wandb-row\"><div class=\"wandb-col\"><h3>Run history:</h3><br/><table class=\"wandb\"><tr><td>epoch</td><td>▁▂▃▃▄▅▆▆▇█</td></tr><tr><td>train_accuracy</td><td>▁▂▃▅▆▆▆▇▇█</td></tr><tr><td>train_loss</td><td>█▇▆▅▄▃▃▂▂▁</td></tr><tr><td>val_accuracy</td><td>▁▃▆▇▇▇▇███</td></tr><tr><td>val_loss</td><td>█▆▅▃▃▂▂▂▁▂</td></tr></table><br/></div><div class=\"wandb-col\"><h3>Run summary:</h3><br/><table class=\"wandb\"><tr><td>epoch</td><td>10</td></tr><tr><td>train_accuracy</td><td>0.4194</td></tr><tr><td>train_loss</td><td>1.65637</td></tr><tr><td>val_accuracy</td><td>0.36777</td></tr><tr><td>val_loss</td><td>1.89079</td></tr></table><br/></div></div>"
            ]
          },
          "metadata": {}
        },
        {
          "output_type": "display_data",
          "data": {
            "text/plain": [
              "<IPython.core.display.HTML object>"
            ],
            "text/html": [
              " View run <strong style=\"color:#cdcd00\">genial-sweep-7</strong> at: <a href='https://wandb.ai/me21b164-indian-institute-of-technology-madras/A2/runs/a65kzgy2' target=\"_blank\">https://wandb.ai/me21b164-indian-institute-of-technology-madras/A2/runs/a65kzgy2</a><br> View project at: <a href='https://wandb.ai/me21b164-indian-institute-of-technology-madras/A2' target=\"_blank\">https://wandb.ai/me21b164-indian-institute-of-technology-madras/A2</a><br>Synced 5 W&B file(s), 0 media file(s), 0 artifact file(s) and 0 other file(s)"
            ]
          },
          "metadata": {}
        },
        {
          "output_type": "display_data",
          "data": {
            "text/plain": [
              "<IPython.core.display.HTML object>"
            ],
            "text/html": [
              "Find logs at: <code>./wandb/run-20250418_211503-a65kzgy2/logs</code>"
            ]
          },
          "metadata": {}
        },
        {
          "output_type": "stream",
          "name": "stderr",
          "text": [
            "\u001b[34m\u001b[1mwandb\u001b[0m: Sweep Agent: Waiting for job.\n",
            "\u001b[34m\u001b[1mwandb\u001b[0m: Job received.\n",
            "\u001b[34m\u001b[1mwandb\u001b[0m: Agent Starting Run: b3dkkpg0 with config:\n",
            "\u001b[34m\u001b[1mwandb\u001b[0m: \tactivation_fn: SiLU\n",
            "\u001b[34m\u001b[1mwandb\u001b[0m: \tbatch_size: 32\n",
            "\u001b[34m\u001b[1mwandb\u001b[0m: \tconv_filters: [64, 64, 64, 64, 64]\n",
            "\u001b[34m\u001b[1mwandb\u001b[0m: \tdata_augmentation: no\n",
            "\u001b[34m\u001b[1mwandb\u001b[0m: \tdata_dir: /content/inaturalist_12K\n",
            "\u001b[34m\u001b[1mwandb\u001b[0m: \tdense_units: 128\n",
            "\u001b[34m\u001b[1mwandb\u001b[0m: \tdropout: 0.3\n",
            "\u001b[34m\u001b[1mwandb\u001b[0m: \tepochs: 10\n",
            "\u001b[34m\u001b[1mwandb\u001b[0m: \tkernel_sizes: [3, 3, 3, 3, 3]\n",
            "\u001b[34m\u001b[1mwandb\u001b[0m: \tlr: 0.0006030631204261661\n"
          ]
        },
        {
          "output_type": "display_data",
          "data": {
            "text/plain": [
              "<IPython.core.display.HTML object>"
            ],
            "text/html": [
              "Tracking run with wandb version 0.19.9"
            ]
          },
          "metadata": {}
        },
        {
          "output_type": "display_data",
          "data": {
            "text/plain": [
              "<IPython.core.display.HTML object>"
            ],
            "text/html": [
              "Run data is saved locally in <code>/content/wandb/run-20250418_212339-b3dkkpg0</code>"
            ]
          },
          "metadata": {}
        },
        {
          "output_type": "display_data",
          "data": {
            "text/plain": [
              "<IPython.core.display.HTML object>"
            ],
            "text/html": [
              "Syncing run <strong><a href='https://wandb.ai/me21b164-indian-institute-of-technology-madras/A2/runs/b3dkkpg0' target=\"_blank\">deft-sweep-8</a></strong> to <a href='https://wandb.ai/me21b164-indian-institute-of-technology-madras/A2' target=\"_blank\">Weights & Biases</a> (<a href='https://wandb.me/developer-guide' target=\"_blank\">docs</a>)<br>Sweep page: <a href='https://wandb.ai/me21b164-indian-institute-of-technology-madras/A2/sweeps/65nw10d9' target=\"_blank\">https://wandb.ai/me21b164-indian-institute-of-technology-madras/A2/sweeps/65nw10d9</a>"
            ]
          },
          "metadata": {}
        },
        {
          "output_type": "display_data",
          "data": {
            "text/plain": [
              "<IPython.core.display.HTML object>"
            ],
            "text/html": [
              " View project at <a href='https://wandb.ai/me21b164-indian-institute-of-technology-madras/A2' target=\"_blank\">https://wandb.ai/me21b164-indian-institute-of-technology-madras/A2</a>"
            ]
          },
          "metadata": {}
        },
        {
          "output_type": "display_data",
          "data": {
            "text/plain": [
              "<IPython.core.display.HTML object>"
            ],
            "text/html": [
              " View sweep at <a href='https://wandb.ai/me21b164-indian-institute-of-technology-madras/A2/sweeps/65nw10d9' target=\"_blank\">https://wandb.ai/me21b164-indian-institute-of-technology-madras/A2/sweeps/65nw10d9</a>"
            ]
          },
          "metadata": {}
        },
        {
          "output_type": "display_data",
          "data": {
            "text/plain": [
              "<IPython.core.display.HTML object>"
            ],
            "text/html": [
              " View run at <a href='https://wandb.ai/me21b164-indian-institute-of-technology-madras/A2/runs/b3dkkpg0' target=\"_blank\">https://wandb.ai/me21b164-indian-institute-of-technology-madras/A2/runs/b3dkkpg0</a>"
            ]
          },
          "metadata": {}
        },
        {
          "output_type": "stream",
          "name": "stderr",
          "text": [
            "Epoch 1 [Train]: 100%|██████████| 125/125 [00:42<00:00,  2.94it/s]\n",
            "Epoch 1 [Val]: 100%|██████████| 32/32 [00:08<00:00,  3.74it/s]\n",
            "Epoch 2 [Train]: 100%|██████████| 125/125 [00:42<00:00,  2.96it/s]\n",
            "Epoch 2 [Val]: 100%|██████████| 32/32 [00:08<00:00,  3.76it/s]\n",
            "Epoch 3 [Train]: 100%|██████████| 125/125 [00:42<00:00,  2.97it/s]\n",
            "Epoch 3 [Val]: 100%|██████████| 32/32 [00:10<00:00,  3.00it/s]\n",
            "Epoch 4 [Train]: 100%|██████████| 125/125 [00:42<00:00,  2.96it/s]\n",
            "Epoch 4 [Val]: 100%|██████████| 32/32 [00:09<00:00,  3.54it/s]\n",
            "Epoch 5 [Train]: 100%|██████████| 125/125 [00:42<00:00,  2.95it/s]\n",
            "Epoch 5 [Val]: 100%|██████████| 32/32 [00:08<00:00,  3.99it/s]\n",
            "Epoch 6 [Train]: 100%|██████████| 125/125 [00:42<00:00,  2.94it/s]\n",
            "Epoch 6 [Val]: 100%|██████████| 32/32 [00:09<00:00,  3.46it/s]\n",
            "Epoch 7 [Train]: 100%|██████████| 125/125 [00:43<00:00,  2.85it/s]\n",
            "Epoch 7 [Val]: 100%|██████████| 32/32 [00:09<00:00,  3.38it/s]\n",
            "Epoch 8 [Train]: 100%|██████████| 125/125 [00:42<00:00,  2.95it/s]\n",
            "Epoch 8 [Val]: 100%|██████████| 32/32 [00:08<00:00,  3.92it/s]\n",
            "Epoch 9 [Train]: 100%|██████████| 125/125 [00:42<00:00,  2.93it/s]\n",
            "Epoch 9 [Val]: 100%|██████████| 32/32 [00:08<00:00,  3.60it/s]\n",
            "Epoch 10 [Train]: 100%|██████████| 125/125 [00:43<00:00,  2.88it/s]\n",
            "Epoch 10 [Val]: 100%|██████████| 32/32 [00:09<00:00,  3.43it/s]\n"
          ]
        },
        {
          "output_type": "display_data",
          "data": {
            "text/plain": [
              "<IPython.core.display.HTML object>"
            ],
            "text/html": []
          },
          "metadata": {}
        },
        {
          "output_type": "display_data",
          "data": {
            "text/plain": [
              "<IPython.core.display.HTML object>"
            ],
            "text/html": [
              "<br>    <style><br>        .wandb-row {<br>            display: flex;<br>            flex-direction: row;<br>            flex-wrap: wrap;<br>            justify-content: flex-start;<br>            width: 100%;<br>        }<br>        .wandb-col {<br>            display: flex;<br>            flex-direction: column;<br>            flex-basis: 100%;<br>            flex: 1;<br>            padding: 10px;<br>        }<br>    </style><br><div class=\"wandb-row\"><div class=\"wandb-col\"><h3>Run history:</h3><br/><table class=\"wandb\"><tr><td>epoch</td><td>▁▂▃▃▄▅▆▆▇█</td></tr><tr><td>train_accuracy</td><td>▁▃▄▅▅▆▆▇▇█</td></tr><tr><td>train_loss</td><td>█▇▆▅▄▄▃▃▂▁</td></tr><tr><td>val_accuracy</td><td>▁▂▅▆▆▇███▇</td></tr><tr><td>val_loss</td><td>█▆▄▃▄▂▁▁▃▃</td></tr></table><br/></div><div class=\"wandb-col\"><h3>Run summary:</h3><br/><table class=\"wandb\"><tr><td>epoch</td><td>10</td></tr><tr><td>train_accuracy</td><td>0.45112</td></tr><tr><td>train_loss</td><td>1.58924</td></tr><tr><td>val_accuracy</td><td>0.34766</td></tr><tr><td>val_loss</td><td>1.92909</td></tr></table><br/></div></div>"
            ]
          },
          "metadata": {}
        },
        {
          "output_type": "display_data",
          "data": {
            "text/plain": [
              "<IPython.core.display.HTML object>"
            ],
            "text/html": [
              " View run <strong style=\"color:#cdcd00\">deft-sweep-8</strong> at: <a href='https://wandb.ai/me21b164-indian-institute-of-technology-madras/A2/runs/b3dkkpg0' target=\"_blank\">https://wandb.ai/me21b164-indian-institute-of-technology-madras/A2/runs/b3dkkpg0</a><br> View project at: <a href='https://wandb.ai/me21b164-indian-institute-of-technology-madras/A2' target=\"_blank\">https://wandb.ai/me21b164-indian-institute-of-technology-madras/A2</a><br>Synced 5 W&B file(s), 0 media file(s), 0 artifact file(s) and 0 other file(s)"
            ]
          },
          "metadata": {}
        },
        {
          "output_type": "display_data",
          "data": {
            "text/plain": [
              "<IPython.core.display.HTML object>"
            ],
            "text/html": [
              "Find logs at: <code>./wandb/run-20250418_212339-b3dkkpg0/logs</code>"
            ]
          },
          "metadata": {}
        },
        {
          "output_type": "stream",
          "name": "stderr",
          "text": [
            "\u001b[34m\u001b[1mwandb\u001b[0m: Agent Starting Run: kbvwcgmo with config:\n",
            "\u001b[34m\u001b[1mwandb\u001b[0m: \tactivation_fn: SiLU\n",
            "\u001b[34m\u001b[1mwandb\u001b[0m: \tbatch_size: 64\n",
            "\u001b[34m\u001b[1mwandb\u001b[0m: \tconv_filters: [64, 64, 64, 64, 64]\n",
            "\u001b[34m\u001b[1mwandb\u001b[0m: \tdata_augmentation: yes\n",
            "\u001b[34m\u001b[1mwandb\u001b[0m: \tdata_dir: /content/inaturalist_12K\n",
            "\u001b[34m\u001b[1mwandb\u001b[0m: \tdense_units: 256\n",
            "\u001b[34m\u001b[1mwandb\u001b[0m: \tdropout: 0.5\n",
            "\u001b[34m\u001b[1mwandb\u001b[0m: \tepochs: 10\n",
            "\u001b[34m\u001b[1mwandb\u001b[0m: \tkernel_sizes: [3, 3, 3, 3, 3]\n",
            "\u001b[34m\u001b[1mwandb\u001b[0m: \tlr: 0.0005100329541681699\n"
          ]
        },
        {
          "output_type": "display_data",
          "data": {
            "text/plain": [
              "<IPython.core.display.HTML object>"
            ],
            "text/html": [
              "Tracking run with wandb version 0.19.9"
            ]
          },
          "metadata": {}
        },
        {
          "output_type": "display_data",
          "data": {
            "text/plain": [
              "<IPython.core.display.HTML object>"
            ],
            "text/html": [
              "Run data is saved locally in <code>/content/wandb/run-20250418_213223-kbvwcgmo</code>"
            ]
          },
          "metadata": {}
        },
        {
          "output_type": "display_data",
          "data": {
            "text/plain": [
              "<IPython.core.display.HTML object>"
            ],
            "text/html": [
              "Syncing run <strong><a href='https://wandb.ai/me21b164-indian-institute-of-technology-madras/A2/runs/kbvwcgmo' target=\"_blank\">soft-sweep-9</a></strong> to <a href='https://wandb.ai/me21b164-indian-institute-of-technology-madras/A2' target=\"_blank\">Weights & Biases</a> (<a href='https://wandb.me/developer-guide' target=\"_blank\">docs</a>)<br>Sweep page: <a href='https://wandb.ai/me21b164-indian-institute-of-technology-madras/A2/sweeps/65nw10d9' target=\"_blank\">https://wandb.ai/me21b164-indian-institute-of-technology-madras/A2/sweeps/65nw10d9</a>"
            ]
          },
          "metadata": {}
        },
        {
          "output_type": "display_data",
          "data": {
            "text/plain": [
              "<IPython.core.display.HTML object>"
            ],
            "text/html": [
              " View project at <a href='https://wandb.ai/me21b164-indian-institute-of-technology-madras/A2' target=\"_blank\">https://wandb.ai/me21b164-indian-institute-of-technology-madras/A2</a>"
            ]
          },
          "metadata": {}
        },
        {
          "output_type": "display_data",
          "data": {
            "text/plain": [
              "<IPython.core.display.HTML object>"
            ],
            "text/html": [
              " View sweep at <a href='https://wandb.ai/me21b164-indian-institute-of-technology-madras/A2/sweeps/65nw10d9' target=\"_blank\">https://wandb.ai/me21b164-indian-institute-of-technology-madras/A2/sweeps/65nw10d9</a>"
            ]
          },
          "metadata": {}
        },
        {
          "output_type": "display_data",
          "data": {
            "text/plain": [
              "<IPython.core.display.HTML object>"
            ],
            "text/html": [
              " View run at <a href='https://wandb.ai/me21b164-indian-institute-of-technology-madras/A2/runs/kbvwcgmo' target=\"_blank\">https://wandb.ai/me21b164-indian-institute-of-technology-madras/A2/runs/kbvwcgmo</a>"
            ]
          },
          "metadata": {}
        },
        {
          "output_type": "stream",
          "name": "stderr",
          "text": [
            "Epoch 1 [Train]: 100%|██████████| 63/63 [00:41<00:00,  1.53it/s]\n",
            "Epoch 1 [Val]: 100%|██████████| 16/16 [00:08<00:00,  1.82it/s]\n",
            "Epoch 2 [Train]: 100%|██████████| 63/63 [00:40<00:00,  1.54it/s]\n",
            "Epoch 2 [Val]: 100%|██████████| 16/16 [00:09<00:00,  1.68it/s]\n",
            "Epoch 3 [Train]: 100%|██████████| 63/63 [00:42<00:00,  1.49it/s]\n",
            "Epoch 3 [Val]: 100%|██████████| 16/16 [00:09<00:00,  1.73it/s]\n",
            "Epoch 4 [Train]: 100%|██████████| 63/63 [00:41<00:00,  1.53it/s]\n",
            "Epoch 4 [Val]: 100%|██████████| 16/16 [00:08<00:00,  1.88it/s]\n",
            "Epoch 5 [Train]: 100%|██████████| 63/63 [00:41<00:00,  1.53it/s]\n",
            "Epoch 5 [Val]: 100%|██████████| 16/16 [00:09<00:00,  1.69it/s]\n",
            "Epoch 6 [Train]: 100%|██████████| 63/63 [00:42<00:00,  1.47it/s]\n",
            "Epoch 6 [Val]: 100%|██████████| 16/16 [00:09<00:00,  1.68it/s]\n",
            "Epoch 7 [Train]: 100%|██████████| 63/63 [00:41<00:00,  1.53it/s]\n",
            "Epoch 7 [Val]: 100%|██████████| 16/16 [00:08<00:00,  1.91it/s]\n",
            "Epoch 8 [Train]: 100%|██████████| 63/63 [00:41<00:00,  1.51it/s]\n",
            "Epoch 8 [Val]: 100%|██████████| 16/16 [00:09<00:00,  1.63it/s]\n",
            "Epoch 9 [Train]: 100%|██████████| 63/63 [00:43<00:00,  1.46it/s]\n",
            "Epoch 9 [Val]: 100%|██████████| 16/16 [00:09<00:00,  1.67it/s]\n",
            "Epoch 10 [Train]: 100%|██████████| 63/63 [00:41<00:00,  1.53it/s]\n",
            "Epoch 10 [Val]: 100%|██████████| 16/16 [00:08<00:00,  1.92it/s]\n"
          ]
        },
        {
          "output_type": "display_data",
          "data": {
            "text/plain": [
              "<IPython.core.display.HTML object>"
            ],
            "text/html": []
          },
          "metadata": {}
        },
        {
          "output_type": "display_data",
          "data": {
            "text/plain": [
              "<IPython.core.display.HTML object>"
            ],
            "text/html": [
              "<br>    <style><br>        .wandb-row {<br>            display: flex;<br>            flex-direction: row;<br>            flex-wrap: wrap;<br>            justify-content: flex-start;<br>            width: 100%;<br>        }<br>        .wandb-col {<br>            display: flex;<br>            flex-direction: column;<br>            flex-basis: 100%;<br>            flex: 1;<br>            padding: 10px;<br>        }<br>    </style><br><div class=\"wandb-row\"><div class=\"wandb-col\"><h3>Run history:</h3><br/><table class=\"wandb\"><tr><td>epoch</td><td>▁▂▃▃▄▅▆▆▇█</td></tr><tr><td>train_accuracy</td><td>▁▂▃▅▆▆▇▇██</td></tr><tr><td>train_loss</td><td>█▇▆▅▄▄▃▂▂▁</td></tr><tr><td>val_accuracy</td><td>▁▄▄▅▆▇▇▆▇█</td></tr><tr><td>val_loss</td><td>█▇▆▄▃▃▂▂▂▁</td></tr></table><br/></div><div class=\"wandb-col\"><h3>Run summary:</h3><br/><table class=\"wandb\"><tr><td>epoch</td><td>10</td></tr><tr><td>train_accuracy</td><td>0.38354</td></tr><tr><td>train_loss</td><td>1.76887</td></tr><tr><td>val_accuracy</td><td>0.38418</td></tr><tr><td>val_loss</td><td>1.84194</td></tr></table><br/></div></div>"
            ]
          },
          "metadata": {}
        },
        {
          "output_type": "display_data",
          "data": {
            "text/plain": [
              "<IPython.core.display.HTML object>"
            ],
            "text/html": [
              " View run <strong style=\"color:#cdcd00\">soft-sweep-9</strong> at: <a href='https://wandb.ai/me21b164-indian-institute-of-technology-madras/A2/runs/kbvwcgmo' target=\"_blank\">https://wandb.ai/me21b164-indian-institute-of-technology-madras/A2/runs/kbvwcgmo</a><br> View project at: <a href='https://wandb.ai/me21b164-indian-institute-of-technology-madras/A2' target=\"_blank\">https://wandb.ai/me21b164-indian-institute-of-technology-madras/A2</a><br>Synced 5 W&B file(s), 0 media file(s), 0 artifact file(s) and 0 other file(s)"
            ]
          },
          "metadata": {}
        },
        {
          "output_type": "display_data",
          "data": {
            "text/plain": [
              "<IPython.core.display.HTML object>"
            ],
            "text/html": [
              "Find logs at: <code>./wandb/run-20250418_213223-kbvwcgmo/logs</code>"
            ]
          },
          "metadata": {}
        },
        {
          "output_type": "stream",
          "name": "stderr",
          "text": [
            "\u001b[34m\u001b[1mwandb\u001b[0m: Agent Starting Run: ohp39vww with config:\n",
            "\u001b[34m\u001b[1mwandb\u001b[0m: \tactivation_fn: SiLU\n",
            "\u001b[34m\u001b[1mwandb\u001b[0m: \tbatch_size: 64\n",
            "\u001b[34m\u001b[1mwandb\u001b[0m: \tconv_filters: [64, 64, 64, 64, 64]\n",
            "\u001b[34m\u001b[1mwandb\u001b[0m: \tdata_augmentation: yes\n",
            "\u001b[34m\u001b[1mwandb\u001b[0m: \tdata_dir: /content/inaturalist_12K\n",
            "\u001b[34m\u001b[1mwandb\u001b[0m: \tdense_units: 512\n",
            "\u001b[34m\u001b[1mwandb\u001b[0m: \tdropout: 0.5\n",
            "\u001b[34m\u001b[1mwandb\u001b[0m: \tepochs: 10\n",
            "\u001b[34m\u001b[1mwandb\u001b[0m: \tkernel_sizes: [3, 3, 3, 3, 3]\n",
            "\u001b[34m\u001b[1mwandb\u001b[0m: \tlr: 0.0005517140840889947\n"
          ]
        },
        {
          "output_type": "display_data",
          "data": {
            "text/plain": [
              "<IPython.core.display.HTML object>"
            ],
            "text/html": [
              "Tracking run with wandb version 0.19.9"
            ]
          },
          "metadata": {}
        },
        {
          "output_type": "display_data",
          "data": {
            "text/plain": [
              "<IPython.core.display.HTML object>"
            ],
            "text/html": [
              "Run data is saved locally in <code>/content/wandb/run-20250418_214055-ohp39vww</code>"
            ]
          },
          "metadata": {}
        },
        {
          "output_type": "display_data",
          "data": {
            "text/plain": [
              "<IPython.core.display.HTML object>"
            ],
            "text/html": [
              "Syncing run <strong><a href='https://wandb.ai/me21b164-indian-institute-of-technology-madras/A2/runs/ohp39vww' target=\"_blank\">swept-sweep-10</a></strong> to <a href='https://wandb.ai/me21b164-indian-institute-of-technology-madras/A2' target=\"_blank\">Weights & Biases</a> (<a href='https://wandb.me/developer-guide' target=\"_blank\">docs</a>)<br>Sweep page: <a href='https://wandb.ai/me21b164-indian-institute-of-technology-madras/A2/sweeps/65nw10d9' target=\"_blank\">https://wandb.ai/me21b164-indian-institute-of-technology-madras/A2/sweeps/65nw10d9</a>"
            ]
          },
          "metadata": {}
        },
        {
          "output_type": "display_data",
          "data": {
            "text/plain": [
              "<IPython.core.display.HTML object>"
            ],
            "text/html": [
              " View project at <a href='https://wandb.ai/me21b164-indian-institute-of-technology-madras/A2' target=\"_blank\">https://wandb.ai/me21b164-indian-institute-of-technology-madras/A2</a>"
            ]
          },
          "metadata": {}
        },
        {
          "output_type": "display_data",
          "data": {
            "text/plain": [
              "<IPython.core.display.HTML object>"
            ],
            "text/html": [
              " View sweep at <a href='https://wandb.ai/me21b164-indian-institute-of-technology-madras/A2/sweeps/65nw10d9' target=\"_blank\">https://wandb.ai/me21b164-indian-institute-of-technology-madras/A2/sweeps/65nw10d9</a>"
            ]
          },
          "metadata": {}
        },
        {
          "output_type": "display_data",
          "data": {
            "text/plain": [
              "<IPython.core.display.HTML object>"
            ],
            "text/html": [
              " View run at <a href='https://wandb.ai/me21b164-indian-institute-of-technology-madras/A2/runs/ohp39vww' target=\"_blank\">https://wandb.ai/me21b164-indian-institute-of-technology-madras/A2/runs/ohp39vww</a>"
            ]
          },
          "metadata": {}
        },
        {
          "output_type": "stream",
          "name": "stderr",
          "text": [
            "Epoch 1 [Train]: 100%|██████████| 63/63 [00:41<00:00,  1.51it/s]\n",
            "Epoch 1 [Val]: 100%|██████████| 16/16 [00:09<00:00,  1.76it/s]\n",
            "Epoch 2 [Train]: 100%|██████████| 63/63 [00:41<00:00,  1.50it/s]\n",
            "Epoch 2 [Val]: 100%|██████████| 16/16 [00:11<00:00,  1.42it/s]\n",
            "Epoch 3 [Train]: 100%|██████████| 63/63 [00:41<00:00,  1.50it/s]\n",
            "Epoch 3 [Val]: 100%|██████████| 16/16 [00:08<00:00,  1.83it/s]\n",
            "Epoch 4 [Train]: 100%|██████████| 63/63 [00:42<00:00,  1.50it/s]\n",
            "Epoch 4 [Val]: 100%|██████████| 16/16 [00:08<00:00,  1.78it/s]\n",
            "Epoch 5 [Train]: 100%|██████████| 63/63 [00:41<00:00,  1.51it/s]\n",
            "Epoch 5 [Val]: 100%|██████████| 16/16 [00:10<00:00,  1.49it/s]\n",
            "Epoch 6 [Train]: 100%|██████████| 63/63 [00:41<00:00,  1.50it/s]\n",
            "Epoch 6 [Val]: 100%|██████████| 16/16 [00:09<00:00,  1.66it/s]\n",
            "Epoch 7 [Train]: 100%|██████████| 63/63 [00:41<00:00,  1.51it/s]\n",
            "Epoch 7 [Val]: 100%|██████████| 16/16 [00:08<00:00,  1.90it/s]\n",
            "Epoch 8 [Train]: 100%|██████████| 63/63 [00:41<00:00,  1.52it/s]\n",
            "Epoch 8 [Val]: 100%|██████████| 16/16 [00:09<00:00,  1.67it/s]\n",
            "Epoch 9 [Train]: 100%|██████████| 63/63 [00:43<00:00,  1.44it/s]\n",
            "Epoch 9 [Val]: 100%|██████████| 16/16 [00:09<00:00,  1.67it/s]\n",
            "Epoch 10 [Train]: 100%|██████████| 63/63 [00:42<00:00,  1.48it/s]\n",
            "Epoch 10 [Val]: 100%|██████████| 16/16 [00:08<00:00,  1.88it/s]\n"
          ]
        },
        {
          "output_type": "display_data",
          "data": {
            "text/plain": [
              "<IPython.core.display.HTML object>"
            ],
            "text/html": []
          },
          "metadata": {}
        },
        {
          "output_type": "display_data",
          "data": {
            "text/plain": [
              "<IPython.core.display.HTML object>"
            ],
            "text/html": [
              "<br>    <style><br>        .wandb-row {<br>            display: flex;<br>            flex-direction: row;<br>            flex-wrap: wrap;<br>            justify-content: flex-start;<br>            width: 100%;<br>        }<br>        .wandb-col {<br>            display: flex;<br>            flex-direction: column;<br>            flex-basis: 100%;<br>            flex: 1;<br>            padding: 10px;<br>        }<br>    </style><br><div class=\"wandb-row\"><div class=\"wandb-col\"><h3>Run history:</h3><br/><table class=\"wandb\"><tr><td>epoch</td><td>▁▂▃▃▄▅▆▆▇█</td></tr><tr><td>train_accuracy</td><td>▁▃▄▅▆▆▇▇██</td></tr><tr><td>train_loss</td><td>█▇▆▅▄▃▃▂▁▁</td></tr><tr><td>val_accuracy</td><td>▁▃▆▆▆▇▇███</td></tr><tr><td>val_loss</td><td>█▆▄▃▃▂▁▁▂▁</td></tr></table><br/></div><div class=\"wandb-col\"><h3>Run summary:</h3><br/><table class=\"wandb\"><tr><td>epoch</td><td>10</td></tr><tr><td>train_accuracy</td><td>0.41147</td></tr><tr><td>train_loss</td><td>1.71447</td></tr><tr><td>val_accuracy</td><td>0.37852</td></tr><tr><td>val_loss</td><td>1.86969</td></tr></table><br/></div></div>"
            ]
          },
          "metadata": {}
        },
        {
          "output_type": "display_data",
          "data": {
            "text/plain": [
              "<IPython.core.display.HTML object>"
            ],
            "text/html": [
              " View run <strong style=\"color:#cdcd00\">swept-sweep-10</strong> at: <a href='https://wandb.ai/me21b164-indian-institute-of-technology-madras/A2/runs/ohp39vww' target=\"_blank\">https://wandb.ai/me21b164-indian-institute-of-technology-madras/A2/runs/ohp39vww</a><br> View project at: <a href='https://wandb.ai/me21b164-indian-institute-of-technology-madras/A2' target=\"_blank\">https://wandb.ai/me21b164-indian-institute-of-technology-madras/A2</a><br>Synced 5 W&B file(s), 0 media file(s), 0 artifact file(s) and 0 other file(s)"
            ]
          },
          "metadata": {}
        },
        {
          "output_type": "display_data",
          "data": {
            "text/plain": [
              "<IPython.core.display.HTML object>"
            ],
            "text/html": [
              "Find logs at: <code>./wandb/run-20250418_214055-ohp39vww/logs</code>"
            ]
          },
          "metadata": {}
        },
        {
          "output_type": "stream",
          "name": "stderr",
          "text": [
            "\u001b[34m\u001b[1mwandb\u001b[0m: Agent Starting Run: 1d13tc06 with config:\n",
            "\u001b[34m\u001b[1mwandb\u001b[0m: \tactivation_fn: SiLU\n",
            "\u001b[34m\u001b[1mwandb\u001b[0m: \tbatch_size: 64\n",
            "\u001b[34m\u001b[1mwandb\u001b[0m: \tconv_filters: [64, 64, 64, 64, 64]\n",
            "\u001b[34m\u001b[1mwandb\u001b[0m: \tdata_augmentation: no\n",
            "\u001b[34m\u001b[1mwandb\u001b[0m: \tdata_dir: /content/inaturalist_12K\n",
            "\u001b[34m\u001b[1mwandb\u001b[0m: \tdense_units: 256\n",
            "\u001b[34m\u001b[1mwandb\u001b[0m: \tdropout: 0.3\n",
            "\u001b[34m\u001b[1mwandb\u001b[0m: \tepochs: 10\n",
            "\u001b[34m\u001b[1mwandb\u001b[0m: \tkernel_sizes: [3, 3, 3, 3, 3]\n",
            "\u001b[34m\u001b[1mwandb\u001b[0m: \tlr: 0.0006907383955474962\n"
          ]
        },
        {
          "output_type": "display_data",
          "data": {
            "text/plain": [
              "<IPython.core.display.HTML object>"
            ],
            "text/html": [
              "Tracking run with wandb version 0.19.9"
            ]
          },
          "metadata": {}
        },
        {
          "output_type": "display_data",
          "data": {
            "text/plain": [
              "<IPython.core.display.HTML object>"
            ],
            "text/html": [
              "Run data is saved locally in <code>/content/wandb/run-20250418_214934-1d13tc06</code>"
            ]
          },
          "metadata": {}
        },
        {
          "output_type": "display_data",
          "data": {
            "text/plain": [
              "<IPython.core.display.HTML object>"
            ],
            "text/html": [
              "Syncing run <strong><a href='https://wandb.ai/me21b164-indian-institute-of-technology-madras/A2/runs/1d13tc06' target=\"_blank\">eager-sweep-11</a></strong> to <a href='https://wandb.ai/me21b164-indian-institute-of-technology-madras/A2' target=\"_blank\">Weights & Biases</a> (<a href='https://wandb.me/developer-guide' target=\"_blank\">docs</a>)<br>Sweep page: <a href='https://wandb.ai/me21b164-indian-institute-of-technology-madras/A2/sweeps/65nw10d9' target=\"_blank\">https://wandb.ai/me21b164-indian-institute-of-technology-madras/A2/sweeps/65nw10d9</a>"
            ]
          },
          "metadata": {}
        },
        {
          "output_type": "display_data",
          "data": {
            "text/plain": [
              "<IPython.core.display.HTML object>"
            ],
            "text/html": [
              " View project at <a href='https://wandb.ai/me21b164-indian-institute-of-technology-madras/A2' target=\"_blank\">https://wandb.ai/me21b164-indian-institute-of-technology-madras/A2</a>"
            ]
          },
          "metadata": {}
        },
        {
          "output_type": "display_data",
          "data": {
            "text/plain": [
              "<IPython.core.display.HTML object>"
            ],
            "text/html": [
              " View sweep at <a href='https://wandb.ai/me21b164-indian-institute-of-technology-madras/A2/sweeps/65nw10d9' target=\"_blank\">https://wandb.ai/me21b164-indian-institute-of-technology-madras/A2/sweeps/65nw10d9</a>"
            ]
          },
          "metadata": {}
        },
        {
          "output_type": "display_data",
          "data": {
            "text/plain": [
              "<IPython.core.display.HTML object>"
            ],
            "text/html": [
              " View run at <a href='https://wandb.ai/me21b164-indian-institute-of-technology-madras/A2/runs/1d13tc06' target=\"_blank\">https://wandb.ai/me21b164-indian-institute-of-technology-madras/A2/runs/1d13tc06</a>"
            ]
          },
          "metadata": {}
        },
        {
          "output_type": "stream",
          "name": "stderr",
          "text": [
            "Epoch 1 [Train]: 100%|██████████| 63/63 [00:42<00:00,  1.49it/s]\n",
            "Epoch 1 [Val]: 100%|██████████| 16/16 [00:08<00:00,  1.93it/s]\n",
            "Epoch 2 [Train]: 100%|██████████| 63/63 [00:44<00:00,  1.43it/s]\n",
            "Epoch 2 [Val]: 100%|██████████| 16/16 [00:08<00:00,  1.83it/s]\n",
            "Epoch 3 [Train]: 100%|██████████| 63/63 [00:42<00:00,  1.50it/s]\n",
            "Epoch 3 [Val]: 100%|██████████| 16/16 [00:09<00:00,  1.66it/s]\n",
            "Epoch 4 [Train]: 100%|██████████| 63/63 [00:42<00:00,  1.49it/s]\n",
            "Epoch 4 [Val]: 100%|██████████| 16/16 [00:09<00:00,  1.63it/s]\n",
            "Epoch 5 [Train]: 100%|██████████| 63/63 [00:43<00:00,  1.44it/s]\n",
            "Epoch 5 [Val]: 100%|██████████| 16/16 [00:08<00:00,  1.91it/s]\n",
            "Epoch 6 [Train]: 100%|██████████| 63/63 [00:42<00:00,  1.49it/s]\n",
            "Epoch 6 [Val]: 100%|██████████| 16/16 [00:09<00:00,  1.66it/s]\n",
            "Epoch 7 [Train]: 100%|██████████| 63/63 [00:41<00:00,  1.50it/s]\n",
            "Epoch 7 [Val]: 100%|██████████| 16/16 [00:09<00:00,  1.66it/s]\n",
            "Epoch 8 [Train]: 100%|██████████| 63/63 [00:44<00:00,  1.43it/s]\n",
            "Epoch 8 [Val]: 100%|██████████| 16/16 [00:08<00:00,  1.83it/s]\n",
            "Epoch 9 [Train]: 100%|██████████| 63/63 [00:42<00:00,  1.50it/s]\n",
            "Epoch 9 [Val]: 100%|██████████| 16/16 [00:08<00:00,  1.78it/s]\n",
            "Epoch 10 [Train]: 100%|██████████| 63/63 [00:41<00:00,  1.50it/s]\n",
            "Epoch 10 [Val]: 100%|██████████| 16/16 [00:09<00:00,  1.66it/s]\n"
          ]
        },
        {
          "output_type": "display_data",
          "data": {
            "text/plain": [
              "<IPython.core.display.HTML object>"
            ],
            "text/html": []
          },
          "metadata": {}
        },
        {
          "output_type": "display_data",
          "data": {
            "text/plain": [
              "<IPython.core.display.HTML object>"
            ],
            "text/html": [
              "<br>    <style><br>        .wandb-row {<br>            display: flex;<br>            flex-direction: row;<br>            flex-wrap: wrap;<br>            justify-content: flex-start;<br>            width: 100%;<br>        }<br>        .wandb-col {<br>            display: flex;<br>            flex-direction: column;<br>            flex-basis: 100%;<br>            flex: 1;<br>            padding: 10px;<br>        }<br>    </style><br><div class=\"wandb-row\"><div class=\"wandb-col\"><h3>Run history:</h3><br/><table class=\"wandb\"><tr><td>epoch</td><td>▁▂▃▃▄▅▆▆▇█</td></tr><tr><td>train_accuracy</td><td>▁▃▄▅▆▆▇▇▇█</td></tr><tr><td>train_loss</td><td>█▇▆▅▄▄▃▂▂▁</td></tr><tr><td>val_accuracy</td><td>▁▂▅▆▇▇▇███</td></tr><tr><td>val_loss</td><td>▇█▄▃▂▂▂▁▂▁</td></tr></table><br/></div><div class=\"wandb-col\"><h3>Run summary:</h3><br/><table class=\"wandb\"><tr><td>epoch</td><td>10</td></tr><tr><td>train_accuracy</td><td>0.41838</td></tr><tr><td>train_loss</td><td>1.67766</td></tr><tr><td>val_accuracy</td><td>0.36309</td></tr><tr><td>val_loss</td><td>1.85783</td></tr></table><br/></div></div>"
            ]
          },
          "metadata": {}
        },
        {
          "output_type": "display_data",
          "data": {
            "text/plain": [
              "<IPython.core.display.HTML object>"
            ],
            "text/html": [
              " View run <strong style=\"color:#cdcd00\">eager-sweep-11</strong> at: <a href='https://wandb.ai/me21b164-indian-institute-of-technology-madras/A2/runs/1d13tc06' target=\"_blank\">https://wandb.ai/me21b164-indian-institute-of-technology-madras/A2/runs/1d13tc06</a><br> View project at: <a href='https://wandb.ai/me21b164-indian-institute-of-technology-madras/A2' target=\"_blank\">https://wandb.ai/me21b164-indian-institute-of-technology-madras/A2</a><br>Synced 5 W&B file(s), 0 media file(s), 0 artifact file(s) and 0 other file(s)"
            ]
          },
          "metadata": {}
        },
        {
          "output_type": "display_data",
          "data": {
            "text/plain": [
              "<IPython.core.display.HTML object>"
            ],
            "text/html": [
              "Find logs at: <code>./wandb/run-20250418_214934-1d13tc06/logs</code>"
            ]
          },
          "metadata": {}
        },
        {
          "output_type": "stream",
          "name": "stderr",
          "text": [
            "\u001b[34m\u001b[1mwandb\u001b[0m: Agent Starting Run: ful8vnfb with config:\n",
            "\u001b[34m\u001b[1mwandb\u001b[0m: \tactivation_fn: GELU\n",
            "\u001b[34m\u001b[1mwandb\u001b[0m: \tbatch_size: 32\n",
            "\u001b[34m\u001b[1mwandb\u001b[0m: \tconv_filters: [64, 64, 64, 64, 64]\n",
            "\u001b[34m\u001b[1mwandb\u001b[0m: \tdata_augmentation: no\n",
            "\u001b[34m\u001b[1mwandb\u001b[0m: \tdata_dir: /content/inaturalist_12K\n",
            "\u001b[34m\u001b[1mwandb\u001b[0m: \tdense_units: 128\n",
            "\u001b[34m\u001b[1mwandb\u001b[0m: \tdropout: 0.3\n",
            "\u001b[34m\u001b[1mwandb\u001b[0m: \tepochs: 10\n",
            "\u001b[34m\u001b[1mwandb\u001b[0m: \tkernel_sizes: [3, 3, 3, 3, 3]\n",
            "\u001b[34m\u001b[1mwandb\u001b[0m: \tlr: 0.0005138838360107809\n"
          ]
        },
        {
          "output_type": "display_data",
          "data": {
            "text/plain": [
              "<IPython.core.display.HTML object>"
            ],
            "text/html": [
              "Tracking run with wandb version 0.19.9"
            ]
          },
          "metadata": {}
        },
        {
          "output_type": "display_data",
          "data": {
            "text/plain": [
              "<IPython.core.display.HTML object>"
            ],
            "text/html": [
              "Run data is saved locally in <code>/content/wandb/run-20250418_215815-ful8vnfb</code>"
            ]
          },
          "metadata": {}
        },
        {
          "output_type": "display_data",
          "data": {
            "text/plain": [
              "<IPython.core.display.HTML object>"
            ],
            "text/html": [
              "Syncing run <strong><a href='https://wandb.ai/me21b164-indian-institute-of-technology-madras/A2/runs/ful8vnfb' target=\"_blank\">scarlet-sweep-12</a></strong> to <a href='https://wandb.ai/me21b164-indian-institute-of-technology-madras/A2' target=\"_blank\">Weights & Biases</a> (<a href='https://wandb.me/developer-guide' target=\"_blank\">docs</a>)<br>Sweep page: <a href='https://wandb.ai/me21b164-indian-institute-of-technology-madras/A2/sweeps/65nw10d9' target=\"_blank\">https://wandb.ai/me21b164-indian-institute-of-technology-madras/A2/sweeps/65nw10d9</a>"
            ]
          },
          "metadata": {}
        },
        {
          "output_type": "display_data",
          "data": {
            "text/plain": [
              "<IPython.core.display.HTML object>"
            ],
            "text/html": [
              " View project at <a href='https://wandb.ai/me21b164-indian-institute-of-technology-madras/A2' target=\"_blank\">https://wandb.ai/me21b164-indian-institute-of-technology-madras/A2</a>"
            ]
          },
          "metadata": {}
        },
        {
          "output_type": "display_data",
          "data": {
            "text/plain": [
              "<IPython.core.display.HTML object>"
            ],
            "text/html": [
              " View sweep at <a href='https://wandb.ai/me21b164-indian-institute-of-technology-madras/A2/sweeps/65nw10d9' target=\"_blank\">https://wandb.ai/me21b164-indian-institute-of-technology-madras/A2/sweeps/65nw10d9</a>"
            ]
          },
          "metadata": {}
        },
        {
          "output_type": "display_data",
          "data": {
            "text/plain": [
              "<IPython.core.display.HTML object>"
            ],
            "text/html": [
              " View run at <a href='https://wandb.ai/me21b164-indian-institute-of-technology-madras/A2/runs/ful8vnfb' target=\"_blank\">https://wandb.ai/me21b164-indian-institute-of-technology-madras/A2/runs/ful8vnfb</a>"
            ]
          },
          "metadata": {}
        },
        {
          "output_type": "stream",
          "name": "stderr",
          "text": [
            "Epoch 1 [Train]: 100%|██████████| 125/125 [00:43<00:00,  2.86it/s]\n",
            "Epoch 1 [Val]: 100%|██████████| 32/32 [00:09<00:00,  3.39it/s]\n",
            "Epoch 2 [Train]: 100%|██████████| 125/125 [00:42<00:00,  2.96it/s]\n",
            "Epoch 2 [Val]: 100%|██████████| 32/32 [00:09<00:00,  3.40it/s]\n",
            "Epoch 3 [Train]: 100%|██████████| 125/125 [00:42<00:00,  2.94it/s]\n",
            "Epoch 3 [Val]: 100%|██████████| 32/32 [00:08<00:00,  3.96it/s]\n",
            "Epoch 4 [Train]: 100%|██████████| 125/125 [00:44<00:00,  2.82it/s]\n",
            "Epoch 4 [Val]: 100%|██████████| 32/32 [00:08<00:00,  3.71it/s]\n",
            "Epoch 5 [Train]: 100%|██████████| 125/125 [00:42<00:00,  2.96it/s]\n",
            "Epoch 5 [Val]: 100%|██████████| 32/32 [00:09<00:00,  3.39it/s]\n",
            "Epoch 6 [Train]: 100%|██████████| 125/125 [00:42<00:00,  2.95it/s]\n",
            "Epoch 6 [Val]: 100%|██████████| 32/32 [00:09<00:00,  3.45it/s]\n",
            "Epoch 7 [Train]: 100%|██████████| 125/125 [00:43<00:00,  2.88it/s]\n",
            "Epoch 7 [Val]: 100%|██████████| 32/32 [00:08<00:00,  3.73it/s]\n",
            "Epoch 8 [Train]: 100%|██████████| 125/125 [00:42<00:00,  2.93it/s]\n",
            "Epoch 8 [Val]: 100%|██████████| 32/32 [00:09<00:00,  3.44it/s]\n",
            "Epoch 9 [Train]: 100%|██████████| 125/125 [00:42<00:00,  2.94it/s]\n",
            "Epoch 9 [Val]: 100%|██████████| 32/32 [00:09<00:00,  3.41it/s]\n",
            "Epoch 10 [Train]: 100%|██████████| 125/125 [00:43<00:00,  2.87it/s]\n",
            "Epoch 10 [Val]: 100%|██████████| 32/32 [00:08<00:00,  3.84it/s]\n"
          ]
        },
        {
          "output_type": "display_data",
          "data": {
            "text/plain": [
              "<IPython.core.display.HTML object>"
            ],
            "text/html": []
          },
          "metadata": {}
        },
        {
          "output_type": "display_data",
          "data": {
            "text/plain": [
              "<IPython.core.display.HTML object>"
            ],
            "text/html": [
              "<br>    <style><br>        .wandb-row {<br>            display: flex;<br>            flex-direction: row;<br>            flex-wrap: wrap;<br>            justify-content: flex-start;<br>            width: 100%;<br>        }<br>        .wandb-col {<br>            display: flex;<br>            flex-direction: column;<br>            flex-basis: 100%;<br>            flex: 1;<br>            padding: 10px;<br>        }<br>    </style><br><div class=\"wandb-row\"><div class=\"wandb-col\"><h3>Run history:</h3><br/><table class=\"wandb\"><tr><td>epoch</td><td>▁▂▃▃▄▅▆▆▇█</td></tr><tr><td>train_accuracy</td><td>▁▂▄▅▅▆▆▇▇█</td></tr><tr><td>train_loss</td><td>█▇▆▅▄▄▃▃▂▁</td></tr><tr><td>val_accuracy</td><td>▁▃▆▇▇▇█▇██</td></tr><tr><td>val_loss</td><td>█▆▄▂▁▁▁▁▁▂</td></tr></table><br/></div><div class=\"wandb-col\"><h3>Run summary:</h3><br/><table class=\"wandb\"><tr><td>epoch</td><td>10</td></tr><tr><td>train_accuracy</td><td>0.46755</td></tr><tr><td>train_loss</td><td>1.52867</td></tr><tr><td>val_accuracy</td><td>0.34473</td></tr><tr><td>val_loss</td><td>1.90975</td></tr></table><br/></div></div>"
            ]
          },
          "metadata": {}
        },
        {
          "output_type": "display_data",
          "data": {
            "text/plain": [
              "<IPython.core.display.HTML object>"
            ],
            "text/html": [
              " View run <strong style=\"color:#cdcd00\">scarlet-sweep-12</strong> at: <a href='https://wandb.ai/me21b164-indian-institute-of-technology-madras/A2/runs/ful8vnfb' target=\"_blank\">https://wandb.ai/me21b164-indian-institute-of-technology-madras/A2/runs/ful8vnfb</a><br> View project at: <a href='https://wandb.ai/me21b164-indian-institute-of-technology-madras/A2' target=\"_blank\">https://wandb.ai/me21b164-indian-institute-of-technology-madras/A2</a><br>Synced 5 W&B file(s), 0 media file(s), 0 artifact file(s) and 0 other file(s)"
            ]
          },
          "metadata": {}
        },
        {
          "output_type": "display_data",
          "data": {
            "text/plain": [
              "<IPython.core.display.HTML object>"
            ],
            "text/html": [
              "Find logs at: <code>./wandb/run-20250418_215815-ful8vnfb/logs</code>"
            ]
          },
          "metadata": {}
        },
        {
          "output_type": "stream",
          "name": "stderr",
          "text": [
            "\u001b[34m\u001b[1mwandb\u001b[0m: Sweep Agent: Waiting for job.\n",
            "\u001b[34m\u001b[1mwandb\u001b[0m: Job received.\n",
            "\u001b[34m\u001b[1mwandb\u001b[0m: Agent Starting Run: uljet5fc with config:\n",
            "\u001b[34m\u001b[1mwandb\u001b[0m: \tactivation_fn: GELU\n",
            "\u001b[34m\u001b[1mwandb\u001b[0m: \tbatch_size: 32\n",
            "\u001b[34m\u001b[1mwandb\u001b[0m: \tconv_filters: [64, 64, 64, 64, 64]\n",
            "\u001b[34m\u001b[1mwandb\u001b[0m: \tdata_augmentation: no\n",
            "\u001b[34m\u001b[1mwandb\u001b[0m: \tdata_dir: /content/inaturalist_12K\n",
            "\u001b[34m\u001b[1mwandb\u001b[0m: \tdense_units: 256\n",
            "\u001b[34m\u001b[1mwandb\u001b[0m: \tdropout: 0.5\n",
            "\u001b[34m\u001b[1mwandb\u001b[0m: \tepochs: 10\n",
            "\u001b[34m\u001b[1mwandb\u001b[0m: \tkernel_sizes: [3, 3, 3, 3, 3]\n",
            "\u001b[34m\u001b[1mwandb\u001b[0m: \tlr: 0.0005471292652182568\n"
          ]
        },
        {
          "output_type": "display_data",
          "data": {
            "text/plain": [
              "<IPython.core.display.HTML object>"
            ],
            "text/html": [
              "Tracking run with wandb version 0.19.9"
            ]
          },
          "metadata": {}
        },
        {
          "output_type": "display_data",
          "data": {
            "text/plain": [
              "<IPython.core.display.HTML object>"
            ],
            "text/html": [
              "Run data is saved locally in <code>/content/wandb/run-20250418_220706-uljet5fc</code>"
            ]
          },
          "metadata": {}
        },
        {
          "output_type": "display_data",
          "data": {
            "text/plain": [
              "<IPython.core.display.HTML object>"
            ],
            "text/html": [
              "Syncing run <strong><a href='https://wandb.ai/me21b164-indian-institute-of-technology-madras/A2/runs/uljet5fc' target=\"_blank\">toasty-sweep-13</a></strong> to <a href='https://wandb.ai/me21b164-indian-institute-of-technology-madras/A2' target=\"_blank\">Weights & Biases</a> (<a href='https://wandb.me/developer-guide' target=\"_blank\">docs</a>)<br>Sweep page: <a href='https://wandb.ai/me21b164-indian-institute-of-technology-madras/A2/sweeps/65nw10d9' target=\"_blank\">https://wandb.ai/me21b164-indian-institute-of-technology-madras/A2/sweeps/65nw10d9</a>"
            ]
          },
          "metadata": {}
        },
        {
          "output_type": "display_data",
          "data": {
            "text/plain": [
              "<IPython.core.display.HTML object>"
            ],
            "text/html": [
              " View project at <a href='https://wandb.ai/me21b164-indian-institute-of-technology-madras/A2' target=\"_blank\">https://wandb.ai/me21b164-indian-institute-of-technology-madras/A2</a>"
            ]
          },
          "metadata": {}
        },
        {
          "output_type": "display_data",
          "data": {
            "text/plain": [
              "<IPython.core.display.HTML object>"
            ],
            "text/html": [
              " View sweep at <a href='https://wandb.ai/me21b164-indian-institute-of-technology-madras/A2/sweeps/65nw10d9' target=\"_blank\">https://wandb.ai/me21b164-indian-institute-of-technology-madras/A2/sweeps/65nw10d9</a>"
            ]
          },
          "metadata": {}
        },
        {
          "output_type": "display_data",
          "data": {
            "text/plain": [
              "<IPython.core.display.HTML object>"
            ],
            "text/html": [
              " View run at <a href='https://wandb.ai/me21b164-indian-institute-of-technology-madras/A2/runs/uljet5fc' target=\"_blank\">https://wandb.ai/me21b164-indian-institute-of-technology-madras/A2/runs/uljet5fc</a>"
            ]
          },
          "metadata": {}
        },
        {
          "output_type": "stream",
          "name": "stderr",
          "text": [
            "Epoch 1 [Train]: 100%|██████████| 125/125 [00:42<00:00,  2.95it/s]\n",
            "Epoch 1 [Val]: 100%|██████████| 32/32 [00:09<00:00,  3.45it/s]\n",
            "Epoch 2 [Train]: 100%|██████████| 125/125 [00:42<00:00,  2.94it/s]\n",
            "Epoch 2 [Val]: 100%|██████████| 32/32 [00:10<00:00,  3.17it/s]\n",
            "Epoch 3 [Train]: 100%|██████████| 125/125 [00:43<00:00,  2.89it/s]\n",
            "Epoch 3 [Val]: 100%|██████████| 32/32 [00:08<00:00,  3.96it/s]\n",
            "Epoch 4 [Train]: 100%|██████████| 125/125 [00:42<00:00,  2.95it/s]\n",
            "Epoch 4 [Val]: 100%|██████████| 32/32 [00:09<00:00,  3.39it/s]\n",
            "Epoch 5 [Train]: 100%|██████████| 125/125 [00:42<00:00,  2.93it/s]\n",
            "Epoch 5 [Val]: 100%|██████████| 32/32 [00:10<00:00,  2.92it/s]\n",
            "Epoch 6 [Train]: 100%|██████████| 125/125 [00:42<00:00,  2.93it/s]\n",
            "Epoch 6 [Val]: 100%|██████████| 32/32 [00:08<00:00,  3.71it/s]\n",
            "Epoch 7 [Train]: 100%|██████████| 125/125 [00:44<00:00,  2.83it/s]\n",
            "Epoch 7 [Val]: 100%|██████████| 32/32 [00:08<00:00,  3.85it/s]\n",
            "Epoch 8 [Train]: 100%|██████████| 125/125 [00:45<00:00,  2.77it/s]\n",
            "Epoch 8 [Val]: 100%|██████████| 32/32 [00:09<00:00,  3.55it/s]\n",
            "Epoch 9 [Train]: 100%|██████████| 125/125 [00:43<00:00,  2.88it/s]\n",
            "Epoch 9 [Val]: 100%|██████████| 32/32 [00:09<00:00,  3.34it/s]\n",
            "Epoch 10 [Train]: 100%|██████████| 125/125 [00:43<00:00,  2.89it/s]\n",
            "Epoch 10 [Val]: 100%|██████████| 32/32 [00:09<00:00,  3.33it/s]\n"
          ]
        },
        {
          "output_type": "display_data",
          "data": {
            "text/plain": [
              "<IPython.core.display.HTML object>"
            ],
            "text/html": []
          },
          "metadata": {}
        },
        {
          "output_type": "display_data",
          "data": {
            "text/plain": [
              "<IPython.core.display.HTML object>"
            ],
            "text/html": [
              "<br>    <style><br>        .wandb-row {<br>            display: flex;<br>            flex-direction: row;<br>            flex-wrap: wrap;<br>            justify-content: flex-start;<br>            width: 100%;<br>        }<br>        .wandb-col {<br>            display: flex;<br>            flex-direction: column;<br>            flex-basis: 100%;<br>            flex: 1;<br>            padding: 10px;<br>        }<br>    </style><br><div class=\"wandb-row\"><div class=\"wandb-col\"><h3>Run history:</h3><br/><table class=\"wandb\"><tr><td>epoch</td><td>▁▂▃▃▄▅▆▆▇█</td></tr><tr><td>train_accuracy</td><td>▁▃▄▅▅▆▆▇▇█</td></tr><tr><td>train_loss</td><td>█▇▆▅▄▄▃▃▂▁</td></tr><tr><td>val_accuracy</td><td>▁▃▅▆▇██▇█▇</td></tr><tr><td>val_loss</td><td>█▆▄▄▂▁▁▁▁▂</td></tr></table><br/></div><div class=\"wandb-col\"><h3>Run summary:</h3><br/><table class=\"wandb\"><tr><td>epoch</td><td>10</td></tr><tr><td>train_accuracy</td><td>0.44537</td></tr><tr><td>train_loss</td><td>1.59466</td></tr><tr><td>val_accuracy</td><td>0.3418</td></tr><tr><td>val_loss</td><td>1.88964</td></tr></table><br/></div></div>"
            ]
          },
          "metadata": {}
        },
        {
          "output_type": "display_data",
          "data": {
            "text/plain": [
              "<IPython.core.display.HTML object>"
            ],
            "text/html": [
              " View run <strong style=\"color:#cdcd00\">toasty-sweep-13</strong> at: <a href='https://wandb.ai/me21b164-indian-institute-of-technology-madras/A2/runs/uljet5fc' target=\"_blank\">https://wandb.ai/me21b164-indian-institute-of-technology-madras/A2/runs/uljet5fc</a><br> View project at: <a href='https://wandb.ai/me21b164-indian-institute-of-technology-madras/A2' target=\"_blank\">https://wandb.ai/me21b164-indian-institute-of-technology-madras/A2</a><br>Synced 5 W&B file(s), 0 media file(s), 0 artifact file(s) and 0 other file(s)"
            ]
          },
          "metadata": {}
        },
        {
          "output_type": "display_data",
          "data": {
            "text/plain": [
              "<IPython.core.display.HTML object>"
            ],
            "text/html": [
              "Find logs at: <code>./wandb/run-20250418_220706-uljet5fc/logs</code>"
            ]
          },
          "metadata": {}
        },
        {
          "output_type": "stream",
          "name": "stderr",
          "text": [
            "\u001b[34m\u001b[1mwandb\u001b[0m: Agent Starting Run: 3lrm588d with config:\n",
            "\u001b[34m\u001b[1mwandb\u001b[0m: \tactivation_fn: SiLU\n",
            "\u001b[34m\u001b[1mwandb\u001b[0m: \tbatch_size: 64\n",
            "\u001b[34m\u001b[1mwandb\u001b[0m: \tconv_filters: [64, 64, 64, 64, 64]\n",
            "\u001b[34m\u001b[1mwandb\u001b[0m: \tdata_augmentation: no\n",
            "\u001b[34m\u001b[1mwandb\u001b[0m: \tdata_dir: /content/inaturalist_12K\n",
            "\u001b[34m\u001b[1mwandb\u001b[0m: \tdense_units: 512\n",
            "\u001b[34m\u001b[1mwandb\u001b[0m: \tdropout: 0.3\n",
            "\u001b[34m\u001b[1mwandb\u001b[0m: \tepochs: 10\n",
            "\u001b[34m\u001b[1mwandb\u001b[0m: \tkernel_sizes: [3, 3, 3, 3, 3]\n",
            "\u001b[34m\u001b[1mwandb\u001b[0m: \tlr: 0.0006396728658935783\n"
          ]
        },
        {
          "output_type": "display_data",
          "data": {
            "text/plain": [
              "<IPython.core.display.HTML object>"
            ],
            "text/html": [
              "Tracking run with wandb version 0.19.9"
            ]
          },
          "metadata": {}
        },
        {
          "output_type": "display_data",
          "data": {
            "text/plain": [
              "<IPython.core.display.HTML object>"
            ],
            "text/html": [
              "Run data is saved locally in <code>/content/wandb/run-20250418_221559-3lrm588d</code>"
            ]
          },
          "metadata": {}
        },
        {
          "output_type": "display_data",
          "data": {
            "text/plain": [
              "<IPython.core.display.HTML object>"
            ],
            "text/html": [
              "Syncing run <strong><a href='https://wandb.ai/me21b164-indian-institute-of-technology-madras/A2/runs/3lrm588d' target=\"_blank\">crisp-sweep-14</a></strong> to <a href='https://wandb.ai/me21b164-indian-institute-of-technology-madras/A2' target=\"_blank\">Weights & Biases</a> (<a href='https://wandb.me/developer-guide' target=\"_blank\">docs</a>)<br>Sweep page: <a href='https://wandb.ai/me21b164-indian-institute-of-technology-madras/A2/sweeps/65nw10d9' target=\"_blank\">https://wandb.ai/me21b164-indian-institute-of-technology-madras/A2/sweeps/65nw10d9</a>"
            ]
          },
          "metadata": {}
        },
        {
          "output_type": "display_data",
          "data": {
            "text/plain": [
              "<IPython.core.display.HTML object>"
            ],
            "text/html": [
              " View project at <a href='https://wandb.ai/me21b164-indian-institute-of-technology-madras/A2' target=\"_blank\">https://wandb.ai/me21b164-indian-institute-of-technology-madras/A2</a>"
            ]
          },
          "metadata": {}
        },
        {
          "output_type": "display_data",
          "data": {
            "text/plain": [
              "<IPython.core.display.HTML object>"
            ],
            "text/html": [
              " View sweep at <a href='https://wandb.ai/me21b164-indian-institute-of-technology-madras/A2/sweeps/65nw10d9' target=\"_blank\">https://wandb.ai/me21b164-indian-institute-of-technology-madras/A2/sweeps/65nw10d9</a>"
            ]
          },
          "metadata": {}
        },
        {
          "output_type": "display_data",
          "data": {
            "text/plain": [
              "<IPython.core.display.HTML object>"
            ],
            "text/html": [
              " View run at <a href='https://wandb.ai/me21b164-indian-institute-of-technology-madras/A2/runs/3lrm588d' target=\"_blank\">https://wandb.ai/me21b164-indian-institute-of-technology-madras/A2/runs/3lrm588d</a>"
            ]
          },
          "metadata": {}
        },
        {
          "output_type": "stream",
          "name": "stderr",
          "text": [
            "Epoch 1 [Train]: 100%|██████████| 63/63 [00:42<00:00,  1.48it/s]\n",
            "Epoch 1 [Val]: 100%|██████████| 16/16 [00:09<00:00,  1.68it/s]\n",
            "Epoch 2 [Train]: 100%|██████████| 63/63 [00:41<00:00,  1.53it/s]\n",
            "Epoch 2 [Val]: 100%|██████████| 16/16 [00:09<00:00,  1.70it/s]\n",
            "Epoch 3 [Train]: 100%|██████████| 63/63 [00:41<00:00,  1.53it/s]\n",
            "Epoch 3 [Val]: 100%|██████████| 16/16 [00:08<00:00,  1.95it/s]\n",
            "Epoch 4 [Train]: 100%|██████████| 63/63 [00:42<00:00,  1.49it/s]\n",
            "Epoch 4 [Val]: 100%|██████████| 16/16 [00:09<00:00,  1.69it/s]\n",
            "Epoch 5 [Train]: 100%|██████████| 63/63 [00:41<00:00,  1.53it/s]\n",
            "Epoch 5 [Val]: 100%|██████████| 16/16 [00:09<00:00,  1.69it/s]\n",
            "Epoch 6 [Train]: 100%|██████████| 63/63 [00:41<00:00,  1.53it/s]\n",
            "Epoch 6 [Val]: 100%|██████████| 16/16 [00:08<00:00,  1.97it/s]\n",
            "Epoch 7 [Train]: 100%|██████████| 63/63 [00:42<00:00,  1.48it/s]\n",
            "Epoch 7 [Val]: 100%|██████████| 16/16 [00:09<00:00,  1.69it/s]\n",
            "Epoch 8 [Train]: 100%|██████████| 63/63 [00:41<00:00,  1.53it/s]\n",
            "Epoch 8 [Val]: 100%|██████████| 16/16 [00:09<00:00,  1.70it/s]\n",
            "Epoch 9 [Train]: 100%|██████████| 63/63 [00:41<00:00,  1.52it/s]\n",
            "Epoch 9 [Val]: 100%|██████████| 16/16 [00:08<00:00,  1.96it/s]\n",
            "Epoch 10 [Train]: 100%|██████████| 63/63 [00:42<00:00,  1.48it/s]\n",
            "Epoch 10 [Val]: 100%|██████████| 16/16 [00:09<00:00,  1.69it/s]\n"
          ]
        },
        {
          "output_type": "display_data",
          "data": {
            "text/plain": [
              "<IPython.core.display.HTML object>"
            ],
            "text/html": []
          },
          "metadata": {}
        },
        {
          "output_type": "display_data",
          "data": {
            "text/plain": [
              "<IPython.core.display.HTML object>"
            ],
            "text/html": [
              "<br>    <style><br>        .wandb-row {<br>            display: flex;<br>            flex-direction: row;<br>            flex-wrap: wrap;<br>            justify-content: flex-start;<br>            width: 100%;<br>        }<br>        .wandb-col {<br>            display: flex;<br>            flex-direction: column;<br>            flex-basis: 100%;<br>            flex: 1;<br>            padding: 10px;<br>        }<br>    </style><br><div class=\"wandb-row\"><div class=\"wandb-col\"><h3>Run history:</h3><br/><table class=\"wandb\"><tr><td>epoch</td><td>▁▂▃▃▄▅▆▆▇█</td></tr><tr><td>train_accuracy</td><td>▁▃▄▅▅▆▆▇▇█</td></tr><tr><td>train_loss</td><td>█▇▆▅▄▄▃▃▂▁</td></tr><tr><td>val_accuracy</td><td>▁▃▅▅▇▇▇██▇</td></tr><tr><td>val_loss</td><td>█▇▅▄▃▂▂▁▂▂</td></tr></table><br/></div><div class=\"wandb-col\"><h3>Run summary:</h3><br/><table class=\"wandb\"><tr><td>epoch</td><td>10</td></tr><tr><td>train_accuracy</td><td>0.41281</td></tr><tr><td>train_loss</td><td>1.69506</td></tr><tr><td>val_accuracy</td><td>0.31992</td></tr><tr><td>val_loss</td><td>1.95242</td></tr></table><br/></div></div>"
            ]
          },
          "metadata": {}
        },
        {
          "output_type": "display_data",
          "data": {
            "text/plain": [
              "<IPython.core.display.HTML object>"
            ],
            "text/html": [
              " View run <strong style=\"color:#cdcd00\">crisp-sweep-14</strong> at: <a href='https://wandb.ai/me21b164-indian-institute-of-technology-madras/A2/runs/3lrm588d' target=\"_blank\">https://wandb.ai/me21b164-indian-institute-of-technology-madras/A2/runs/3lrm588d</a><br> View project at: <a href='https://wandb.ai/me21b164-indian-institute-of-technology-madras/A2' target=\"_blank\">https://wandb.ai/me21b164-indian-institute-of-technology-madras/A2</a><br>Synced 5 W&B file(s), 0 media file(s), 0 artifact file(s) and 0 other file(s)"
            ]
          },
          "metadata": {}
        },
        {
          "output_type": "display_data",
          "data": {
            "text/plain": [
              "<IPython.core.display.HTML object>"
            ],
            "text/html": [
              "Find logs at: <code>./wandb/run-20250418_221559-3lrm588d/logs</code>"
            ]
          },
          "metadata": {}
        },
        {
          "output_type": "stream",
          "name": "stderr",
          "text": [
            "\u001b[34m\u001b[1mwandb\u001b[0m: Sweep Agent: Waiting for job.\n",
            "\u001b[34m\u001b[1mwandb\u001b[0m: Job received.\n",
            "\u001b[34m\u001b[1mwandb\u001b[0m: Agent Starting Run: ih3rj70s with config:\n",
            "\u001b[34m\u001b[1mwandb\u001b[0m: \tactivation_fn: SiLU\n",
            "\u001b[34m\u001b[1mwandb\u001b[0m: \tbatch_size: 32\n",
            "\u001b[34m\u001b[1mwandb\u001b[0m: \tconv_filters: [64, 64, 64, 64, 64]\n",
            "\u001b[34m\u001b[1mwandb\u001b[0m: \tdata_augmentation: no\n",
            "\u001b[34m\u001b[1mwandb\u001b[0m: \tdata_dir: /content/inaturalist_12K\n",
            "\u001b[34m\u001b[1mwandb\u001b[0m: \tdense_units: 128\n",
            "\u001b[34m\u001b[1mwandb\u001b[0m: \tdropout: 0.5\n",
            "\u001b[34m\u001b[1mwandb\u001b[0m: \tepochs: 10\n",
            "\u001b[34m\u001b[1mwandb\u001b[0m: \tkernel_sizes: [3, 3, 3, 3, 3]\n",
            "\u001b[34m\u001b[1mwandb\u001b[0m: \tlr: 0.000491387996577819\n"
          ]
        },
        {
          "output_type": "display_data",
          "data": {
            "text/plain": [
              "<IPython.core.display.HTML object>"
            ],
            "text/html": [
              "Tracking run with wandb version 0.19.9"
            ]
          },
          "metadata": {}
        },
        {
          "output_type": "display_data",
          "data": {
            "text/plain": [
              "<IPython.core.display.HTML object>"
            ],
            "text/html": [
              "Run data is saved locally in <code>/content/wandb/run-20250418_222440-ih3rj70s</code>"
            ]
          },
          "metadata": {}
        },
        {
          "output_type": "display_data",
          "data": {
            "text/plain": [
              "<IPython.core.display.HTML object>"
            ],
            "text/html": [
              "Syncing run <strong><a href='https://wandb.ai/me21b164-indian-institute-of-technology-madras/A2/runs/ih3rj70s' target=\"_blank\">daily-sweep-15</a></strong> to <a href='https://wandb.ai/me21b164-indian-institute-of-technology-madras/A2' target=\"_blank\">Weights & Biases</a> (<a href='https://wandb.me/developer-guide' target=\"_blank\">docs</a>)<br>Sweep page: <a href='https://wandb.ai/me21b164-indian-institute-of-technology-madras/A2/sweeps/65nw10d9' target=\"_blank\">https://wandb.ai/me21b164-indian-institute-of-technology-madras/A2/sweeps/65nw10d9</a>"
            ]
          },
          "metadata": {}
        },
        {
          "output_type": "display_data",
          "data": {
            "text/plain": [
              "<IPython.core.display.HTML object>"
            ],
            "text/html": [
              " View project at <a href='https://wandb.ai/me21b164-indian-institute-of-technology-madras/A2' target=\"_blank\">https://wandb.ai/me21b164-indian-institute-of-technology-madras/A2</a>"
            ]
          },
          "metadata": {}
        },
        {
          "output_type": "display_data",
          "data": {
            "text/plain": [
              "<IPython.core.display.HTML object>"
            ],
            "text/html": [
              " View sweep at <a href='https://wandb.ai/me21b164-indian-institute-of-technology-madras/A2/sweeps/65nw10d9' target=\"_blank\">https://wandb.ai/me21b164-indian-institute-of-technology-madras/A2/sweeps/65nw10d9</a>"
            ]
          },
          "metadata": {}
        },
        {
          "output_type": "display_data",
          "data": {
            "text/plain": [
              "<IPython.core.display.HTML object>"
            ],
            "text/html": [
              " View run at <a href='https://wandb.ai/me21b164-indian-institute-of-technology-madras/A2/runs/ih3rj70s' target=\"_blank\">https://wandb.ai/me21b164-indian-institute-of-technology-madras/A2/runs/ih3rj70s</a>"
            ]
          },
          "metadata": {}
        },
        {
          "output_type": "stream",
          "name": "stderr",
          "text": [
            "Epoch 1 [Train]: 100%|██████████| 125/125 [00:42<00:00,  2.93it/s]\n",
            "Epoch 1 [Val]: 100%|██████████| 32/32 [00:09<00:00,  3.38it/s]\n",
            "Epoch 2 [Train]: 100%|██████████| 125/125 [00:42<00:00,  2.93it/s]\n",
            "Epoch 2 [Val]: 100%|██████████| 32/32 [00:10<00:00,  3.09it/s]\n",
            "Epoch 3 [Train]: 100%|██████████| 125/125 [00:43<00:00,  2.89it/s]\n",
            "Epoch 3 [Val]: 100%|██████████| 32/32 [00:08<00:00,  3.91it/s]\n",
            "Epoch 4 [Train]: 100%|██████████| 125/125 [00:42<00:00,  2.94it/s]\n",
            "Epoch 4 [Val]: 100%|██████████| 32/32 [00:09<00:00,  3.38it/s]\n",
            "Epoch 5 [Train]: 100%|██████████| 125/125 [00:43<00:00,  2.84it/s]\n",
            "Epoch 5 [Val]: 100%|██████████| 32/32 [00:09<00:00,  3.38it/s]\n",
            "Epoch 6 [Train]: 100%|██████████| 125/125 [00:42<00:00,  2.94it/s]\n",
            "Epoch 6 [Val]: 100%|██████████| 32/32 [00:08<00:00,  3.60it/s]\n",
            "Epoch 7 [Train]: 100%|██████████| 125/125 [00:43<00:00,  2.89it/s]\n",
            "Epoch 7 [Val]: 100%|██████████| 32/32 [00:08<00:00,  3.93it/s]\n",
            "Epoch 8 [Train]: 100%|██████████| 125/125 [00:43<00:00,  2.84it/s]\n",
            "Epoch 8 [Val]: 100%|██████████| 32/32 [00:09<00:00,  3.36it/s]\n",
            "Epoch 9 [Train]: 100%|██████████| 125/125 [00:42<00:00,  2.92it/s]\n",
            "Epoch 9 [Val]: 100%|██████████| 32/32 [00:09<00:00,  3.38it/s]\n",
            "Epoch 10 [Train]: 100%|██████████| 125/125 [00:42<00:00,  2.93it/s]\n",
            "Epoch 10 [Val]: 100%|██████████| 32/32 [00:09<00:00,  3.50it/s]\n"
          ]
        },
        {
          "output_type": "display_data",
          "data": {
            "text/plain": [
              "<IPython.core.display.HTML object>"
            ],
            "text/html": []
          },
          "metadata": {}
        },
        {
          "output_type": "display_data",
          "data": {
            "text/plain": [
              "<IPython.core.display.HTML object>"
            ],
            "text/html": [
              "<br>    <style><br>        .wandb-row {<br>            display: flex;<br>            flex-direction: row;<br>            flex-wrap: wrap;<br>            justify-content: flex-start;<br>            width: 100%;<br>        }<br>        .wandb-col {<br>            display: flex;<br>            flex-direction: column;<br>            flex-basis: 100%;<br>            flex: 1;<br>            padding: 10px;<br>        }<br>    </style><br><div class=\"wandb-row\"><div class=\"wandb-col\"><h3>Run history:</h3><br/><table class=\"wandb\"><tr><td>epoch</td><td>▁▂▃▃▄▅▆▆▇█</td></tr><tr><td>train_accuracy</td><td>▁▃▃▄▅▆▇▇▇█</td></tr><tr><td>train_loss</td><td>█▇▆▆▄▄▃▂▂▁</td></tr><tr><td>val_accuracy</td><td>▁▂▄▅▆▆▇█▆█</td></tr><tr><td>val_loss</td><td>█▇▅▄▂▂▁▁▃▂</td></tr></table><br/></div><div class=\"wandb-col\"><h3>Run summary:</h3><br/><table class=\"wandb\"><tr><td>epoch</td><td>10</td></tr><tr><td>train_accuracy</td><td>0.40635</td></tr><tr><td>train_loss</td><td>1.71485</td></tr><tr><td>val_accuracy</td><td>0.37109</td></tr><tr><td>val_loss</td><td>1.90126</td></tr></table><br/></div></div>"
            ]
          },
          "metadata": {}
        },
        {
          "output_type": "display_data",
          "data": {
            "text/plain": [
              "<IPython.core.display.HTML object>"
            ],
            "text/html": [
              " View run <strong style=\"color:#cdcd00\">daily-sweep-15</strong> at: <a href='https://wandb.ai/me21b164-indian-institute-of-technology-madras/A2/runs/ih3rj70s' target=\"_blank\">https://wandb.ai/me21b164-indian-institute-of-technology-madras/A2/runs/ih3rj70s</a><br> View project at: <a href='https://wandb.ai/me21b164-indian-institute-of-technology-madras/A2' target=\"_blank\">https://wandb.ai/me21b164-indian-institute-of-technology-madras/A2</a><br>Synced 5 W&B file(s), 0 media file(s), 0 artifact file(s) and 0 other file(s)"
            ]
          },
          "metadata": {}
        },
        {
          "output_type": "display_data",
          "data": {
            "text/plain": [
              "<IPython.core.display.HTML object>"
            ],
            "text/html": [
              "Find logs at: <code>./wandb/run-20250418_222440-ih3rj70s/logs</code>"
            ]
          },
          "metadata": {}
        },
        {
          "output_type": "stream",
          "name": "stderr",
          "text": [
            "\u001b[34m\u001b[1mwandb\u001b[0m: Agent Starting Run: 9bziukmn with config:\n",
            "\u001b[34m\u001b[1mwandb\u001b[0m: \tactivation_fn: GELU\n",
            "\u001b[34m\u001b[1mwandb\u001b[0m: \tbatch_size: 32\n",
            "\u001b[34m\u001b[1mwandb\u001b[0m: \tconv_filters: [64, 64, 64, 64, 64]\n",
            "\u001b[34m\u001b[1mwandb\u001b[0m: \tdata_augmentation: no\n",
            "\u001b[34m\u001b[1mwandb\u001b[0m: \tdata_dir: /content/inaturalist_12K\n",
            "\u001b[34m\u001b[1mwandb\u001b[0m: \tdense_units: 512\n",
            "\u001b[34m\u001b[1mwandb\u001b[0m: \tdropout: 0.5\n",
            "\u001b[34m\u001b[1mwandb\u001b[0m: \tepochs: 10\n",
            "\u001b[34m\u001b[1mwandb\u001b[0m: \tkernel_sizes: [3, 3, 3, 3, 3]\n",
            "\u001b[34m\u001b[1mwandb\u001b[0m: \tlr: 0.0006890923230562056\n"
          ]
        },
        {
          "output_type": "display_data",
          "data": {
            "text/plain": [
              "<IPython.core.display.HTML object>"
            ],
            "text/html": [
              "Tracking run with wandb version 0.19.9"
            ]
          },
          "metadata": {}
        },
        {
          "output_type": "display_data",
          "data": {
            "text/plain": [
              "<IPython.core.display.HTML object>"
            ],
            "text/html": [
              "Run data is saved locally in <code>/content/wandb/run-20250418_223327-9bziukmn</code>"
            ]
          },
          "metadata": {}
        },
        {
          "output_type": "display_data",
          "data": {
            "text/plain": [
              "<IPython.core.display.HTML object>"
            ],
            "text/html": [
              "Syncing run <strong><a href='https://wandb.ai/me21b164-indian-institute-of-technology-madras/A2/runs/9bziukmn' target=\"_blank\">volcanic-sweep-16</a></strong> to <a href='https://wandb.ai/me21b164-indian-institute-of-technology-madras/A2' target=\"_blank\">Weights & Biases</a> (<a href='https://wandb.me/developer-guide' target=\"_blank\">docs</a>)<br>Sweep page: <a href='https://wandb.ai/me21b164-indian-institute-of-technology-madras/A2/sweeps/65nw10d9' target=\"_blank\">https://wandb.ai/me21b164-indian-institute-of-technology-madras/A2/sweeps/65nw10d9</a>"
            ]
          },
          "metadata": {}
        },
        {
          "output_type": "display_data",
          "data": {
            "text/plain": [
              "<IPython.core.display.HTML object>"
            ],
            "text/html": [
              " View project at <a href='https://wandb.ai/me21b164-indian-institute-of-technology-madras/A2' target=\"_blank\">https://wandb.ai/me21b164-indian-institute-of-technology-madras/A2</a>"
            ]
          },
          "metadata": {}
        },
        {
          "output_type": "display_data",
          "data": {
            "text/plain": [
              "<IPython.core.display.HTML object>"
            ],
            "text/html": [
              " View sweep at <a href='https://wandb.ai/me21b164-indian-institute-of-technology-madras/A2/sweeps/65nw10d9' target=\"_blank\">https://wandb.ai/me21b164-indian-institute-of-technology-madras/A2/sweeps/65nw10d9</a>"
            ]
          },
          "metadata": {}
        },
        {
          "output_type": "display_data",
          "data": {
            "text/plain": [
              "<IPython.core.display.HTML object>"
            ],
            "text/html": [
              " View run at <a href='https://wandb.ai/me21b164-indian-institute-of-technology-madras/A2/runs/9bziukmn' target=\"_blank\">https://wandb.ai/me21b164-indian-institute-of-technology-madras/A2/runs/9bziukmn</a>"
            ]
          },
          "metadata": {}
        },
        {
          "output_type": "stream",
          "name": "stderr",
          "text": [
            "Epoch 1 [Train]: 100%|██████████| 125/125 [00:43<00:00,  2.87it/s]\n",
            "Epoch 1 [Val]: 100%|██████████| 32/32 [00:09<00:00,  3.45it/s]\n",
            "Epoch 2 [Train]: 100%|██████████| 125/125 [00:42<00:00,  2.95it/s]\n",
            "Epoch 2 [Val]: 100%|██████████| 32/32 [00:07<00:00,  4.01it/s]\n",
            "Epoch 3 [Train]: 100%|██████████| 125/125 [00:42<00:00,  2.92it/s]\n",
            "Epoch 3 [Val]: 100%|██████████| 32/32 [00:08<00:00,  3.63it/s]\n",
            "Epoch 4 [Train]: 100%|██████████| 125/125 [00:43<00:00,  2.86it/s]\n",
            "Epoch 4 [Val]: 100%|██████████| 32/32 [00:09<00:00,  3.37it/s]\n",
            "Epoch 5 [Train]: 100%|██████████| 125/125 [00:42<00:00,  2.93it/s]\n",
            "Epoch 5 [Val]: 100%|██████████| 32/32 [00:08<00:00,  3.69it/s]\n",
            "Epoch 6 [Train]: 100%|██████████| 125/125 [00:43<00:00,  2.91it/s]\n",
            "Epoch 6 [Val]: 100%|██████████| 32/32 [00:09<00:00,  3.30it/s]\n",
            "Epoch 7 [Train]: 100%|██████████| 125/125 [00:42<00:00,  2.92it/s]\n",
            "Epoch 7 [Val]: 100%|██████████| 32/32 [00:09<00:00,  3.42it/s]\n",
            "Epoch 8 [Train]: 100%|██████████| 125/125 [00:42<00:00,  2.93it/s]\n",
            "Epoch 8 [Val]: 100%|██████████| 32/32 [00:09<00:00,  3.41it/s]\n",
            "Epoch 9 [Train]: 100%|██████████| 125/125 [00:43<00:00,  2.85it/s]\n",
            "Epoch 9 [Val]: 100%|██████████| 32/32 [00:08<00:00,  3.59it/s]\n",
            "Epoch 10 [Train]: 100%|██████████| 125/125 [00:43<00:00,  2.90it/s]\n",
            "Epoch 10 [Val]: 100%|██████████| 32/32 [00:08<00:00,  3.92it/s]\n"
          ]
        },
        {
          "output_type": "display_data",
          "data": {
            "text/plain": [
              "<IPython.core.display.HTML object>"
            ],
            "text/html": []
          },
          "metadata": {}
        },
        {
          "output_type": "display_data",
          "data": {
            "text/plain": [
              "<IPython.core.display.HTML object>"
            ],
            "text/html": [
              "<br>    <style><br>        .wandb-row {<br>            display: flex;<br>            flex-direction: row;<br>            flex-wrap: wrap;<br>            justify-content: flex-start;<br>            width: 100%;<br>        }<br>        .wandb-col {<br>            display: flex;<br>            flex-direction: column;<br>            flex-basis: 100%;<br>            flex: 1;<br>            padding: 10px;<br>        }<br>    </style><br><div class=\"wandb-row\"><div class=\"wandb-col\"><h3>Run history:</h3><br/><table class=\"wandb\"><tr><td>epoch</td><td>▁▂▃▃▄▅▆▆▇█</td></tr><tr><td>train_accuracy</td><td>▁▃▄▄▅▅▆▆▇█</td></tr><tr><td>train_loss</td><td>█▇▆▅▅▄▄▃▂▁</td></tr><tr><td>val_accuracy</td><td>▁▃▆▆▆▇█▇█▆</td></tr><tr><td>val_loss</td><td>█▅▂▃▂▁▁▁▃▅</td></tr></table><br/></div><div class=\"wandb-col\"><h3>Run summary:</h3><br/><table class=\"wandb\"><tr><td>epoch</td><td>10</td></tr><tr><td>train_accuracy</td><td>0.52713</td></tr><tr><td>train_loss</td><td>1.37578</td></tr><tr><td>val_accuracy</td><td>0.32715</td></tr><tr><td>val_loss</td><td>2.05882</td></tr></table><br/></div></div>"
            ]
          },
          "metadata": {}
        },
        {
          "output_type": "display_data",
          "data": {
            "text/plain": [
              "<IPython.core.display.HTML object>"
            ],
            "text/html": [
              " View run <strong style=\"color:#cdcd00\">volcanic-sweep-16</strong> at: <a href='https://wandb.ai/me21b164-indian-institute-of-technology-madras/A2/runs/9bziukmn' target=\"_blank\">https://wandb.ai/me21b164-indian-institute-of-technology-madras/A2/runs/9bziukmn</a><br> View project at: <a href='https://wandb.ai/me21b164-indian-institute-of-technology-madras/A2' target=\"_blank\">https://wandb.ai/me21b164-indian-institute-of-technology-madras/A2</a><br>Synced 5 W&B file(s), 0 media file(s), 0 artifact file(s) and 0 other file(s)"
            ]
          },
          "metadata": {}
        },
        {
          "output_type": "display_data",
          "data": {
            "text/plain": [
              "<IPython.core.display.HTML object>"
            ],
            "text/html": [
              "Find logs at: <code>./wandb/run-20250418_223327-9bziukmn/logs</code>"
            ]
          },
          "metadata": {}
        },
        {
          "output_type": "stream",
          "name": "stderr",
          "text": [
            "\u001b[34m\u001b[1mwandb\u001b[0m: Agent Starting Run: oq0pc2er with config:\n",
            "\u001b[34m\u001b[1mwandb\u001b[0m: \tactivation_fn: GELU\n",
            "\u001b[34m\u001b[1mwandb\u001b[0m: \tbatch_size: 64\n",
            "\u001b[34m\u001b[1mwandb\u001b[0m: \tconv_filters: [64, 64, 64, 64, 64]\n",
            "\u001b[34m\u001b[1mwandb\u001b[0m: \tdata_augmentation: no\n",
            "\u001b[34m\u001b[1mwandb\u001b[0m: \tdata_dir: /content/inaturalist_12K\n",
            "\u001b[34m\u001b[1mwandb\u001b[0m: \tdense_units: 256\n",
            "\u001b[34m\u001b[1mwandb\u001b[0m: \tdropout: 0.3\n",
            "\u001b[34m\u001b[1mwandb\u001b[0m: \tepochs: 10\n",
            "\u001b[34m\u001b[1mwandb\u001b[0m: \tkernel_sizes: [3, 3, 3, 3, 3]\n",
            "\u001b[34m\u001b[1mwandb\u001b[0m: \tlr: 0.00045743269240618113\n"
          ]
        },
        {
          "output_type": "display_data",
          "data": {
            "text/plain": [
              "<IPython.core.display.HTML object>"
            ],
            "text/html": [
              "Tracking run with wandb version 0.19.9"
            ]
          },
          "metadata": {}
        },
        {
          "output_type": "display_data",
          "data": {
            "text/plain": [
              "<IPython.core.display.HTML object>"
            ],
            "text/html": [
              "Run data is saved locally in <code>/content/wandb/run-20250418_224213-oq0pc2er</code>"
            ]
          },
          "metadata": {}
        },
        {
          "output_type": "display_data",
          "data": {
            "text/plain": [
              "<IPython.core.display.HTML object>"
            ],
            "text/html": [
              "Syncing run <strong><a href='https://wandb.ai/me21b164-indian-institute-of-technology-madras/A2/runs/oq0pc2er' target=\"_blank\">swept-sweep-17</a></strong> to <a href='https://wandb.ai/me21b164-indian-institute-of-technology-madras/A2' target=\"_blank\">Weights & Biases</a> (<a href='https://wandb.me/developer-guide' target=\"_blank\">docs</a>)<br>Sweep page: <a href='https://wandb.ai/me21b164-indian-institute-of-technology-madras/A2/sweeps/65nw10d9' target=\"_blank\">https://wandb.ai/me21b164-indian-institute-of-technology-madras/A2/sweeps/65nw10d9</a>"
            ]
          },
          "metadata": {}
        },
        {
          "output_type": "display_data",
          "data": {
            "text/plain": [
              "<IPython.core.display.HTML object>"
            ],
            "text/html": [
              " View project at <a href='https://wandb.ai/me21b164-indian-institute-of-technology-madras/A2' target=\"_blank\">https://wandb.ai/me21b164-indian-institute-of-technology-madras/A2</a>"
            ]
          },
          "metadata": {}
        },
        {
          "output_type": "display_data",
          "data": {
            "text/plain": [
              "<IPython.core.display.HTML object>"
            ],
            "text/html": [
              " View sweep at <a href='https://wandb.ai/me21b164-indian-institute-of-technology-madras/A2/sweeps/65nw10d9' target=\"_blank\">https://wandb.ai/me21b164-indian-institute-of-technology-madras/A2/sweeps/65nw10d9</a>"
            ]
          },
          "metadata": {}
        },
        {
          "output_type": "display_data",
          "data": {
            "text/plain": [
              "<IPython.core.display.HTML object>"
            ],
            "text/html": [
              " View run at <a href='https://wandb.ai/me21b164-indian-institute-of-technology-madras/A2/runs/oq0pc2er' target=\"_blank\">https://wandb.ai/me21b164-indian-institute-of-technology-madras/A2/runs/oq0pc2er</a>"
            ]
          },
          "metadata": {}
        },
        {
          "output_type": "stream",
          "name": "stderr",
          "text": [
            "Epoch 1 [Train]: 100%|██████████| 63/63 [00:41<00:00,  1.53it/s]\n",
            "Epoch 1 [Val]: 100%|██████████| 16/16 [00:08<00:00,  1.95it/s]\n",
            "Epoch 2 [Train]: 100%|██████████| 63/63 [00:42<00:00,  1.48it/s]\n",
            "Epoch 2 [Val]: 100%|██████████| 16/16 [00:09<00:00,  1.77it/s]\n",
            "Epoch 3 [Train]: 100%|██████████| 63/63 [00:41<00:00,  1.53it/s]\n",
            "Epoch 3 [Val]: 100%|██████████| 16/16 [00:09<00:00,  1.70it/s]\n",
            "Epoch 4 [Train]: 100%|██████████| 63/63 [00:41<00:00,  1.53it/s]\n",
            "Epoch 4 [Val]: 100%|██████████| 16/16 [00:08<00:00,  1.96it/s]\n",
            "Epoch 5 [Train]: 100%|██████████| 63/63 [00:42<00:00,  1.49it/s]\n",
            "Epoch 5 [Val]: 100%|██████████| 16/16 [00:09<00:00,  1.72it/s]\n",
            "Epoch 6 [Train]: 100%|██████████| 63/63 [00:41<00:00,  1.53it/s]\n",
            "Epoch 6 [Val]: 100%|██████████| 16/16 [00:09<00:00,  1.69it/s]\n",
            "Epoch 7 [Train]: 100%|██████████| 63/63 [00:41<00:00,  1.53it/s]\n",
            "Epoch 7 [Val]: 100%|██████████| 16/16 [00:08<00:00,  1.86it/s]\n",
            "Epoch 8 [Train]: 100%|██████████| 63/63 [00:42<00:00,  1.50it/s]\n",
            "Epoch 8 [Val]: 100%|██████████| 16/16 [00:09<00:00,  1.70it/s]\n",
            "Epoch 9 [Train]: 100%|██████████| 63/63 [00:41<00:00,  1.53it/s]\n",
            "Epoch 9 [Val]: 100%|██████████| 16/16 [00:09<00:00,  1.73it/s]\n",
            "Epoch 10 [Train]: 100%|██████████| 63/63 [00:41<00:00,  1.53it/s]\n",
            "Epoch 10 [Val]: 100%|██████████| 16/16 [00:09<00:00,  1.62it/s]\n"
          ]
        },
        {
          "output_type": "display_data",
          "data": {
            "text/plain": [
              "<IPython.core.display.HTML object>"
            ],
            "text/html": []
          },
          "metadata": {}
        },
        {
          "output_type": "display_data",
          "data": {
            "text/plain": [
              "<IPython.core.display.HTML object>"
            ],
            "text/html": [
              "<br>    <style><br>        .wandb-row {<br>            display: flex;<br>            flex-direction: row;<br>            flex-wrap: wrap;<br>            justify-content: flex-start;<br>            width: 100%;<br>        }<br>        .wandb-col {<br>            display: flex;<br>            flex-direction: column;<br>            flex-basis: 100%;<br>            flex: 1;<br>            padding: 10px;<br>        }<br>    </style><br><div class=\"wandb-row\"><div class=\"wandb-col\"><h3>Run history:</h3><br/><table class=\"wandb\"><tr><td>epoch</td><td>▁▂▃▃▄▅▆▆▇█</td></tr><tr><td>train_accuracy</td><td>▁▃▃▅▅▆▆▇▇█</td></tr><tr><td>train_loss</td><td>█▇▆▅▄▄▃▂▂▁</td></tr><tr><td>val_accuracy</td><td>▁▃▅▅▆▆▇██▇</td></tr><tr><td>val_loss</td><td>█▆▅▄▃▂▂▂▁▁</td></tr></table><br/></div><div class=\"wandb-col\"><h3>Run summary:</h3><br/><table class=\"wandb\"><tr><td>epoch</td><td>10</td></tr><tr><td>train_accuracy</td><td>0.42179</td></tr><tr><td>train_loss</td><td>1.67746</td></tr><tr><td>val_accuracy</td><td>0.34629</td></tr><tr><td>val_loss</td><td>1.84317</td></tr></table><br/></div></div>"
            ]
          },
          "metadata": {}
        },
        {
          "output_type": "display_data",
          "data": {
            "text/plain": [
              "<IPython.core.display.HTML object>"
            ],
            "text/html": [
              " View run <strong style=\"color:#cdcd00\">swept-sweep-17</strong> at: <a href='https://wandb.ai/me21b164-indian-institute-of-technology-madras/A2/runs/oq0pc2er' target=\"_blank\">https://wandb.ai/me21b164-indian-institute-of-technology-madras/A2/runs/oq0pc2er</a><br> View project at: <a href='https://wandb.ai/me21b164-indian-institute-of-technology-madras/A2' target=\"_blank\">https://wandb.ai/me21b164-indian-institute-of-technology-madras/A2</a><br>Synced 5 W&B file(s), 0 media file(s), 0 artifact file(s) and 0 other file(s)"
            ]
          },
          "metadata": {}
        },
        {
          "output_type": "display_data",
          "data": {
            "text/plain": [
              "<IPython.core.display.HTML object>"
            ],
            "text/html": [
              "Find logs at: <code>./wandb/run-20250418_224213-oq0pc2er/logs</code>"
            ]
          },
          "metadata": {}
        },
        {
          "output_type": "stream",
          "name": "stderr",
          "text": [
            "\u001b[34m\u001b[1mwandb\u001b[0m: Agent Starting Run: m2zb5do0 with config:\n",
            "\u001b[34m\u001b[1mwandb\u001b[0m: \tactivation_fn: GELU\n",
            "\u001b[34m\u001b[1mwandb\u001b[0m: \tbatch_size: 64\n",
            "\u001b[34m\u001b[1mwandb\u001b[0m: \tconv_filters: [64, 64, 64, 64, 64]\n",
            "\u001b[34m\u001b[1mwandb\u001b[0m: \tdata_augmentation: no\n",
            "\u001b[34m\u001b[1mwandb\u001b[0m: \tdata_dir: /content/inaturalist_12K\n",
            "\u001b[34m\u001b[1mwandb\u001b[0m: \tdense_units: 512\n",
            "\u001b[34m\u001b[1mwandb\u001b[0m: \tdropout: 0.3\n",
            "\u001b[34m\u001b[1mwandb\u001b[0m: \tepochs: 10\n",
            "\u001b[34m\u001b[1mwandb\u001b[0m: \tkernel_sizes: [3, 3, 3, 3, 3]\n",
            "\u001b[34m\u001b[1mwandb\u001b[0m: \tlr: 0.0005218821522417687\n"
          ]
        },
        {
          "output_type": "display_data",
          "data": {
            "text/plain": [
              "<IPython.core.display.HTML object>"
            ],
            "text/html": [
              "Tracking run with wandb version 0.19.9"
            ]
          },
          "metadata": {}
        },
        {
          "output_type": "display_data",
          "data": {
            "text/plain": [
              "<IPython.core.display.HTML object>"
            ],
            "text/html": [
              "Run data is saved locally in <code>/content/wandb/run-20250418_225044-m2zb5do0</code>"
            ]
          },
          "metadata": {}
        },
        {
          "output_type": "display_data",
          "data": {
            "text/plain": [
              "<IPython.core.display.HTML object>"
            ],
            "text/html": [
              "Syncing run <strong><a href='https://wandb.ai/me21b164-indian-institute-of-technology-madras/A2/runs/m2zb5do0' target=\"_blank\">colorful-sweep-18</a></strong> to <a href='https://wandb.ai/me21b164-indian-institute-of-technology-madras/A2' target=\"_blank\">Weights & Biases</a> (<a href='https://wandb.me/developer-guide' target=\"_blank\">docs</a>)<br>Sweep page: <a href='https://wandb.ai/me21b164-indian-institute-of-technology-madras/A2/sweeps/65nw10d9' target=\"_blank\">https://wandb.ai/me21b164-indian-institute-of-technology-madras/A2/sweeps/65nw10d9</a>"
            ]
          },
          "metadata": {}
        },
        {
          "output_type": "display_data",
          "data": {
            "text/plain": [
              "<IPython.core.display.HTML object>"
            ],
            "text/html": [
              " View project at <a href='https://wandb.ai/me21b164-indian-institute-of-technology-madras/A2' target=\"_blank\">https://wandb.ai/me21b164-indian-institute-of-technology-madras/A2</a>"
            ]
          },
          "metadata": {}
        },
        {
          "output_type": "display_data",
          "data": {
            "text/plain": [
              "<IPython.core.display.HTML object>"
            ],
            "text/html": [
              " View sweep at <a href='https://wandb.ai/me21b164-indian-institute-of-technology-madras/A2/sweeps/65nw10d9' target=\"_blank\">https://wandb.ai/me21b164-indian-institute-of-technology-madras/A2/sweeps/65nw10d9</a>"
            ]
          },
          "metadata": {}
        },
        {
          "output_type": "display_data",
          "data": {
            "text/plain": [
              "<IPython.core.display.HTML object>"
            ],
            "text/html": [
              " View run at <a href='https://wandb.ai/me21b164-indian-institute-of-technology-madras/A2/runs/m2zb5do0' target=\"_blank\">https://wandb.ai/me21b164-indian-institute-of-technology-madras/A2/runs/m2zb5do0</a>"
            ]
          },
          "metadata": {}
        },
        {
          "output_type": "stream",
          "name": "stderr",
          "text": [
            "Epoch 1 [Train]: 100%|██████████| 63/63 [00:41<00:00,  1.53it/s]\n",
            "Epoch 1 [Val]: 100%|██████████| 16/16 [00:08<00:00,  1.95it/s]\n",
            "Epoch 2 [Train]: 100%|██████████| 63/63 [00:41<00:00,  1.51it/s]\n",
            "Epoch 2 [Val]: 100%|██████████| 16/16 [00:09<00:00,  1.66it/s]\n",
            "Epoch 3 [Train]: 100%|██████████| 63/63 [00:43<00:00,  1.46it/s]\n",
            "Epoch 3 [Val]: 100%|██████████| 16/16 [00:09<00:00,  1.70it/s]\n",
            "Epoch 4 [Train]: 100%|██████████| 63/63 [00:41<00:00,  1.51it/s]\n",
            "Epoch 4 [Val]: 100%|██████████| 16/16 [00:08<00:00,  1.81it/s]\n",
            "Epoch 5 [Train]: 100%|██████████| 63/63 [00:42<00:00,  1.50it/s]\n",
            "Epoch 5 [Val]: 100%|██████████| 16/16 [00:08<00:00,  1.80it/s]\n",
            "Epoch 6 [Train]: 100%|██████████| 63/63 [00:43<00:00,  1.46it/s]\n",
            "Epoch 6 [Val]: 100%|██████████| 16/16 [00:09<00:00,  1.67it/s]\n",
            "Epoch 7 [Train]: 100%|██████████| 63/63 [00:41<00:00,  1.51it/s]\n",
            "Epoch 7 [Val]: 100%|██████████| 16/16 [00:09<00:00,  1.70it/s]\n",
            "Epoch 8 [Train]: 100%|██████████| 63/63 [00:41<00:00,  1.53it/s]\n",
            "Epoch 8 [Val]: 100%|██████████| 16/16 [00:08<00:00,  1.93it/s]\n",
            "Epoch 9 [Train]: 100%|██████████| 63/63 [00:42<00:00,  1.48it/s]\n",
            "Epoch 9 [Val]: 100%|██████████| 16/16 [00:09<00:00,  1.70it/s]\n",
            "Epoch 10 [Train]: 100%|██████████| 63/63 [00:41<00:00,  1.53it/s]\n",
            "Epoch 10 [Val]: 100%|██████████| 16/16 [00:08<00:00,  1.82it/s]\n"
          ]
        },
        {
          "output_type": "display_data",
          "data": {
            "text/plain": [
              "<IPython.core.display.HTML object>"
            ],
            "text/html": []
          },
          "metadata": {}
        },
        {
          "output_type": "display_data",
          "data": {
            "text/plain": [
              "<IPython.core.display.HTML object>"
            ],
            "text/html": [
              "<br>    <style><br>        .wandb-row {<br>            display: flex;<br>            flex-direction: row;<br>            flex-wrap: wrap;<br>            justify-content: flex-start;<br>            width: 100%;<br>        }<br>        .wandb-col {<br>            display: flex;<br>            flex-direction: column;<br>            flex-basis: 100%;<br>            flex: 1;<br>            padding: 10px;<br>        }<br>    </style><br><div class=\"wandb-row\"><div class=\"wandb-col\"><h3>Run history:</h3><br/><table class=\"wandb\"><tr><td>epoch</td><td>▁▂▃▃▄▅▆▆▇█</td></tr><tr><td>train_accuracy</td><td>▁▂▃▄▅▆▆▇▇█</td></tr><tr><td>train_loss</td><td>█▇▆▅▄▄▃▃▂▁</td></tr><tr><td>val_accuracy</td><td>▁▃▄▅▅▇▆▇█▇</td></tr><tr><td>val_loss</td><td>█▆▅▄▃▂▁▁▂▂</td></tr></table><br/></div><div class=\"wandb-col\"><h3>Run summary:</h3><br/><table class=\"wandb\"><tr><td>epoch</td><td>10</td></tr><tr><td>train_accuracy</td><td>0.43172</td></tr><tr><td>train_loss</td><td>1.61158</td></tr><tr><td>val_accuracy</td><td>0.36543</td></tr><tr><td>val_loss</td><td>1.87764</td></tr></table><br/></div></div>"
            ]
          },
          "metadata": {}
        },
        {
          "output_type": "display_data",
          "data": {
            "text/plain": [
              "<IPython.core.display.HTML object>"
            ],
            "text/html": [
              " View run <strong style=\"color:#cdcd00\">colorful-sweep-18</strong> at: <a href='https://wandb.ai/me21b164-indian-institute-of-technology-madras/A2/runs/m2zb5do0' target=\"_blank\">https://wandb.ai/me21b164-indian-institute-of-technology-madras/A2/runs/m2zb5do0</a><br> View project at: <a href='https://wandb.ai/me21b164-indian-institute-of-technology-madras/A2' target=\"_blank\">https://wandb.ai/me21b164-indian-institute-of-technology-madras/A2</a><br>Synced 5 W&B file(s), 0 media file(s), 0 artifact file(s) and 0 other file(s)"
            ]
          },
          "metadata": {}
        },
        {
          "output_type": "display_data",
          "data": {
            "text/plain": [
              "<IPython.core.display.HTML object>"
            ],
            "text/html": [
              "Find logs at: <code>./wandb/run-20250418_225044-m2zb5do0/logs</code>"
            ]
          },
          "metadata": {}
        },
        {
          "output_type": "stream",
          "name": "stderr",
          "text": [
            "\u001b[34m\u001b[1mwandb\u001b[0m: Agent Starting Run: 14wao7y8 with config:\n",
            "\u001b[34m\u001b[1mwandb\u001b[0m: \tactivation_fn: SiLU\n",
            "\u001b[34m\u001b[1mwandb\u001b[0m: \tbatch_size: 32\n",
            "\u001b[34m\u001b[1mwandb\u001b[0m: \tconv_filters: [64, 64, 64, 64, 64]\n",
            "\u001b[34m\u001b[1mwandb\u001b[0m: \tdata_augmentation: no\n",
            "\u001b[34m\u001b[1mwandb\u001b[0m: \tdata_dir: /content/inaturalist_12K\n",
            "\u001b[34m\u001b[1mwandb\u001b[0m: \tdense_units: 256\n",
            "\u001b[34m\u001b[1mwandb\u001b[0m: \tdropout: 0.5\n",
            "\u001b[34m\u001b[1mwandb\u001b[0m: \tepochs: 10\n",
            "\u001b[34m\u001b[1mwandb\u001b[0m: \tkernel_sizes: [3, 3, 3, 3, 3]\n",
            "\u001b[34m\u001b[1mwandb\u001b[0m: \tlr: 0.0006717255301094951\n"
          ]
        },
        {
          "output_type": "display_data",
          "data": {
            "text/plain": [
              "<IPython.core.display.HTML object>"
            ],
            "text/html": [
              "Tracking run with wandb version 0.19.9"
            ]
          },
          "metadata": {}
        },
        {
          "output_type": "display_data",
          "data": {
            "text/plain": [
              "<IPython.core.display.HTML object>"
            ],
            "text/html": [
              "Run data is saved locally in <code>/content/wandb/run-20250418_225920-14wao7y8</code>"
            ]
          },
          "metadata": {}
        },
        {
          "output_type": "display_data",
          "data": {
            "text/plain": [
              "<IPython.core.display.HTML object>"
            ],
            "text/html": [
              "Syncing run <strong><a href='https://wandb.ai/me21b164-indian-institute-of-technology-madras/A2/runs/14wao7y8' target=\"_blank\">dandy-sweep-19</a></strong> to <a href='https://wandb.ai/me21b164-indian-institute-of-technology-madras/A2' target=\"_blank\">Weights & Biases</a> (<a href='https://wandb.me/developer-guide' target=\"_blank\">docs</a>)<br>Sweep page: <a href='https://wandb.ai/me21b164-indian-institute-of-technology-madras/A2/sweeps/65nw10d9' target=\"_blank\">https://wandb.ai/me21b164-indian-institute-of-technology-madras/A2/sweeps/65nw10d9</a>"
            ]
          },
          "metadata": {}
        },
        {
          "output_type": "display_data",
          "data": {
            "text/plain": [
              "<IPython.core.display.HTML object>"
            ],
            "text/html": [
              " View project at <a href='https://wandb.ai/me21b164-indian-institute-of-technology-madras/A2' target=\"_blank\">https://wandb.ai/me21b164-indian-institute-of-technology-madras/A2</a>"
            ]
          },
          "metadata": {}
        },
        {
          "output_type": "display_data",
          "data": {
            "text/plain": [
              "<IPython.core.display.HTML object>"
            ],
            "text/html": [
              " View sweep at <a href='https://wandb.ai/me21b164-indian-institute-of-technology-madras/A2/sweeps/65nw10d9' target=\"_blank\">https://wandb.ai/me21b164-indian-institute-of-technology-madras/A2/sweeps/65nw10d9</a>"
            ]
          },
          "metadata": {}
        },
        {
          "output_type": "display_data",
          "data": {
            "text/plain": [
              "<IPython.core.display.HTML object>"
            ],
            "text/html": [
              " View run at <a href='https://wandb.ai/me21b164-indian-institute-of-technology-madras/A2/runs/14wao7y8' target=\"_blank\">https://wandb.ai/me21b164-indian-institute-of-technology-madras/A2/runs/14wao7y8</a>"
            ]
          },
          "metadata": {}
        },
        {
          "output_type": "stream",
          "name": "stderr",
          "text": [
            "Epoch 1 [Train]: 100%|██████████| 125/125 [00:43<00:00,  2.87it/s]\n",
            "Epoch 1 [Val]: 100%|██████████| 32/32 [00:09<00:00,  3.38it/s]\n",
            "Epoch 2 [Train]: 100%|██████████| 125/125 [00:41<00:00,  2.98it/s]\n",
            "Epoch 2 [Val]: 100%|██████████| 32/32 [00:07<00:00,  4.01it/s]\n",
            "Epoch 3 [Train]: 100%|██████████| 125/125 [00:42<00:00,  2.96it/s]\n",
            "Epoch 3 [Val]: 100%|██████████| 32/32 [00:09<00:00,  3.44it/s]\n",
            "Epoch 4 [Train]: 100%|██████████| 125/125 [00:43<00:00,  2.89it/s]\n",
            "Epoch 4 [Val]: 100%|██████████| 32/32 [00:09<00:00,  3.42it/s]\n",
            "Epoch 5 [Train]: 100%|██████████| 125/125 [00:42<00:00,  2.96it/s]\n",
            "Epoch 5 [Val]: 100%|██████████| 32/32 [00:08<00:00,  3.92it/s]\n",
            "Epoch 6 [Train]:  34%|███▍      | 43/125 [00:14<00:33,  2.44it/s]"
          ]
        }
      ]
    },
    {
      "cell_type": "markdown",
      "source": [
        "## **Best Model**"
      ],
      "metadata": {
        "id": "o06VG1FBE6o0"
      }
    },
    {
      "cell_type": "markdown",
      "source": [
        "Selecting configuration of the best performing model to report accuracy of test data set"
      ],
      "metadata": {
        "id": "baOkT3hSNrFc"
      }
    },
    {
      "cell_type": "code",
      "source": [
        "import wandb\n",
        "\n",
        "api = wandb.Api()\n",
        "sweep = api.sweep('me21b164-indian-institute-of-technology-madras/A2/sweeps/65nw10d9')\n",
        "best_run = max(sweep.runs, key=lambda run: run.summary.get('val_accuracy', 0))\n",
        "best_config = best_run.config\n",
        "\n",
        "\n",
        "def load_data_with_test(data_dir, batch_size, val_split=0.2):\n",
        "    transform = transforms.Compose([\n",
        "        transforms.Resize((224, 224)),\n",
        "        transforms.ToTensor()\n",
        "    ])\n",
        "\n",
        "    full_dataset = datasets.ImageFolder(os.path.join(data_dir, 'train'), transform=transform)\n",
        "    targets = [label for _, label in full_dataset.imgs]\n",
        "\n",
        "    splitter = StratifiedShuffleSplit(n_splits=1, test_size=val_split, random_state=42)\n",
        "    train_idx, val_idx = next(splitter.split(full_dataset.imgs, targets))\n",
        "\n",
        "    train_subset = Subset(full_dataset, train_idx)\n",
        "    val_subset = Subset(full_dataset, val_idx)\n",
        "\n",
        "    train_loader = DataLoader(train_subset, batch_size=batch_size, shuffle=True)\n",
        "    val_loader = DataLoader(val_subset, batch_size=batch_size, shuffle=False)\n",
        "\n",
        "    test_dataset = datasets.ImageFolder(os.path.join(data_dir, 'val'), transform=transform)\n",
        "    test_loader = DataLoader(test_dataset, batch_size=batch_size, shuffle=False)\n",
        "\n",
        "    return train_loader, val_loader, test_loader, test_dataset.classes\n",
        "\n",
        "\n",
        "device = torch.device(\"cuda\" if torch.cuda.is_available() else \"cpu\")\n",
        "def evaluate_on_test(config):\n",
        "\n",
        "\n",
        "    model = FlexibleCNN(\n",
        "        conv_filters=config['conv_filters'],\n",
        "        kernel_sizes=config['kernel_sizes'],\n",
        "        activation_fn_str=config['activation_fn'],\n",
        "        dense_units=config['dense_units'],\n",
        "        dropout_rate=config['dropout'],\n",
        "        num_classes=10\n",
        "    ).to(device)\n",
        "\n",
        "    _, _, test_loader, class_names = load_data_with_test(config['data_dir'], config['batch_size'])\n",
        "\n",
        "    model.eval()\n",
        "    total_test_acc = 0\n",
        "    predictions = []\n",
        "    images = []\n",
        "    labels = []\n",
        "\n",
        "    with torch.no_grad():\n",
        "        for batch in test_loader:\n",
        "            inputs, targets = batch[0].to(device), batch[1].to(device)\n",
        "            outputs = model(inputs)\n",
        "            total_test_acc += accuracy(outputs, targets)\n",
        "\n",
        "            _, preds = torch.max(outputs, 1)\n",
        "            predictions.extend(preds.cpu().numpy())\n",
        "            images.extend(inputs.cpu())\n",
        "            labels.extend(targets.cpu().numpy())\n",
        "\n",
        "    test_acc = total_test_acc / len(test_loader)\n",
        "    print(f\"Test Accuracy: {test_acc:.4f}\")\n",
        "\n",
        "    return test_acc, images, predictions, labels, class_names\n",
        "\n",
        "\n",
        "test_acc, test_images, test_preds, test_labels, class_names = evaluate_on_test(best_config)"
      ],
      "metadata": {
        "colab": {
          "base_uri": "https://localhost:8080/"
        },
        "id": "ROBaNo8RdDD8",
        "outputId": "91f840d1-c65d-4074-d005-86f45ff02be6"
      },
      "execution_count": 24,
      "outputs": [
        {
          "output_type": "stream",
          "name": "stdout",
          "text": [
            "Test Accuracy: 0.0977\n"
          ]
        }
      ]
    },
    {
      "cell_type": "markdown",
      "source": [
        "## **Display (10x3) Grid**"
      ],
      "metadata": {
        "id": "5RwSMaQlNU6J"
      }
    },
    {
      "cell_type": "code",
      "source": [
        "import os\n",
        "import torch\n",
        "import random\n",
        "import matplotlib.pyplot as plt\n",
        "from PIL import Image\n",
        "import wandb\n",
        "\n",
        "transform = transforms.Compose([\n",
        "    transforms.Resize((256,256)),\n",
        "\n",
        "    transforms.ToTensor(),\n",
        "\n",
        "    transforms.Normalize(mean=[0.485, 0.456, 0.406],\n",
        "                        std=[0.229, 0.224, 0.225])\n",
        "])\n",
        "\n",
        "# Define class labels\n",
        "labels = [\"Amphibia\", \"Animalia\", \"Arachnida\", \"Aves\", \"Fungi\",\n",
        "          \"Insecta\", \"Mammalia\", \"Mollusca\", \"Plantae\", \"Reptilia\"]\n",
        "\n",
        "# Device selection\n",
        "device = torch.device(\"cuda:0\" if torch.cuda.is_available() else \"cpu\")\n",
        "\n",
        "#Best Model Configuration\n",
        "model = FlexibleCNN(\n",
        "    conv_filters=[64, 64, 64, 64, 64],\n",
        "    kernel_sizes=[3, 3, 3, 3, 3],\n",
        "    activation_fn_str='GELU',\n",
        "    dense_units=256,\n",
        "    dropout_rate=0.3,\n",
        "    num_classes=10\n",
        ").to(device)\n",
        "\n",
        "\n",
        "# Transform for resizing, converting to tensor, and normalizing\n",
        "transform = transforms.Compose([\n",
        "    transforms.Resize((256, 256)),\n",
        "    transforms.ToTensor(),\n",
        "    transforms.Normalize(mean=[0.485, 0.456, 0.406], std=[0.229, 0.224, 0.225])\n",
        "])\n",
        "\n",
        "# Create a 10x3 grid for plotting\n",
        "fig, axes = plt.subplots(nrows=10, ncols=3, figsize=(8, 16))\n",
        "j = -1\n",
        "\n",
        "# Loop through the grid and plot images and predictions\n",
        "for i, ax in enumerate(axes.flat):\n",
        "    if i % 3 == 0:\n",
        "        j += 1\n",
        "\n",
        "    # Load a random image from the respective class folder\n",
        "    folder_path = f\"/content/inaturalist_12K/train/{labels[j]}\"\n",
        "    file_list = [f for f in os.listdir(folder_path) if os.path.isfile(os.path.join(folder_path, f))]\n",
        "    random_file = random.choice(file_list)\n",
        "    image_path = os.path.join(folder_path, random_file)\n",
        "\n",
        "    # Load and transform the image\n",
        "    image = Image.open(image_path).convert(\"RGB\")\n",
        "    image_t = transform(image).unsqueeze(0).to(device)  # Add batch dimension\n",
        "\n",
        "    # Get model prediction\n",
        "    with torch.no_grad():\n",
        "        output = model(image_t)\n",
        "        probs = torch.sigmoid(output).cpu().squeeze()  # Sigmoid for multi-label output\n",
        "\n",
        "    # Set a threshold for predicting labels (e.g., 0.5)\n",
        "    threshold = 0.5\n",
        "    predicted_labels = [labels[idx] for idx, prob in enumerate(probs) if prob >= threshold]\n",
        "    predicted_text = \", \".join(predicted_labels) if predicted_labels else \"None\"\n",
        "\n",
        "    # Plot the image\n",
        "    ax.imshow(image)\n",
        "    ax.axis(\"off\")\n",
        "    ax.set_ylabel(f'Actual: {labels[j]}', fontsize=9)\n",
        "    ax.set_title(f'Predicted: {predicted_text}', fontsize=8)\n",
        "\n",
        "# Adjust layout and display the plot\n",
        "plt.tight_layout()\n",
        "wandb.log({\"Prediction Grid\": wandb.Image(plt)})  # Log to wandb"
      ],
      "metadata": {
        "id": "NuIMvu0TyovA"
      },
      "execution_count": null,
      "outputs": []
    }
  ]
}